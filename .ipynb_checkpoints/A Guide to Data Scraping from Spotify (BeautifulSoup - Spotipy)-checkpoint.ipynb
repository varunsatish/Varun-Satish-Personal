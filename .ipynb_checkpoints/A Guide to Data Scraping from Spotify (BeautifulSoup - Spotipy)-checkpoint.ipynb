{
 "cells": [
  {
   "cell_type": "code",
   "execution_count": 21,
   "metadata": {
    "collapsed": true
   },
   "outputs": [],
   "source": [
    "import spotipy\n",
    "import sys\n",
    "sp = spotipy.Spotify()\n",
    "import spotipy.util as util\n",
    "import pandas as pd\n",
    "\n",
    "import pandas as pd\n",
    "import urllib\n",
    "from bs4 import BeautifulSoup\n",
    "import lxml\n",
    "\n",
    "import re"
   ]
  },
  {
   "cell_type": "markdown",
   "metadata": {},
   "source": [
    "# Spotify Data Scraping, A Quick Guide\n",
    "\n",
    "The goal of this tutorial  is to show you how you can use Python to analyse data relating to music that is streamed from spotify. This tutorial makes use of a couple of important packages, 'Beautiful Soup' and 'Spotipy'. Whilst there are many tutorials floating around the web that are aimed at showing us how you can use this packages to link with apps and dashboards, there isn't really anything for the purposes of data analysis. So here it is !\n",
    "\n",
    "## Audio Features\n",
    "There is an interesting element to the Spotify API and that is that tracks that are featured on the music sharing service actually have 'features' such as 'danceability','liveness' and 'loudness' attached to them. The meaning of these features is in the link provided, below we have some code that will allow us to extract these features.\n",
    "\n",
    "https://beta.developer.spotify.com/documentation/web-api/reference/tracks/get-several-audio-features/\n",
    "\n"
   ]
  },
  {
   "cell_type": "markdown",
   "metadata": {},
   "source": [
    "## Authentication\n",
    "In order to gain access to the Spotify API we need to authorise the client. Visit this link: https://beta.developer.spotify.com/documentation/general/guides/authorization-guide/ to obtain a 'client credentials flow'. That is where the client id numbers come from."
   ]
  },
  {
   "cell_type": "code",
   "execution_count": 3,
   "metadata": {
    "collapsed": true
   },
   "outputs": [],
   "source": [
    "#in order to gain accesss to spotify API we needed to authorise client \n",
    "\n",
    "from spotipy.oauth2 import SpotifyClientCredentials\n",
    "\n",
    "client_credentials_manager = SpotifyClientCredentials(client_id='a04614d3530b4d44b45fa7da39c576c0', client_secret='082376f38e3645238d96a72a3f317757')\n",
    "sp = spotipy.Spotify(client_credentials_manager=client_credentials_manager)\n"
   ]
  },
  {
   "cell_type": "markdown",
   "metadata": {},
   "source": [
    "## Spotify URIs\n",
    "\n",
    "Spotify identifies it's songs, artists, albums and even playlists through objects known as Uniform Resource identifiers or URIs. Each of the items listed above has attached to it a unique URI. These URIs are an important object because they allow us to identify items within Spotify and access data. For example Kanye West's unique artist URI is: spotify:artist:5K4W6rqBFWDnAN6FQUkS6x, and as we will see below, using this URI we are able to create a list of all of Kanye West's albums"
   ]
  },
  {
   "cell_type": "code",
   "execution_count": 4,
   "metadata": {},
   "outputs": [
    {
     "name": "stdout",
     "output_type": "stream",
     "text": [
      "KIDS SEE GHOSTS\n",
      "ye\n",
      "The Life Of Pablo\n",
      "Yeezus\n",
      "My Beautiful Dark Twisted Fantasy\n",
      "My Beautiful Dark Twisted Fantasy\n",
      "Graduation\n",
      "808s & Heartbreak (Softpak)\n",
      "808s & Heartbreak\n",
      "808s & Heartbreak (UK Version)\n",
      "Graduation (French Limited Version)\n",
      "Graduation\n",
      "Graduation (Exclusive Edition)\n",
      "Graduation (UK Version)\n",
      "Graduation\n",
      "Graduation (Exclusive Edition)\n",
      "Graduation\n",
      "Graduation (Alternative Business Partners)\n",
      "Late Orchestration\n",
      "Late Registration\n",
      "Late Registration\n",
      "Late Registration\n",
      "The College Dropout\n",
      "The College Dropout\n",
      "The College Dropout (Edited)\n"
     ]
    }
   ],
   "source": [
    "#creates a list of all of Kanye West's albums\n",
    "\n",
    "kanye_west = 'spotify:artist:5K4W6rqBFWDnAN6FQUkS6x'\n",
    "\n",
    "results = sp.artist_albums(kanye_west, album_type = 'album')\n",
    "albums = results['items']\n",
    "while results['next']:\n",
    "    results = sp.next(results)\n",
    "    albums.extend(results['items'])\n",
    "\n",
    "for album in albums: \n",
    "       print(album['name'])"
   ]
  },
  {
   "cell_type": "markdown",
   "metadata": {},
   "source": [
    "The problem with URIs is that we need to individually enter them as a string as the argument of some function that Spotipy allows us to use. This is really impractical. Imagine for example, you wanted to find information regarding the songs of each of these albums, that is a lot of URIs, and recovering them individually requires you to right click on an artist/song/playlist within the app and 'copy' the URI. So, we want to use a method which is a little more efficient, and that's where the data scraping comes in."
   ]
  },
  {
   "cell_type": "markdown",
   "metadata": {},
   "source": [
    "## Data Scraping\n",
    "\n",
    "To demonstrate, I am going to find all of the songs in DZ Deathray's 'Total Meltdown' (great album), and am going to extract data regarding those internal Spotify 'audio features' I talked about earlier. Note that the link that I am using is not from the desktop app, but from Spotify's online app (just google Spotify online) this is an important difference as our webscraper is designed for website URLs."
   ]
  },
  {
   "cell_type": "code",
   "execution_count": 5,
   "metadata": {
    "collapsed": true
   },
   "outputs": [],
   "source": [
    "link = \"https://open.spotify.com/album/3UFYpiUu30pfh8qg24JfVG\" #this is the URI of the album"
   ]
  },
  {
   "cell_type": "markdown",
   "metadata": {},
   "source": [
    "This is a webscraper, what it does is takes URL links and then 'parses' them. Parsing is a process whereby some object is taken and it's useful data, extracted. With HTML parsing, what we are doing is reading a webpage and extracting the data in a way that allows us to use information on the page meaningfully."
   ]
  },
  {
   "cell_type": "code",
   "execution_count": 6,
   "metadata": {
    "collapsed": true
   },
   "outputs": [],
   "source": [
    "page = urllib.request.urlopen(link)\n",
    "soup = BeautifulSoup(page, \"lxml\")\n",
    "#print(soup.prettify());"
   ]
  },
  {
   "cell_type": "markdown",
   "metadata": {},
   "source": [
    "Note that here, the information in the link is now manageable, it is split into 'tags' which demarcate certain groupings of text on the page, in this way we are able to access parts of the text by calling the tag that is attached to it. For example the find_all function and the \"div\" tag show us:"
   ]
  },
  {
   "cell_type": "code",
   "execution_count": 7,
   "metadata": {
    "collapsed": true
   },
   "outputs": [],
   "source": [
    "#soup.find_all(\"div\");"
   ]
  },
  {
   "cell_type": "markdown",
   "metadata": {},
   "source": [
    "There are tags that are likely to contain your data, and the following link will help you figure out which tags those may be https://www.w3schools.com/tags/ref_byfunc.asp. You can however, also do this by brute force, having a look through the data and seeing what patterns occur in terms of tags and what it is that you are looking for.\n",
    "\n",
    "For example, I noticed that the \"span\" tag was attached to the text that contained the names of the songs. I also saw that the 'class' of what I was looking for was the 'track-name', which is where the second part of the find_all function comes from. The for loop is essentially going through the above text and returning the raw track names. The text.strip function is useful for this sort of stuff because it 'strips' the text of uncessary preffixes and suffixes that usually are associated with HTMl text."
   ]
  },
  {
   "cell_type": "code",
   "execution_count": 8,
   "metadata": {},
   "outputs": [
    {
     "name": "stdout",
     "output_type": "stream",
     "text": [
      "['Shred For Summer', 'Total Meltdown', 'Feeling Good, Feeling Great', 'Like People', 'High', 'Guillotine', 'Bad Influence', 'Over It', 'Back & Forth', 'Afterglow', 'Witchcraft Pt. II']\n"
     ]
    }
   ],
   "source": [
    "#obtaining the titles\n",
    "\n",
    "title_DZ = []\n",
    "\n",
    "for tag in soup.find_all('span',{'class':'track-name'}):\n",
    "    title_DZ.append(tag.text.strip())\n",
    "\n",
    "print(title_DZ)"
   ]
  },
  {
   "cell_type": "markdown",
   "metadata": {},
   "source": [
    "Similarly, we can obtain the duration of these songs."
   ]
  },
  {
   "cell_type": "code",
   "execution_count": 9,
   "metadata": {
    "collapsed": true
   },
   "outputs": [],
   "source": [
    "#obtaining the song lengths\n",
    "\n",
    "time_DZ = []\n",
    "\n",
    "for tag in soup.findAll('span',{'class':'total-duration'}):\n",
    "    time_DZ.append(tag.text.strip())"
   ]
  },
  {
   "cell_type": "markdown",
   "metadata": {},
   "source": [
    "## Obtaining the URIs\n",
    "\n",
    "**Disclaimer**: There are probably more elegant solutions to this problem, and I am not claiming to have figured out the most efficient way of doing this, but sometimes data analysis is about getting your hands dirty - an ugly solution to a problem is better than no solution to a problem.\n",
    "\n",
    "After obtaining all of the album names, I used the 'Spotipy' package (more information on documentation: http://spotipy.readthedocs.io/en/latest/) to extract a string that contained information about each song. From this, using the fact that all URIs have a common trait (begining with \"spotify:track\"), you are able to loop through this string (for each song in the album) in order to obtain the URI for each of these songs."
   ]
  },
  {
   "cell_type": "code",
   "execution_count": 11,
   "metadata": {
    "collapsed": true
   },
   "outputs": [],
   "source": [
    "#obtaining URIS\n",
    "\n",
    "URI_DZ = []\n",
    "new_name = []\n",
    "new_URI = []\n",
    "artist = \"DZ Deathrays\"\n",
    "album = \"Total Meltdown\"\n",
    "\n",
    "\n",
    "for title in title_DZ: #iterates through the list of titles we have obtained\n",
    "    search_query = title + ' ' + artist\n",
    "    result = sp.search(search_query)\n",
    "    #for each title we have a string that contains information about the song\n",
    "    result_string = str(result).rsplit(' ') #split allows us to split the entire string into substrings (each word rather than one big one)\n",
    "    for string in result_string:\n",
    "        if 'spotify:track' in string: #because uris are attached to this substring, any string that contains this will be put into our list\n",
    "            #if the string contains\n",
    "            string = string.replace('}],', '') #getting rid of unwanted suffixes which don't allow us to use the strings in a function\n",
    "            string = string.replace('},', '')\n",
    "            string = string.replace('\\'', '')\n",
    "            URI_DZ.append(string)\n",
    "            for i in range(len(URI_DZ)):\n",
    "                new_name.append(sp.track(URI_DZ[i])['name'])\n",
    "            for i in range(len(URI_DZ)):\n",
    "                new_URI.append(sp.track(URI_DZ[i])['uri'])\n",
    "        \n",
    "DZ_Deathrays = pd.DataFrame(\n",
    "    {'Track Name': new_name,\n",
    "     'URI': new_URI\n",
    "    })\n",
    "\n"
   ]
  },
  {
   "cell_type": "code",
   "execution_count": 12,
   "metadata": {
    "collapsed": true
   },
   "outputs": [],
   "source": [
    "DZ_Deathrays = pd.DataFrame(\n",
    "    {'Track Name': title_DZ,\n",
    "     'Length': time_DZ,\n",
    "    })"
   ]
  },
  {
   "cell_type": "code",
   "execution_count": 13,
   "metadata": {},
   "outputs": [
    {
     "data": {
      "text/plain": [
       "{'tracks': {'href': 'https://api.spotify.com/v1/search?query=name%3ADZ+Deathrays%26type%3Dalbum&type=track&offset=0&limit=10',\n",
       "  'items': [],\n",
       "  'limit': 10,\n",
       "  'next': None,\n",
       "  'offset': 0,\n",
       "  'previous': None,\n",
       "  'total': 0}}"
      ]
     },
     "execution_count": 13,
     "metadata": {},
     "output_type": "execute_result"
    }
   ],
   "source": [
    "title = \"Shred for Summer\"\n",
    "artist = \"DZ Deathrays\"\n",
    "album = \"Bloody Lovely\"\n",
    "\n",
    "q = album\n",
    "\n",
    "\n",
    "q=\"name:DZ Deathrays&type=album\"\n",
    "    \n",
    "sp.search(q)"
   ]
  },
  {
   "cell_type": "code",
   "execution_count": 14,
   "metadata": {
    "collapsed": true
   },
   "outputs": [],
   "source": [
    "URI_DZ1 = []\n",
    "URI_DZ2 = []\n",
    "artist = \"DZ Deathrays\"\n",
    "album = \"Total Meltdown\"\n",
    "\n",
    "\n",
    "search_query = artist + ' ' \n",
    "result = sp.search(search_query)\n",
    "#for each title we have a string that contains information about the song\n",
    "result_string = str(result).rsplit(' ') #split allows us to split the entire string into substrings (each word rather than one big one)\n",
    "for string in result_string:\n",
    "        if 'spotify:track' in string: #because uris are attached to this substring, any string that contains this will be put into our list\n",
    "            #if the string contains\n",
    "            URI_DZ1.append(string)\n",
    "        if 'name' in string:\n",
    "            URI_DZ2.append(string)"
   ]
  },
  {
   "cell_type": "code",
   "execution_count": 15,
   "metadata": {
    "collapsed": true
   },
   "outputs": [],
   "source": [
    "artist = \"DZ Deathrays\" #iterates through the list of titles we have obtained\n",
    "search_query = \"Shred for Summer\" + ' ' + artist\n",
    "result_test = sp.search(search_query)"
   ]
  },
  {
   "cell_type": "code",
   "execution_count": 18,
   "metadata": {
    "collapsed": true
   },
   "outputs": [],
   "source": [
    "for i in range(0,len(result_string)):\n",
    "    if result_string[i].startswith('spotify:track'):\n",
    "        print(string)"
   ]
  },
  {
   "cell_type": "code",
   "execution_count": 20,
   "metadata": {},
   "outputs": [
    {
     "data": {
      "text/html": [
       "<div>\n",
       "<style>\n",
       "    .dataframe thead tr:only-child th {\n",
       "        text-align: right;\n",
       "    }\n",
       "\n",
       "    .dataframe thead th {\n",
       "        text-align: left;\n",
       "    }\n",
       "\n",
       "    .dataframe tbody tr th {\n",
       "        vertical-align: top;\n",
       "    }\n",
       "</style>\n",
       "<table border=\"1\" class=\"dataframe\">\n",
       "  <thead>\n",
       "    <tr style=\"text-align: right;\">\n",
       "      <th></th>\n",
       "      <th>Length</th>\n",
       "      <th>Track Name</th>\n",
       "    </tr>\n",
       "  </thead>\n",
       "  <tbody>\n",
       "    <tr>\n",
       "      <th>0</th>\n",
       "      <td>3:59</td>\n",
       "      <td>Shred For Summer</td>\n",
       "    </tr>\n",
       "    <tr>\n",
       "      <th>1</th>\n",
       "      <td>3:04</td>\n",
       "      <td>Total Meltdown</td>\n",
       "    </tr>\n",
       "    <tr>\n",
       "      <th>2</th>\n",
       "      <td>3:18</td>\n",
       "      <td>Feeling Good, Feeling Great</td>\n",
       "    </tr>\n",
       "    <tr>\n",
       "      <th>3</th>\n",
       "      <td>4:01</td>\n",
       "      <td>Like People</td>\n",
       "    </tr>\n",
       "    <tr>\n",
       "      <th>4</th>\n",
       "      <td>3:24</td>\n",
       "      <td>High</td>\n",
       "    </tr>\n",
       "    <tr>\n",
       "      <th>5</th>\n",
       "      <td>2:11</td>\n",
       "      <td>Guillotine</td>\n",
       "    </tr>\n",
       "    <tr>\n",
       "      <th>6</th>\n",
       "      <td>1:10</td>\n",
       "      <td>Bad Influence</td>\n",
       "    </tr>\n",
       "    <tr>\n",
       "      <th>7</th>\n",
       "      <td>3:30</td>\n",
       "      <td>Over It</td>\n",
       "    </tr>\n",
       "    <tr>\n",
       "      <th>8</th>\n",
       "      <td>3:17</td>\n",
       "      <td>Back &amp; Forth</td>\n",
       "    </tr>\n",
       "    <tr>\n",
       "      <th>9</th>\n",
       "      <td>3:30</td>\n",
       "      <td>Afterglow</td>\n",
       "    </tr>\n",
       "    <tr>\n",
       "      <th>10</th>\n",
       "      <td>5:36</td>\n",
       "      <td>Witchcraft Pt. II</td>\n",
       "    </tr>\n",
       "  </tbody>\n",
       "</table>\n",
       "</div>"
      ],
      "text/plain": [
       "   Length                   Track Name\n",
       "0    3:59             Shred For Summer\n",
       "1    3:04               Total Meltdown\n",
       "2    3:18  Feeling Good, Feeling Great\n",
       "3    4:01                  Like People\n",
       "4    3:24                         High\n",
       "5    2:11                   Guillotine\n",
       "6    1:10                Bad Influence\n",
       "7    3:30                      Over It\n",
       "8    3:17                 Back & Forth\n",
       "9    3:30                    Afterglow\n",
       "10   5:36            Witchcraft Pt. II"
      ]
     },
     "execution_count": 20,
     "metadata": {},
     "output_type": "execute_result"
    }
   ],
   "source": [
    "DZ_Deathrays"
   ]
  }
 ],
 "metadata": {
  "kernelspec": {
   "display_name": "Python 3",
   "language": "python",
   "name": "python3"
  },
  "language_info": {
   "codemirror_mode": {
    "name": "ipython",
    "version": 3
   },
   "file_extension": ".py",
   "mimetype": "text/x-python",
   "name": "python",
   "nbconvert_exporter": "python",
   "pygments_lexer": "ipython3",
   "version": "3.6.3"
  }
 },
 "nbformat": 4,
 "nbformat_minor": 2
}
