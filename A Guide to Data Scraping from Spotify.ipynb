{
 "cells": [
  {
   "cell_type": "code",
   "execution_count": 1,
   "metadata": {
    "collapsed": true
   },
   "outputs": [],
   "source": [
    "import spotipy\n",
    "import sys\n",
    "sp = spotipy.Spotify()\n",
    "import spotipy.util as util\n",
    "import pandas as pd\n",
    "\n",
    "import pandas as pd\n",
    "import urllib\n",
    "from bs4 import BeautifulSoup\n",
    "import lxml\n",
    "\n",
    "import re"
   ]
  },
  {
   "cell_type": "markdown",
   "metadata": {},
   "source": [
    "# Spotify Data Scraping, A Quick Guide\n",
    "\n",
    "The goal of this tutorial  is to show you how you can use Python to analyse data relating to music that is streamed from spotify. This tutorial makes use of a couple of important packages, 'Beautiful Soup' and 'Spotipy'. Whilst there are many tutorials floating around the web that are aimed at showing us how you can use this packages to link with apps and dashboards, there isn't really anything for the purposes of data analysis. So here it is !\n",
    "\n",
    "## Audio Features\n",
    "There is an interesting element to the Spotify API and that is that tracks that are featured on the music sharing service actually have 'features' such as 'danceability','liveness' and 'loudness' attached to them. The meaning of these features is in the link provided, below we have some code that will allow us to extract these features.\n",
    "\n",
    "https://beta.developer.spotify.com/documentation/web-api/reference/tracks/get-several-audio-features/\n",
    "\n"
   ]
  },
  {
   "cell_type": "markdown",
   "metadata": {},
   "source": [
    "## Authentication\n",
    "In order to gain access to the Spotify API we need to authorise the client. Visit this link: https://beta.developer.spotify.com/documentation/general/guides/authorization-guide/ to obtain a 'client credentials flow'. That is where the client id numbers come from."
   ]
  },
  {
   "cell_type": "code",
   "execution_count": 2,
   "metadata": {
    "collapsed": true
   },
   "outputs": [],
   "source": [
    "#in order to gain accesss to spotify API we needed to authorise client \n",
    "\n",
    "from spotipy.oauth2 import SpotifyClientCredentials\n",
    "\n",
    "client_credentials_manager = SpotifyClientCredentials(client_id='a04614d3530b4d44b45fa7da39c576c0', client_secret='082376f38e3645238d96a72a3f317757')\n",
    "sp = spotipy.Spotify(client_credentials_manager=client_credentials_manager)\n"
   ]
  },
  {
   "cell_type": "markdown",
   "metadata": {},
   "source": [
    "## Spotify URIs\n",
    "\n",
    "Spotify identifies it's songs, artists, albums and even playlists through objects known as Uniform Resource identifiers or URIs. Each of the items listed above has attached to it a unique URI. These URIs are an important object because they allow us to identify items within Spotify and access data. For example Kanye West's unique artist URI is: spotify:artist:5K4W6rqBFWDnAN6FQUkS6x, and as we will see below, using this URI we are able to create a list of all of Kanye West's albums"
   ]
  },
  {
   "cell_type": "code",
   "execution_count": 4,
   "metadata": {
    "collapsed": true
   },
   "outputs": [],
   "source": [
    "#creates a list of all of Kanye West's albums\n",
    "\n",
    "kanye_west = 'spotify:artist:5K4W6rqBFWDnAN6FQUkS6x'\n",
    "\n",
    "results = sp.artist_albums(kanye_west, album_type = 'album')\n",
    "albums = results['items']\n",
    "while results['next']:\n",
    "    results = sp.next(results)\n",
    "    albums.extend(results['items'])\n",
    "\n",
    "for album in albums: \n",
    "       print(album['name'])"
   ]
  },
  {
   "cell_type": "markdown",
   "metadata": {},
   "source": [
    "The problem with URIs is that we need to individually enter them as a string as the argument of some function that Spotipy allows us to use. This is really impractical. Imagine for example, you wanted to find information regarding the songs of each of these albums, that is a lot of URIs, and recovering them individually requires you to right click on an artist/song/playlist within the app and 'copy' the URI. So, we want to use a method which is a little more efficient, and that's where the data scraping comes in."
   ]
  },
  {
   "cell_type": "markdown",
   "metadata": {},
   "source": [
    "## Data Scraping\n",
    "\n",
    "To demonstrate, I am going to find all of the songs in DZ Deathray's 'Total Meltdown' (great album), and am going to extract data regarding those internal Spotify 'audio features' I talked about earlier. Note that the link that I am using is not from the desktop app, but from Spotify's online app (just google Spotify online) this is an important difference as our webscraper is designed for website URLs."
   ]
  },
  {
   "cell_type": "code",
   "execution_count": 3,
   "metadata": {
    "collapsed": true
   },
   "outputs": [],
   "source": [
    "link = \"https://open.spotify.com/album/3UFYpiUu30pfh8qg24JfVG\" #this is the URI of the album"
   ]
  },
  {
   "cell_type": "markdown",
   "metadata": {},
   "source": [
    "This is a webscraper, what it does is takes URL links and then 'parses' them. Parsing is a process whereby some object is taken and it's useful data, extracted. With HTML parsing, what we are doing is reading a webpage and extracting the data in a way that allows us to use information on the page meaningfully."
   ]
  },
  {
   "cell_type": "code",
   "execution_count": 1,
   "metadata": {},
   "outputs": [
    {
     "ename": "NameError",
     "evalue": "name 'urllib' is not defined",
     "output_type": "error",
     "traceback": [
      "\u001b[0;31m---------------------------------------------------------------------------\u001b[0m",
      "\u001b[0;31mNameError\u001b[0m                                 Traceback (most recent call last)",
      "\u001b[0;32m<ipython-input-1-56457c085cbd>\u001b[0m in \u001b[0;36m<module>\u001b[0;34m()\u001b[0m\n\u001b[0;32m----> 1\u001b[0;31m \u001b[0mpage\u001b[0m \u001b[0;34m=\u001b[0m \u001b[0murllib\u001b[0m\u001b[0;34m.\u001b[0m\u001b[0mrequest\u001b[0m\u001b[0;34m.\u001b[0m\u001b[0murlopen\u001b[0m\u001b[0;34m(\u001b[0m\u001b[0mlink\u001b[0m\u001b[0;34m)\u001b[0m\u001b[0;34m\u001b[0m\u001b[0m\n\u001b[0m\u001b[1;32m      2\u001b[0m \u001b[0msoup\u001b[0m \u001b[0;34m=\u001b[0m \u001b[0mBeautifulSoup\u001b[0m\u001b[0;34m(\u001b[0m\u001b[0mpage\u001b[0m\u001b[0;34m,\u001b[0m \u001b[0;34m\"html.parser\"\u001b[0m\u001b[0;34m)\u001b[0m\u001b[0;34m\u001b[0m\u001b[0m\n\u001b[1;32m      3\u001b[0m \u001b[0mprint\u001b[0m\u001b[0;34m(\u001b[0m\u001b[0msoup\u001b[0m\u001b[0;34m.\u001b[0m\u001b[0mprettify\u001b[0m\u001b[0;34m(\u001b[0m\u001b[0;34m)\u001b[0m\u001b[0;34m)\u001b[0m\u001b[0;34m;\u001b[0m\u001b[0;34m\u001b[0m\u001b[0m\n",
      "\u001b[0;31mNameError\u001b[0m: name 'urllib' is not defined"
     ]
    }
   ],
   "source": [
    "page = urllib.request.urlopen(link)\n",
    "soup = BeautifulSoup(page, \"html.parser\")\n",
    "print(soup.prettify());"
   ]
  },
  {
   "cell_type": "markdown",
   "metadata": {},
   "source": [
    "Note that here, the information in the link is now manageable, it is split into 'tags' which demarcate certain groupings of text on the page, in this way we are able to access parts of the text by calling the tag that is attached to it. For example the find_all function and the \"div\" tag show us:"
   ]
  },
  {
   "cell_type": "code",
   "execution_count": 9,
   "metadata": {},
   "outputs": [
    {
     "data": {
      "text/plain": [
       "[<div class=\"page\"><script>\n",
       " (function() {\n",
       "     var setFont = function() {\n",
       "         document.documentElement.className += ' fonts-loaded';\n",
       "     };\n",
       "     if (document.fonts && document.fonts.load) {\n",
       "         Promise.all([\n",
       "             document.fonts.load('300 1em Circular'),\n",
       "             document.fonts.load('600 1em Circular')\n",
       "         ]).then(setFont).catch(setFont);\n",
       "     } else {\n",
       "         setFont();\n",
       "     }\n",
       " })();\n",
       " </script><svg style=\"display:none\" xmlns=\"http://www.w3.org/2000/svg\"><symbol id=\"spotify-logo\" viewbox=\"0 0 1000 300\"><path d=\"M8 147C8 65 73 0 155 0s148 65 148 147-66 148-148 148S8 229 8 147zm202 69c10 6 20-10 10-16-39-24-88-30-144-17-12 3-7 21 5 18 51-12 94-6 129 15zm15-40c13 8 25-11 12-19-46-28-112-36-166-20-14 4-7 26 7 22 47-14 107-7 147 17zM71 113c45-14 124-10 172 18 15 9 29-15 14-24-55-33-142-36-194-20-17 5-9 31 8 26zm308 4c0 9 4 13 30 19 31 8 44 19 44 40 0 25-19 42-49 42-21 0-40-8-56-22-1-1-1-1 0-2l14-17c1-1 1-1 2 0 14 12 26 17 41 17 13 0 22-6 22-15 0-8-5-13-29-19-29-7-45-16-45-41 0-24 19-40 47-40 19 0 35 5 49 16 1 1 1 2 0 3l-13 17c0 1-1 2-2 1-12-9-23-14-35-14s-20 7-20 15zm109 9c9-10 19-15 32-15 24 0 48 18 48 53s-24 54-48 54c-13 0-23-5-32-15v41c0 1-1 2-2 2h-22c-1 0-2-1-2-2V115c0-1 1-2 2-2h22c1 0 2 1 2 2v11zm27 69c16 0 27-13 27-31s-11-30-27-30-27 13-27 30 11 31 27 31zm60-30c0-30 24-54 55-54s55 23 55 53-24 54-55 54-55-23-55-53zm27-1c0 17 12 31 28 31 17 0 29-12 29-30 0-17-13-31-29-31s-28 12-28 30zm128 54c-20 0-31-10-31-31v-51h-11c-1 0-1-1-1-2v-19c0-1 0-2 1-2h11V87c0-1 1-1 2-1h23c1 0 2 0 2 1v26h25c1 0 1 1 1 2v19c0 1 0 2-1 2h-25v47c0 7 3 11 10 11 3 0 16-4 16-2v19c0 5-17 7-22 7zM865 78v19c0 3-12-1-15-1-8 0-12 5-12 14v3h39c1 0 2 0 2 1l27 70 24-70c0-1 1-1 2-1h23c1 0 2 1 2 2l-40 103c-8 21-17 29-34 29-3 0-27-4-25-9l7-17c0-1 2-2 3-1 4 2 8 4 12 4 5 0 9-2 13-10l-33-78h-21v78c0 1-1 2-2 2h-23c-1 0-1-1-1-2v-78h-11c-1 0-2-1-2-2v-20c0-1 1-1 2-1h11v-5c0-22 11-34 32-34 7 0 20 1 20 4zm-100 35h23c1 0 1 1 1 2v99c0 1 0 2-1 2h-23c-1 0-2-1-2-2v-99c0-1 1-2 2-2zm-5-29c0-9 7-16 16-16s17 7 17 16-8 16-17 16-16-7-16-16zm200 45c0-9 7-16 16-16s17 7 17 16-8 16-17 16-16-7-16-16zm2 0c0 8 6 14 14 14s15-6 15-14-7-15-15-15-14 7-14 15zm23 8h-4l-4-6h-4v6h-3v-17h7c4 0 7 2 7 5s-2 4-4 5zm-12-14v5h4c2 0 4-1 4-3s-2-2-4-2h-4z\" fill=\"currentColor\"></path></symbol><symbol id=\"icon-play\" viewbox=\"0 0 85 100\"><path d=\"M81 44.6c5 3 5 7.8 0 10.8L9 98.7c-5 3-9 .7-9-5V6.3c0-5.7 4-8 9-5l72 43.3z\" fill=\"currentColor\"></path></symbol><symbol id=\"icon-pause\" viewbox=\"0 0 60 100\"><path d=\"M0 8c0-5 3-8 8-8s9 3 9 8v84c0 5-4 8-9 8s-8-3-8-8V8zm43 0c0-5 3-8 8-8s8 3 8 8v84c0 5-3 8-8 8s-8-3-8-8V8z\" fill=\"currentColor\"></path></symbol><symbol id=\"icon-explicit\" viewbox=\"0 0 20 20\"><path d=\"M9 9V7h4V5H7v10h6v-2H9v-2h4V9H9zM0 2.994C0 1.34 1.343 0 2.994 0h14.012C18.66 0 20 1.343 20 2.994v14.012C20 18.66 18.657 20 17.006 20H2.994C1.34 20 0 18.657 0 17.006V2.994z\" fill=\"currentColor\"></path></symbol><symbol id=\"icon-close\" viewbox=\"0 0 2016 2016\"><path d=\"M1681 1512q35 35 35 84.5t-35 84.5-84.5 35-84.5-35l-504-504-504 504q-35 35-84.5 35t-84.5-35-35-84.5 35-84.5l504-504-504-504q-35-35-35-84.5t35-84.5q34-35 84-35 51 0 85 35l504 504 504-504q34-35 85-35 50 0 84 35 35 35 35 84.5t-35 84.5l-504 504 504 504z\" fill=\"currentColor\"></path></symbol></svg><div class=\"notice notice-warning padding-notch\" id=\"browser-support-notice\"><p>\n",
       "     This browser doesn't support Spotify Web Player. <a href=\"https://support.spotify.com/using_spotify/the_basics/webplayer\">Switch browsers</a> or <a href=\"https://www.spotify.com/download\">download Spotify</a> for your desktop.\n",
       "   </p></div><header style=\"background-color: #b78b76\"><div class=\"overlay\"></div><div class=\"wrapper padding-notch\"><div id=\"main-header\"><a class=\"logo-link\" href=\"/browse\"><svg><use xlink:href=\"#spotify-logo\" xmlns:xlink=\"http://www.w3.org/1999/xlink\"></use></svg></a></div><div class=\"entity \"><div class=\"entity-info media\"><div class=\"media-img\"><button aria-label=\"Play\" class=\"cover-art light shadow actionable playable-context js-cover-art js-playable \" data-preview=\"\" data-track-type=\"cover-art\" data-uri=\"spotify:album:3UFYpiUu30pfh8qg24JfVG\"><div class=\"cover-art-image\" style=\"background-image:url(//i.scdn.co/image/4db5853128f4a154fdc8e8117f85405a336818a7), linear-gradient(transparent,rgba(0,0,0,0.5)); background-color: #b78b76\"></div><div class=\"cover-art-playback\"><svg class=\"icon-play\"><use xlink:href=\"#icon-play\" xmlns:xlink=\"http://www.w3.org/1999/xlink\"></use></svg><svg class=\"icon-pause\"><use xlink:href=\"#icon-pause\" xmlns:xlink=\"http://www.w3.org/1999/xlink\"></use></svg></div></button></div><div class=\"media-bd\"><h1>Bloody Lovely</h1><h2>By <a href=\"/artist/0qGPycvPHafmEPTOm4M7Tu?\">DZ Deathrays</a></h2><p class=\"text-silence entity-additional-info\">2018 • 11 songs</p><button class=\"btn btn-green entity-cta js-action-button\" data-log-action=\"play-spotify\" data-track-type=\"button-header\"><span class=\"js-action-label\">Play on Spotify</span></button></div></div><div class=\"tracklist-container\"><ol class=\"tracklist js-track-list playable-context hide-artists\"><li class=\"tracklist-row js-track-row tracklist-row--track track-has-preview\" data-position=\"1\" role=\"button\" tabindex=\"0\"><div class=\"tracklist-col position-outer\"><div class=\"play-pause middle-align\"><svg aria-label=\"Play\" class=\"svg-play\" role=\"button\"><use xlink:href=\"#icon-play\" xmlns:xlink=\"http://www.w3.org/1999/xlink\"></use></svg><svg aria-label=\"Pause\" class=\"svg-pause\" role=\"button\"><use xlink:href=\"#icon-pause\" xmlns:xlink=\"http://www.w3.org/1999/xlink\"></use></svg></div><div class=\"position middle-align\">\n",
       "                       1.\n",
       "                   </div></div><div class=\"tracklist-col name\"><div class=\"middle-align track-name-wrapper\"><span class=\"track-name\">Shred For Summer</span></div></div><div class=\"tracklist-col explicit\"></div><div class=\"tracklist-col duration\"><div class=\"middle-align\"><span class=\"total-duration\">3:59</span><span class=\"preview-duration\">0:30</span></div></div><div class=\"progress-bar-outer\"><div class=\"progress-bar\"></div></div></li><li class=\"tracklist-row js-track-row tracklist-row--track track-has-preview\" data-position=\"2\" role=\"button\" tabindex=\"0\"><div class=\"tracklist-col position-outer\"><div class=\"play-pause middle-align\"><svg aria-label=\"Play\" class=\"svg-play\" role=\"button\"><use xlink:href=\"#icon-play\" xmlns:xlink=\"http://www.w3.org/1999/xlink\"></use></svg><svg aria-label=\"Pause\" class=\"svg-pause\" role=\"button\"><use xlink:href=\"#icon-pause\" xmlns:xlink=\"http://www.w3.org/1999/xlink\"></use></svg></div><div class=\"position middle-align\">\n",
       "                       2.\n",
       "                   </div></div><div class=\"tracklist-col name\"><div class=\"middle-align track-name-wrapper\"><span class=\"track-name\">Total Meltdown</span></div></div><div class=\"tracklist-col explicit\"></div><div class=\"tracklist-col duration\"><div class=\"middle-align\"><span class=\"total-duration\">3:04</span><span class=\"preview-duration\">0:30</span></div></div><div class=\"progress-bar-outer\"><div class=\"progress-bar\"></div></div></li><li class=\"tracklist-row js-track-row tracklist-row--track track-has-preview\" data-position=\"3\" role=\"button\" tabindex=\"0\"><div class=\"tracklist-col position-outer\"><div class=\"play-pause middle-align\"><svg aria-label=\"Play\" class=\"svg-play\" role=\"button\"><use xlink:href=\"#icon-play\" xmlns:xlink=\"http://www.w3.org/1999/xlink\"></use></svg><svg aria-label=\"Pause\" class=\"svg-pause\" role=\"button\"><use xlink:href=\"#icon-pause\" xmlns:xlink=\"http://www.w3.org/1999/xlink\"></use></svg></div><div class=\"position middle-align\">\n",
       "                       3.\n",
       "                   </div></div><div class=\"tracklist-col name\"><div class=\"middle-align track-name-wrapper\"><span class=\"track-name\">Feeling Good, Feeling Great</span></div></div><div class=\"tracklist-col explicit\"></div><div class=\"tracklist-col duration\"><div class=\"middle-align\"><span class=\"total-duration\">3:18</span><span class=\"preview-duration\">0:30</span></div></div><div class=\"progress-bar-outer\"><div class=\"progress-bar\"></div></div></li><li class=\"tracklist-row js-track-row tracklist-row--track track-has-preview\" data-position=\"4\" role=\"button\" tabindex=\"0\"><div class=\"tracklist-col position-outer\"><div class=\"play-pause middle-align\"><svg aria-label=\"Play\" class=\"svg-play\" role=\"button\"><use xlink:href=\"#icon-play\" xmlns:xlink=\"http://www.w3.org/1999/xlink\"></use></svg><svg aria-label=\"Pause\" class=\"svg-pause\" role=\"button\"><use xlink:href=\"#icon-pause\" xmlns:xlink=\"http://www.w3.org/1999/xlink\"></use></svg></div><div class=\"position middle-align\">\n",
       "                       4.\n",
       "                   </div></div><div class=\"tracklist-col name\"><div class=\"middle-align track-name-wrapper\"><span class=\"track-name\">Like People</span></div></div><div class=\"tracklist-col explicit\"></div><div class=\"tracklist-col duration\"><div class=\"middle-align\"><span class=\"total-duration\">4:01</span><span class=\"preview-duration\">0:30</span></div></div><div class=\"progress-bar-outer\"><div class=\"progress-bar\"></div></div></li><li class=\"tracklist-row js-track-row tracklist-row--track track-has-preview\" data-position=\"5\" role=\"button\" tabindex=\"0\"><div class=\"tracklist-col position-outer\"><div class=\"play-pause middle-align\"><svg aria-label=\"Play\" class=\"svg-play\" role=\"button\"><use xlink:href=\"#icon-play\" xmlns:xlink=\"http://www.w3.org/1999/xlink\"></use></svg><svg aria-label=\"Pause\" class=\"svg-pause\" role=\"button\"><use xlink:href=\"#icon-pause\" xmlns:xlink=\"http://www.w3.org/1999/xlink\"></use></svg></div><div class=\"position middle-align\">\n",
       "                       5.\n",
       "                   </div></div><div class=\"tracklist-col name\"><div class=\"middle-align track-name-wrapper\"><span class=\"track-name\">High</span></div></div><div class=\"tracklist-col explicit\"></div><div class=\"tracklist-col duration\"><div class=\"middle-align\"><span class=\"total-duration\">3:24</span><span class=\"preview-duration\">0:30</span></div></div><div class=\"progress-bar-outer\"><div class=\"progress-bar\"></div></div></li><li class=\"tracklist-row js-track-row tracklist-row--track track-has-preview\" data-position=\"6\" role=\"button\" tabindex=\"0\"><div class=\"tracklist-col position-outer\"><div class=\"play-pause middle-align\"><svg aria-label=\"Play\" class=\"svg-play\" role=\"button\"><use xlink:href=\"#icon-play\" xmlns:xlink=\"http://www.w3.org/1999/xlink\"></use></svg><svg aria-label=\"Pause\" class=\"svg-pause\" role=\"button\"><use xlink:href=\"#icon-pause\" xmlns:xlink=\"http://www.w3.org/1999/xlink\"></use></svg></div><div class=\"position middle-align\">\n",
       "                       6.\n",
       "                   </div></div><div class=\"tracklist-col name\"><div class=\"middle-align track-name-wrapper\"><span class=\"track-name\">Guillotine</span></div></div><div class=\"tracklist-col explicit\"></div><div class=\"tracklist-col duration\"><div class=\"middle-align\"><span class=\"total-duration\">2:11</span><span class=\"preview-duration\">0:30</span></div></div><div class=\"progress-bar-outer\"><div class=\"progress-bar\"></div></div></li><li class=\"tracklist-row js-track-row tracklist-row--track track-has-preview\" data-position=\"7\" role=\"button\" tabindex=\"0\"><div class=\"tracklist-col position-outer\"><div class=\"play-pause middle-align\"><svg aria-label=\"Play\" class=\"svg-play\" role=\"button\"><use xlink:href=\"#icon-play\" xmlns:xlink=\"http://www.w3.org/1999/xlink\"></use></svg><svg aria-label=\"Pause\" class=\"svg-pause\" role=\"button\"><use xlink:href=\"#icon-pause\" xmlns:xlink=\"http://www.w3.org/1999/xlink\"></use></svg></div><div class=\"position middle-align\">\n",
       "                       7.\n",
       "                   </div></div><div class=\"tracklist-col name\"><div class=\"middle-align track-name-wrapper\"><span class=\"track-name\">Bad Influence</span></div></div><div class=\"tracklist-col explicit\"></div><div class=\"tracklist-col duration\"><div class=\"middle-align\"><span class=\"total-duration\">1:10</span><span class=\"preview-duration\">0:30</span></div></div><div class=\"progress-bar-outer\"><div class=\"progress-bar\"></div></div></li><li class=\"tracklist-row js-track-row tracklist-row--track track-has-preview\" data-position=\"8\" role=\"button\" tabindex=\"0\"><div class=\"tracklist-col position-outer\"><div class=\"play-pause middle-align\"><svg aria-label=\"Play\" class=\"svg-play\" role=\"button\"><use xlink:href=\"#icon-play\" xmlns:xlink=\"http://www.w3.org/1999/xlink\"></use></svg><svg aria-label=\"Pause\" class=\"svg-pause\" role=\"button\"><use xlink:href=\"#icon-pause\" xmlns:xlink=\"http://www.w3.org/1999/xlink\"></use></svg></div><div class=\"position middle-align\">\n",
       "                       8.\n",
       "                   </div></div><div class=\"tracklist-col name\"><div class=\"middle-align track-name-wrapper\"><span class=\"track-name\">Over It</span></div></div><div class=\"tracklist-col explicit\"></div><div class=\"tracklist-col duration\"><div class=\"middle-align\"><span class=\"total-duration\">3:30</span><span class=\"preview-duration\">0:30</span></div></div><div class=\"progress-bar-outer\"><div class=\"progress-bar\"></div></div></li><li class=\"tracklist-row js-track-row tracklist-row--track track-has-preview\" data-position=\"9\" role=\"button\" tabindex=\"0\"><div class=\"tracklist-col position-outer\"><div class=\"play-pause middle-align\"><svg aria-label=\"Play\" class=\"svg-play\" role=\"button\"><use xlink:href=\"#icon-play\" xmlns:xlink=\"http://www.w3.org/1999/xlink\"></use></svg><svg aria-label=\"Pause\" class=\"svg-pause\" role=\"button\"><use xlink:href=\"#icon-pause\" xmlns:xlink=\"http://www.w3.org/1999/xlink\"></use></svg></div><div class=\"position middle-align\">\n",
       "                       9.\n",
       "                   </div></div><div class=\"tracklist-col name\"><div class=\"middle-align track-name-wrapper\"><span class=\"track-name\">Back &amp; Forth</span></div></div><div class=\"tracklist-col explicit\"></div><div class=\"tracklist-col duration\"><div class=\"middle-align\"><span class=\"total-duration\">3:17</span><span class=\"preview-duration\">0:30</span></div></div><div class=\"progress-bar-outer\"><div class=\"progress-bar\"></div></div></li><li class=\"tracklist-row js-track-row tracklist-row--track track-has-preview\" data-position=\"10\" role=\"button\" tabindex=\"0\"><div class=\"tracklist-col position-outer\"><div class=\"play-pause middle-align\"><svg aria-label=\"Play\" class=\"svg-play\" role=\"button\"><use xlink:href=\"#icon-play\" xmlns:xlink=\"http://www.w3.org/1999/xlink\"></use></svg><svg aria-label=\"Pause\" class=\"svg-pause\" role=\"button\"><use xlink:href=\"#icon-pause\" xmlns:xlink=\"http://www.w3.org/1999/xlink\"></use></svg></div><div class=\"position middle-align\">\n",
       "                       10.\n",
       "                   </div></div><div class=\"tracklist-col name\"><div class=\"middle-align track-name-wrapper\"><span class=\"track-name\">Afterglow</span></div></div><div class=\"tracklist-col explicit\"></div><div class=\"tracklist-col duration\"><div class=\"middle-align\"><span class=\"total-duration\">3:30</span><span class=\"preview-duration\">0:30</span></div></div><div class=\"progress-bar-outer\"><div class=\"progress-bar\"></div></div></li><li class=\"tracklist-row js-track-row tracklist-row--track track-has-preview\" data-position=\"11\" role=\"button\" tabindex=\"0\"><div class=\"tracklist-col position-outer\"><div class=\"play-pause middle-align\"><svg aria-label=\"Play\" class=\"svg-play\" role=\"button\"><use xlink:href=\"#icon-play\" xmlns:xlink=\"http://www.w3.org/1999/xlink\"></use></svg><svg aria-label=\"Pause\" class=\"svg-pause\" role=\"button\"><use xlink:href=\"#icon-pause\" xmlns:xlink=\"http://www.w3.org/1999/xlink\"></use></svg></div><div class=\"position middle-align\">\n",
       "                       11.\n",
       "                   </div></div><div class=\"tracklist-col name\"><div class=\"middle-align track-name-wrapper\"><span class=\"track-name\">Witchcraft Pt. II</span></div></div><div class=\"tracklist-col explicit\"></div><div class=\"tracklist-col duration\"><div class=\"middle-align\"><span class=\"total-duration\">5:36</span><span class=\"preview-duration\">0:30</span></div></div><div class=\"progress-bar-outer\"><div class=\"progress-bar\"></div></div></li></ol></div></div></div><script type=\"application/ld+json\">\n",
       "             {\"@context\":\"http:\\/\\/schema.googleapis.com\\/\",\"@type\":\"MusicAlbum\",\"@id\":\"https:\\/\\/open.spotify.com\\/album\\/3UFYpiUu30pfh8qg24JfVG\",\"url\":\"https:\\/\\/open.spotify.com\\/album\\/3UFYpiUu30pfh8qg24JfVG\",\"name\":\"Bloody Lovely\",\"description\":\"Bloody Lovely, an album by DZ Deathrays on Spotify\",\"datePublished\":\"2018-02-02\",\"potentialAction\":{\"@type\":\"ListenAction\",\"target\":[{\"@type\":\"EntryPoint\",\"urlTemplate\":\"https:\\/\\/open.spotify.com\\/album\\/3UFYpiUu30pfh8qg24JfVG?autoplay=true\",\"actionPlatform\":[\"http:\\/\\/schema.org\\/DesktopWebPlatform\",\"http:\\/\\/schema.org\\/IOSPlatform\",\"http:\\/\\/schema.googleapis.com\\/GoogleAudioCast\",\"http:\\/\\/schema.googleapis.com\\/GoogleVideoCast\"]},\"android-app:\\/\\/com.spotify.music\\/spotify\\/album\\/3UFYpiUu30pfh8qg24JfVG\\/play\"],\"expectsAcceptanceOf\":{\"@type\":\"Offer\",\"category\":\"free\",\"eligibleRegion\":[{\"@type\":\"Country\",\"name\":\"AD\"},{\"@type\":\"Country\",\"name\":\"AR\"},{\"@type\":\"Country\",\"name\":\"AT\"},{\"@type\":\"Country\",\"name\":\"AU\"},{\"@type\":\"Country\",\"name\":\"BE\"},{\"@type\":\"Country\",\"name\":\"BG\"},{\"@type\":\"Country\",\"name\":\"BO\"},{\"@type\":\"Country\",\"name\":\"BR\"},{\"@type\":\"Country\",\"name\":\"CA\"},{\"@type\":\"Country\",\"name\":\"CH\"},{\"@type\":\"Country\",\"name\":\"CL\"},{\"@type\":\"Country\",\"name\":\"CO\"},{\"@type\":\"Country\",\"name\":\"CR\"},{\"@type\":\"Country\",\"name\":\"CY\"},{\"@type\":\"Country\",\"name\":\"CZ\"},{\"@type\":\"Country\",\"name\":\"DE\"},{\"@type\":\"Country\",\"name\":\"DK\"},{\"@type\":\"Country\",\"name\":\"DO\"},{\"@type\":\"Country\",\"name\":\"EC\"},{\"@type\":\"Country\",\"name\":\"EE\"},{\"@type\":\"Country\",\"name\":\"ES\"},{\"@type\":\"Country\",\"name\":\"FI\"},{\"@type\":\"Country\",\"name\":\"FR\"},{\"@type\":\"Country\",\"name\":\"GB\"},{\"@type\":\"Country\",\"name\":\"GR\"},{\"@type\":\"Country\",\"name\":\"GT\"},{\"@type\":\"Country\",\"name\":\"HK\"},{\"@type\":\"Country\",\"name\":\"HN\"},{\"@type\":\"Country\",\"name\":\"HU\"},{\"@type\":\"Country\",\"name\":\"ID\"},{\"@type\":\"Country\",\"name\":\"IE\"},{\"@type\":\"Country\",\"name\":\"IL\"},{\"@type\":\"Country\",\"name\":\"IS\"},{\"@type\":\"Country\",\"name\":\"IT\"},{\"@type\":\"Country\",\"name\":\"JP\"},{\"@type\":\"Country\",\"name\":\"LI\"},{\"@type\":\"Country\",\"name\":\"LT\"},{\"@type\":\"Country\",\"name\":\"LU\"},{\"@type\":\"Country\",\"name\":\"LV\"},{\"@type\":\"Country\",\"name\":\"MC\"},{\"@type\":\"Country\",\"name\":\"MT\"},{\"@type\":\"Country\",\"name\":\"MX\"},{\"@type\":\"Country\",\"name\":\"MY\"},{\"@type\":\"Country\",\"name\":\"NI\"},{\"@type\":\"Country\",\"name\":\"NL\"},{\"@type\":\"Country\",\"name\":\"NO\"},{\"@type\":\"Country\",\"name\":\"NZ\"},{\"@type\":\"Country\",\"name\":\"PA\"},{\"@type\":\"Country\",\"name\":\"PE\"},{\"@type\":\"Country\",\"name\":\"PH\"},{\"@type\":\"Country\",\"name\":\"PL\"},{\"@type\":\"Country\",\"name\":\"PT\"},{\"@type\":\"Country\",\"name\":\"PY\"},{\"@type\":\"Country\",\"name\":\"RO\"},{\"@type\":\"Country\",\"name\":\"SE\"},{\"@type\":\"Country\",\"name\":\"SG\"},{\"@type\":\"Country\",\"name\":\"SK\"},{\"@type\":\"Country\",\"name\":\"SV\"},{\"@type\":\"Country\",\"name\":\"TH\"},{\"@type\":\"Country\",\"name\":\"TR\"},{\"@type\":\"Country\",\"name\":\"TW\"},{\"@type\":\"Country\",\"name\":\"US\"},{\"@type\":\"Country\",\"name\":\"UY\"},{\"@type\":\"Country\",\"name\":\"VN\"},{\"@type\":\"Country\",\"name\":\"ZA\"}]}}}\n",
       "         </script></header><section class=\"more-by\"><h1>More by DZ Deathrays</h1><ul class=\"more-by-grid more-by-grid-5 padding-notch\" style=\"list-style: none\"><li><a alt=\"Brutal Tapes\" class=\"cover\" href=\"/album/6XJ1NOtUoplEABt5rbMGrv?\"><div class=\"grid-item-image lazy-image\" data-src=\"//i.scdn.co/image/8edd092d562cbb7153c8509bb698b235761faf95\"></div><div><span>Brutal Tapes</span></div></a></li><li><a alt=\"Black Rat\" class=\"cover\" href=\"/album/2eYlAPuwonEJKi9aNHMV0j?\"><div class=\"grid-item-image lazy-image\" data-src=\"//i.scdn.co/image/5092447f1bc1bd1566a57a54cd41f68c4f6ba760\"></div><div><span>Black Rat</span></div></a></li><li><a alt=\"Bloodstreams\" class=\"cover\" href=\"/album/5uKdzbSXIIqsM6FqJy57xU?\"><div class=\"grid-item-image lazy-image\" data-src=\"//i.scdn.co/image/13c72ee853d94ac1c8d49c6cf85ed914855b6748\"></div><div><span>Bloodstreams</span></div></a></li><li><a alt=\"Like People\" class=\"cover\" href=\"/album/4VOgHrcVLZbHZTCYwSyMMe?\"><div class=\"grid-item-image lazy-image\" data-src=\"//i.scdn.co/image/3fc39d263e4c37427eda5256b13245da0241adfc\"></div><div><span>Like People</span></div></a></li><li><a alt=\"Total Meltdown\" class=\"cover\" href=\"/album/4rXH1yGbgFMafP5pscCYMJ?\"><div class=\"grid-item-image lazy-image\" data-src=\"//i.scdn.co/image/81dddc197e4ee030b64bf9a4c57999f285cfd122\"></div><div><span>Total Meltdown</span></div></a></li></ul><a class=\"link\" href=\"/artist/0qGPycvPHafmEPTOm4M7Tu?\">More DZ Deathrays</a><div class=\"btn-scroll-wrapper\"><a class=\"btn-scroll\" href=\"#upsell\" tabindex=\"-1\"><svg viewbox=\"0 0 80 80\"><path d=\"M40 42L73 6c4-4 10 1 6 6L43 49c-2 2-4 2-6 0L1 12C-3 8 4 2 8 6zm0 27l33-34c4-4 10 1 6 6L43 78c-2 2-4 2-6 0L1 41c-4-4 3-10 7-6z\"></path></svg></a></div></section><section class=\"upsell \" id=\"upsell\" style=\"background-color: #b78b76\"><div class=\"bg lazy-image\" data-src=\"//i.scdn.co/image/b6d15c55bcff17096b8f78eba785123337e8851a\" style=\"background-color: #b78b76\"></div><div class=\"overlay\"></div><div class=\"wrapper padding-notch\"><h1>Listen to Bloody Lovely now.</h1><p>Listen to Bloody Lovely in full in the Spotify app</p><button class=\"btn btn-green js-action-button\" data-track-type=\"button-footer\"><span class=\"js-action-label\">Play on Spotify</span></button><ul class=\"copyrights\"><li>\n",
       "                         © 2018 I OH YOU\n",
       "                     </li><li>\n",
       "                         ℗ 2018 I OH YOU\n",
       "                     </li></ul></div></section><footer><a class=\"logo-link\" href=\"/browse\"><svg><use xlink:href=\"#spotify-logo\" xmlns:xlink=\"http://www.w3.org/1999/xlink\"></use></svg></a><p class=\"legal\"><a href=\"https://www.spotify.com/legal/\">Legal</a><br/><a href=\"https://www.spotify.com/legal/privacy-policy/\">Privacy</a><br/><a href=\"https://www.spotify.com/legal/privacy-policy/#s13\">Cookies</a><br/><a href=\"https://www.spotify.com/legal/privacy-policy/#s13\">About Ads</a></p></footer></div>,\n",
       " <div class=\"notice notice-warning padding-notch\" id=\"browser-support-notice\"><p>\n",
       "     This browser doesn't support Spotify Web Player. <a href=\"https://support.spotify.com/using_spotify/the_basics/webplayer\">Switch browsers</a> or <a href=\"https://www.spotify.com/download\">download Spotify</a> for your desktop.\n",
       "   </p></div>,\n",
       " <div class=\"overlay\"></div>,\n",
       " <div class=\"wrapper padding-notch\"><div id=\"main-header\"><a class=\"logo-link\" href=\"/browse\"><svg><use xlink:href=\"#spotify-logo\" xmlns:xlink=\"http://www.w3.org/1999/xlink\"></use></svg></a></div><div class=\"entity \"><div class=\"entity-info media\"><div class=\"media-img\"><button aria-label=\"Play\" class=\"cover-art light shadow actionable playable-context js-cover-art js-playable \" data-preview=\"\" data-track-type=\"cover-art\" data-uri=\"spotify:album:3UFYpiUu30pfh8qg24JfVG\"><div class=\"cover-art-image\" style=\"background-image:url(//i.scdn.co/image/4db5853128f4a154fdc8e8117f85405a336818a7), linear-gradient(transparent,rgba(0,0,0,0.5)); background-color: #b78b76\"></div><div class=\"cover-art-playback\"><svg class=\"icon-play\"><use xlink:href=\"#icon-play\" xmlns:xlink=\"http://www.w3.org/1999/xlink\"></use></svg><svg class=\"icon-pause\"><use xlink:href=\"#icon-pause\" xmlns:xlink=\"http://www.w3.org/1999/xlink\"></use></svg></div></button></div><div class=\"media-bd\"><h1>Bloody Lovely</h1><h2>By <a href=\"/artist/0qGPycvPHafmEPTOm4M7Tu?\">DZ Deathrays</a></h2><p class=\"text-silence entity-additional-info\">2018 • 11 songs</p><button class=\"btn btn-green entity-cta js-action-button\" data-log-action=\"play-spotify\" data-track-type=\"button-header\"><span class=\"js-action-label\">Play on Spotify</span></button></div></div><div class=\"tracklist-container\"><ol class=\"tracklist js-track-list playable-context hide-artists\"><li class=\"tracklist-row js-track-row tracklist-row--track track-has-preview\" data-position=\"1\" role=\"button\" tabindex=\"0\"><div class=\"tracklist-col position-outer\"><div class=\"play-pause middle-align\"><svg aria-label=\"Play\" class=\"svg-play\" role=\"button\"><use xlink:href=\"#icon-play\" xmlns:xlink=\"http://www.w3.org/1999/xlink\"></use></svg><svg aria-label=\"Pause\" class=\"svg-pause\" role=\"button\"><use xlink:href=\"#icon-pause\" xmlns:xlink=\"http://www.w3.org/1999/xlink\"></use></svg></div><div class=\"position middle-align\">\n",
       "                       1.\n",
       "                   </div></div><div class=\"tracklist-col name\"><div class=\"middle-align track-name-wrapper\"><span class=\"track-name\">Shred For Summer</span></div></div><div class=\"tracklist-col explicit\"></div><div class=\"tracklist-col duration\"><div class=\"middle-align\"><span class=\"total-duration\">3:59</span><span class=\"preview-duration\">0:30</span></div></div><div class=\"progress-bar-outer\"><div class=\"progress-bar\"></div></div></li><li class=\"tracklist-row js-track-row tracklist-row--track track-has-preview\" data-position=\"2\" role=\"button\" tabindex=\"0\"><div class=\"tracklist-col position-outer\"><div class=\"play-pause middle-align\"><svg aria-label=\"Play\" class=\"svg-play\" role=\"button\"><use xlink:href=\"#icon-play\" xmlns:xlink=\"http://www.w3.org/1999/xlink\"></use></svg><svg aria-label=\"Pause\" class=\"svg-pause\" role=\"button\"><use xlink:href=\"#icon-pause\" xmlns:xlink=\"http://www.w3.org/1999/xlink\"></use></svg></div><div class=\"position middle-align\">\n",
       "                       2.\n",
       "                   </div></div><div class=\"tracklist-col name\"><div class=\"middle-align track-name-wrapper\"><span class=\"track-name\">Total Meltdown</span></div></div><div class=\"tracklist-col explicit\"></div><div class=\"tracklist-col duration\"><div class=\"middle-align\"><span class=\"total-duration\">3:04</span><span class=\"preview-duration\">0:30</span></div></div><div class=\"progress-bar-outer\"><div class=\"progress-bar\"></div></div></li><li class=\"tracklist-row js-track-row tracklist-row--track track-has-preview\" data-position=\"3\" role=\"button\" tabindex=\"0\"><div class=\"tracklist-col position-outer\"><div class=\"play-pause middle-align\"><svg aria-label=\"Play\" class=\"svg-play\" role=\"button\"><use xlink:href=\"#icon-play\" xmlns:xlink=\"http://www.w3.org/1999/xlink\"></use></svg><svg aria-label=\"Pause\" class=\"svg-pause\" role=\"button\"><use xlink:href=\"#icon-pause\" xmlns:xlink=\"http://www.w3.org/1999/xlink\"></use></svg></div><div class=\"position middle-align\">\n",
       "                       3.\n",
       "                   </div></div><div class=\"tracklist-col name\"><div class=\"middle-align track-name-wrapper\"><span class=\"track-name\">Feeling Good, Feeling Great</span></div></div><div class=\"tracklist-col explicit\"></div><div class=\"tracklist-col duration\"><div class=\"middle-align\"><span class=\"total-duration\">3:18</span><span class=\"preview-duration\">0:30</span></div></div><div class=\"progress-bar-outer\"><div class=\"progress-bar\"></div></div></li><li class=\"tracklist-row js-track-row tracklist-row--track track-has-preview\" data-position=\"4\" role=\"button\" tabindex=\"0\"><div class=\"tracklist-col position-outer\"><div class=\"play-pause middle-align\"><svg aria-label=\"Play\" class=\"svg-play\" role=\"button\"><use xlink:href=\"#icon-play\" xmlns:xlink=\"http://www.w3.org/1999/xlink\"></use></svg><svg aria-label=\"Pause\" class=\"svg-pause\" role=\"button\"><use xlink:href=\"#icon-pause\" xmlns:xlink=\"http://www.w3.org/1999/xlink\"></use></svg></div><div class=\"position middle-align\">\n",
       "                       4.\n",
       "                   </div></div><div class=\"tracklist-col name\"><div class=\"middle-align track-name-wrapper\"><span class=\"track-name\">Like People</span></div></div><div class=\"tracklist-col explicit\"></div><div class=\"tracklist-col duration\"><div class=\"middle-align\"><span class=\"total-duration\">4:01</span><span class=\"preview-duration\">0:30</span></div></div><div class=\"progress-bar-outer\"><div class=\"progress-bar\"></div></div></li><li class=\"tracklist-row js-track-row tracklist-row--track track-has-preview\" data-position=\"5\" role=\"button\" tabindex=\"0\"><div class=\"tracklist-col position-outer\"><div class=\"play-pause middle-align\"><svg aria-label=\"Play\" class=\"svg-play\" role=\"button\"><use xlink:href=\"#icon-play\" xmlns:xlink=\"http://www.w3.org/1999/xlink\"></use></svg><svg aria-label=\"Pause\" class=\"svg-pause\" role=\"button\"><use xlink:href=\"#icon-pause\" xmlns:xlink=\"http://www.w3.org/1999/xlink\"></use></svg></div><div class=\"position middle-align\">\n",
       "                       5.\n",
       "                   </div></div><div class=\"tracklist-col name\"><div class=\"middle-align track-name-wrapper\"><span class=\"track-name\">High</span></div></div><div class=\"tracklist-col explicit\"></div><div class=\"tracklist-col duration\"><div class=\"middle-align\"><span class=\"total-duration\">3:24</span><span class=\"preview-duration\">0:30</span></div></div><div class=\"progress-bar-outer\"><div class=\"progress-bar\"></div></div></li><li class=\"tracklist-row js-track-row tracklist-row--track track-has-preview\" data-position=\"6\" role=\"button\" tabindex=\"0\"><div class=\"tracklist-col position-outer\"><div class=\"play-pause middle-align\"><svg aria-label=\"Play\" class=\"svg-play\" role=\"button\"><use xlink:href=\"#icon-play\" xmlns:xlink=\"http://www.w3.org/1999/xlink\"></use></svg><svg aria-label=\"Pause\" class=\"svg-pause\" role=\"button\"><use xlink:href=\"#icon-pause\" xmlns:xlink=\"http://www.w3.org/1999/xlink\"></use></svg></div><div class=\"position middle-align\">\n",
       "                       6.\n",
       "                   </div></div><div class=\"tracklist-col name\"><div class=\"middle-align track-name-wrapper\"><span class=\"track-name\">Guillotine</span></div></div><div class=\"tracklist-col explicit\"></div><div class=\"tracklist-col duration\"><div class=\"middle-align\"><span class=\"total-duration\">2:11</span><span class=\"preview-duration\">0:30</span></div></div><div class=\"progress-bar-outer\"><div class=\"progress-bar\"></div></div></li><li class=\"tracklist-row js-track-row tracklist-row--track track-has-preview\" data-position=\"7\" role=\"button\" tabindex=\"0\"><div class=\"tracklist-col position-outer\"><div class=\"play-pause middle-align\"><svg aria-label=\"Play\" class=\"svg-play\" role=\"button\"><use xlink:href=\"#icon-play\" xmlns:xlink=\"http://www.w3.org/1999/xlink\"></use></svg><svg aria-label=\"Pause\" class=\"svg-pause\" role=\"button\"><use xlink:href=\"#icon-pause\" xmlns:xlink=\"http://www.w3.org/1999/xlink\"></use></svg></div><div class=\"position middle-align\">\n",
       "                       7.\n",
       "                   </div></div><div class=\"tracklist-col name\"><div class=\"middle-align track-name-wrapper\"><span class=\"track-name\">Bad Influence</span></div></div><div class=\"tracklist-col explicit\"></div><div class=\"tracklist-col duration\"><div class=\"middle-align\"><span class=\"total-duration\">1:10</span><span class=\"preview-duration\">0:30</span></div></div><div class=\"progress-bar-outer\"><div class=\"progress-bar\"></div></div></li><li class=\"tracklist-row js-track-row tracklist-row--track track-has-preview\" data-position=\"8\" role=\"button\" tabindex=\"0\"><div class=\"tracklist-col position-outer\"><div class=\"play-pause middle-align\"><svg aria-label=\"Play\" class=\"svg-play\" role=\"button\"><use xlink:href=\"#icon-play\" xmlns:xlink=\"http://www.w3.org/1999/xlink\"></use></svg><svg aria-label=\"Pause\" class=\"svg-pause\" role=\"button\"><use xlink:href=\"#icon-pause\" xmlns:xlink=\"http://www.w3.org/1999/xlink\"></use></svg></div><div class=\"position middle-align\">\n",
       "                       8.\n",
       "                   </div></div><div class=\"tracklist-col name\"><div class=\"middle-align track-name-wrapper\"><span class=\"track-name\">Over It</span></div></div><div class=\"tracklist-col explicit\"></div><div class=\"tracklist-col duration\"><div class=\"middle-align\"><span class=\"total-duration\">3:30</span><span class=\"preview-duration\">0:30</span></div></div><div class=\"progress-bar-outer\"><div class=\"progress-bar\"></div></div></li><li class=\"tracklist-row js-track-row tracklist-row--track track-has-preview\" data-position=\"9\" role=\"button\" tabindex=\"0\"><div class=\"tracklist-col position-outer\"><div class=\"play-pause middle-align\"><svg aria-label=\"Play\" class=\"svg-play\" role=\"button\"><use xlink:href=\"#icon-play\" xmlns:xlink=\"http://www.w3.org/1999/xlink\"></use></svg><svg aria-label=\"Pause\" class=\"svg-pause\" role=\"button\"><use xlink:href=\"#icon-pause\" xmlns:xlink=\"http://www.w3.org/1999/xlink\"></use></svg></div><div class=\"position middle-align\">\n",
       "                       9.\n",
       "                   </div></div><div class=\"tracklist-col name\"><div class=\"middle-align track-name-wrapper\"><span class=\"track-name\">Back &amp; Forth</span></div></div><div class=\"tracklist-col explicit\"></div><div class=\"tracklist-col duration\"><div class=\"middle-align\"><span class=\"total-duration\">3:17</span><span class=\"preview-duration\">0:30</span></div></div><div class=\"progress-bar-outer\"><div class=\"progress-bar\"></div></div></li><li class=\"tracklist-row js-track-row tracklist-row--track track-has-preview\" data-position=\"10\" role=\"button\" tabindex=\"0\"><div class=\"tracklist-col position-outer\"><div class=\"play-pause middle-align\"><svg aria-label=\"Play\" class=\"svg-play\" role=\"button\"><use xlink:href=\"#icon-play\" xmlns:xlink=\"http://www.w3.org/1999/xlink\"></use></svg><svg aria-label=\"Pause\" class=\"svg-pause\" role=\"button\"><use xlink:href=\"#icon-pause\" xmlns:xlink=\"http://www.w3.org/1999/xlink\"></use></svg></div><div class=\"position middle-align\">\n",
       "                       10.\n",
       "                   </div></div><div class=\"tracklist-col name\"><div class=\"middle-align track-name-wrapper\"><span class=\"track-name\">Afterglow</span></div></div><div class=\"tracklist-col explicit\"></div><div class=\"tracklist-col duration\"><div class=\"middle-align\"><span class=\"total-duration\">3:30</span><span class=\"preview-duration\">0:30</span></div></div><div class=\"progress-bar-outer\"><div class=\"progress-bar\"></div></div></li><li class=\"tracklist-row js-track-row tracklist-row--track track-has-preview\" data-position=\"11\" role=\"button\" tabindex=\"0\"><div class=\"tracklist-col position-outer\"><div class=\"play-pause middle-align\"><svg aria-label=\"Play\" class=\"svg-play\" role=\"button\"><use xlink:href=\"#icon-play\" xmlns:xlink=\"http://www.w3.org/1999/xlink\"></use></svg><svg aria-label=\"Pause\" class=\"svg-pause\" role=\"button\"><use xlink:href=\"#icon-pause\" xmlns:xlink=\"http://www.w3.org/1999/xlink\"></use></svg></div><div class=\"position middle-align\">\n",
       "                       11.\n",
       "                   </div></div><div class=\"tracklist-col name\"><div class=\"middle-align track-name-wrapper\"><span class=\"track-name\">Witchcraft Pt. II</span></div></div><div class=\"tracklist-col explicit\"></div><div class=\"tracklist-col duration\"><div class=\"middle-align\"><span class=\"total-duration\">5:36</span><span class=\"preview-duration\">0:30</span></div></div><div class=\"progress-bar-outer\"><div class=\"progress-bar\"></div></div></li></ol></div></div></div>,\n",
       " <div id=\"main-header\"><a class=\"logo-link\" href=\"/browse\"><svg><use xlink:href=\"#spotify-logo\" xmlns:xlink=\"http://www.w3.org/1999/xlink\"></use></svg></a></div>,\n",
       " <div class=\"entity \"><div class=\"entity-info media\"><div class=\"media-img\"><button aria-label=\"Play\" class=\"cover-art light shadow actionable playable-context js-cover-art js-playable \" data-preview=\"\" data-track-type=\"cover-art\" data-uri=\"spotify:album:3UFYpiUu30pfh8qg24JfVG\"><div class=\"cover-art-image\" style=\"background-image:url(//i.scdn.co/image/4db5853128f4a154fdc8e8117f85405a336818a7), linear-gradient(transparent,rgba(0,0,0,0.5)); background-color: #b78b76\"></div><div class=\"cover-art-playback\"><svg class=\"icon-play\"><use xlink:href=\"#icon-play\" xmlns:xlink=\"http://www.w3.org/1999/xlink\"></use></svg><svg class=\"icon-pause\"><use xlink:href=\"#icon-pause\" xmlns:xlink=\"http://www.w3.org/1999/xlink\"></use></svg></div></button></div><div class=\"media-bd\"><h1>Bloody Lovely</h1><h2>By <a href=\"/artist/0qGPycvPHafmEPTOm4M7Tu?\">DZ Deathrays</a></h2><p class=\"text-silence entity-additional-info\">2018 • 11 songs</p><button class=\"btn btn-green entity-cta js-action-button\" data-log-action=\"play-spotify\" data-track-type=\"button-header\"><span class=\"js-action-label\">Play on Spotify</span></button></div></div><div class=\"tracklist-container\"><ol class=\"tracklist js-track-list playable-context hide-artists\"><li class=\"tracklist-row js-track-row tracklist-row--track track-has-preview\" data-position=\"1\" role=\"button\" tabindex=\"0\"><div class=\"tracklist-col position-outer\"><div class=\"play-pause middle-align\"><svg aria-label=\"Play\" class=\"svg-play\" role=\"button\"><use xlink:href=\"#icon-play\" xmlns:xlink=\"http://www.w3.org/1999/xlink\"></use></svg><svg aria-label=\"Pause\" class=\"svg-pause\" role=\"button\"><use xlink:href=\"#icon-pause\" xmlns:xlink=\"http://www.w3.org/1999/xlink\"></use></svg></div><div class=\"position middle-align\">\n",
       "                       1.\n",
       "                   </div></div><div class=\"tracklist-col name\"><div class=\"middle-align track-name-wrapper\"><span class=\"track-name\">Shred For Summer</span></div></div><div class=\"tracklist-col explicit\"></div><div class=\"tracklist-col duration\"><div class=\"middle-align\"><span class=\"total-duration\">3:59</span><span class=\"preview-duration\">0:30</span></div></div><div class=\"progress-bar-outer\"><div class=\"progress-bar\"></div></div></li><li class=\"tracklist-row js-track-row tracklist-row--track track-has-preview\" data-position=\"2\" role=\"button\" tabindex=\"0\"><div class=\"tracklist-col position-outer\"><div class=\"play-pause middle-align\"><svg aria-label=\"Play\" class=\"svg-play\" role=\"button\"><use xlink:href=\"#icon-play\" xmlns:xlink=\"http://www.w3.org/1999/xlink\"></use></svg><svg aria-label=\"Pause\" class=\"svg-pause\" role=\"button\"><use xlink:href=\"#icon-pause\" xmlns:xlink=\"http://www.w3.org/1999/xlink\"></use></svg></div><div class=\"position middle-align\">\n",
       "                       2.\n",
       "                   </div></div><div class=\"tracklist-col name\"><div class=\"middle-align track-name-wrapper\"><span class=\"track-name\">Total Meltdown</span></div></div><div class=\"tracklist-col explicit\"></div><div class=\"tracklist-col duration\"><div class=\"middle-align\"><span class=\"total-duration\">3:04</span><span class=\"preview-duration\">0:30</span></div></div><div class=\"progress-bar-outer\"><div class=\"progress-bar\"></div></div></li><li class=\"tracklist-row js-track-row tracklist-row--track track-has-preview\" data-position=\"3\" role=\"button\" tabindex=\"0\"><div class=\"tracklist-col position-outer\"><div class=\"play-pause middle-align\"><svg aria-label=\"Play\" class=\"svg-play\" role=\"button\"><use xlink:href=\"#icon-play\" xmlns:xlink=\"http://www.w3.org/1999/xlink\"></use></svg><svg aria-label=\"Pause\" class=\"svg-pause\" role=\"button\"><use xlink:href=\"#icon-pause\" xmlns:xlink=\"http://www.w3.org/1999/xlink\"></use></svg></div><div class=\"position middle-align\">\n",
       "                       3.\n",
       "                   </div></div><div class=\"tracklist-col name\"><div class=\"middle-align track-name-wrapper\"><span class=\"track-name\">Feeling Good, Feeling Great</span></div></div><div class=\"tracklist-col explicit\"></div><div class=\"tracklist-col duration\"><div class=\"middle-align\"><span class=\"total-duration\">3:18</span><span class=\"preview-duration\">0:30</span></div></div><div class=\"progress-bar-outer\"><div class=\"progress-bar\"></div></div></li><li class=\"tracklist-row js-track-row tracklist-row--track track-has-preview\" data-position=\"4\" role=\"button\" tabindex=\"0\"><div class=\"tracklist-col position-outer\"><div class=\"play-pause middle-align\"><svg aria-label=\"Play\" class=\"svg-play\" role=\"button\"><use xlink:href=\"#icon-play\" xmlns:xlink=\"http://www.w3.org/1999/xlink\"></use></svg><svg aria-label=\"Pause\" class=\"svg-pause\" role=\"button\"><use xlink:href=\"#icon-pause\" xmlns:xlink=\"http://www.w3.org/1999/xlink\"></use></svg></div><div class=\"position middle-align\">\n",
       "                       4.\n",
       "                   </div></div><div class=\"tracklist-col name\"><div class=\"middle-align track-name-wrapper\"><span class=\"track-name\">Like People</span></div></div><div class=\"tracklist-col explicit\"></div><div class=\"tracklist-col duration\"><div class=\"middle-align\"><span class=\"total-duration\">4:01</span><span class=\"preview-duration\">0:30</span></div></div><div class=\"progress-bar-outer\"><div class=\"progress-bar\"></div></div></li><li class=\"tracklist-row js-track-row tracklist-row--track track-has-preview\" data-position=\"5\" role=\"button\" tabindex=\"0\"><div class=\"tracklist-col position-outer\"><div class=\"play-pause middle-align\"><svg aria-label=\"Play\" class=\"svg-play\" role=\"button\"><use xlink:href=\"#icon-play\" xmlns:xlink=\"http://www.w3.org/1999/xlink\"></use></svg><svg aria-label=\"Pause\" class=\"svg-pause\" role=\"button\"><use xlink:href=\"#icon-pause\" xmlns:xlink=\"http://www.w3.org/1999/xlink\"></use></svg></div><div class=\"position middle-align\">\n",
       "                       5.\n",
       "                   </div></div><div class=\"tracklist-col name\"><div class=\"middle-align track-name-wrapper\"><span class=\"track-name\">High</span></div></div><div class=\"tracklist-col explicit\"></div><div class=\"tracklist-col duration\"><div class=\"middle-align\"><span class=\"total-duration\">3:24</span><span class=\"preview-duration\">0:30</span></div></div><div class=\"progress-bar-outer\"><div class=\"progress-bar\"></div></div></li><li class=\"tracklist-row js-track-row tracklist-row--track track-has-preview\" data-position=\"6\" role=\"button\" tabindex=\"0\"><div class=\"tracklist-col position-outer\"><div class=\"play-pause middle-align\"><svg aria-label=\"Play\" class=\"svg-play\" role=\"button\"><use xlink:href=\"#icon-play\" xmlns:xlink=\"http://www.w3.org/1999/xlink\"></use></svg><svg aria-label=\"Pause\" class=\"svg-pause\" role=\"button\"><use xlink:href=\"#icon-pause\" xmlns:xlink=\"http://www.w3.org/1999/xlink\"></use></svg></div><div class=\"position middle-align\">\n",
       "                       6.\n",
       "                   </div></div><div class=\"tracklist-col name\"><div class=\"middle-align track-name-wrapper\"><span class=\"track-name\">Guillotine</span></div></div><div class=\"tracklist-col explicit\"></div><div class=\"tracklist-col duration\"><div class=\"middle-align\"><span class=\"total-duration\">2:11</span><span class=\"preview-duration\">0:30</span></div></div><div class=\"progress-bar-outer\"><div class=\"progress-bar\"></div></div></li><li class=\"tracklist-row js-track-row tracklist-row--track track-has-preview\" data-position=\"7\" role=\"button\" tabindex=\"0\"><div class=\"tracklist-col position-outer\"><div class=\"play-pause middle-align\"><svg aria-label=\"Play\" class=\"svg-play\" role=\"button\"><use xlink:href=\"#icon-play\" xmlns:xlink=\"http://www.w3.org/1999/xlink\"></use></svg><svg aria-label=\"Pause\" class=\"svg-pause\" role=\"button\"><use xlink:href=\"#icon-pause\" xmlns:xlink=\"http://www.w3.org/1999/xlink\"></use></svg></div><div class=\"position middle-align\">\n",
       "                       7.\n",
       "                   </div></div><div class=\"tracklist-col name\"><div class=\"middle-align track-name-wrapper\"><span class=\"track-name\">Bad Influence</span></div></div><div class=\"tracklist-col explicit\"></div><div class=\"tracklist-col duration\"><div class=\"middle-align\"><span class=\"total-duration\">1:10</span><span class=\"preview-duration\">0:30</span></div></div><div class=\"progress-bar-outer\"><div class=\"progress-bar\"></div></div></li><li class=\"tracklist-row js-track-row tracklist-row--track track-has-preview\" data-position=\"8\" role=\"button\" tabindex=\"0\"><div class=\"tracklist-col position-outer\"><div class=\"play-pause middle-align\"><svg aria-label=\"Play\" class=\"svg-play\" role=\"button\"><use xlink:href=\"#icon-play\" xmlns:xlink=\"http://www.w3.org/1999/xlink\"></use></svg><svg aria-label=\"Pause\" class=\"svg-pause\" role=\"button\"><use xlink:href=\"#icon-pause\" xmlns:xlink=\"http://www.w3.org/1999/xlink\"></use></svg></div><div class=\"position middle-align\">\n",
       "                       8.\n",
       "                   </div></div><div class=\"tracklist-col name\"><div class=\"middle-align track-name-wrapper\"><span class=\"track-name\">Over It</span></div></div><div class=\"tracklist-col explicit\"></div><div class=\"tracklist-col duration\"><div class=\"middle-align\"><span class=\"total-duration\">3:30</span><span class=\"preview-duration\">0:30</span></div></div><div class=\"progress-bar-outer\"><div class=\"progress-bar\"></div></div></li><li class=\"tracklist-row js-track-row tracklist-row--track track-has-preview\" data-position=\"9\" role=\"button\" tabindex=\"0\"><div class=\"tracklist-col position-outer\"><div class=\"play-pause middle-align\"><svg aria-label=\"Play\" class=\"svg-play\" role=\"button\"><use xlink:href=\"#icon-play\" xmlns:xlink=\"http://www.w3.org/1999/xlink\"></use></svg><svg aria-label=\"Pause\" class=\"svg-pause\" role=\"button\"><use xlink:href=\"#icon-pause\" xmlns:xlink=\"http://www.w3.org/1999/xlink\"></use></svg></div><div class=\"position middle-align\">\n",
       "                       9.\n",
       "                   </div></div><div class=\"tracklist-col name\"><div class=\"middle-align track-name-wrapper\"><span class=\"track-name\">Back &amp; Forth</span></div></div><div class=\"tracklist-col explicit\"></div><div class=\"tracklist-col duration\"><div class=\"middle-align\"><span class=\"total-duration\">3:17</span><span class=\"preview-duration\">0:30</span></div></div><div class=\"progress-bar-outer\"><div class=\"progress-bar\"></div></div></li><li class=\"tracklist-row js-track-row tracklist-row--track track-has-preview\" data-position=\"10\" role=\"button\" tabindex=\"0\"><div class=\"tracklist-col position-outer\"><div class=\"play-pause middle-align\"><svg aria-label=\"Play\" class=\"svg-play\" role=\"button\"><use xlink:href=\"#icon-play\" xmlns:xlink=\"http://www.w3.org/1999/xlink\"></use></svg><svg aria-label=\"Pause\" class=\"svg-pause\" role=\"button\"><use xlink:href=\"#icon-pause\" xmlns:xlink=\"http://www.w3.org/1999/xlink\"></use></svg></div><div class=\"position middle-align\">\n",
       "                       10.\n",
       "                   </div></div><div class=\"tracklist-col name\"><div class=\"middle-align track-name-wrapper\"><span class=\"track-name\">Afterglow</span></div></div><div class=\"tracklist-col explicit\"></div><div class=\"tracklist-col duration\"><div class=\"middle-align\"><span class=\"total-duration\">3:30</span><span class=\"preview-duration\">0:30</span></div></div><div class=\"progress-bar-outer\"><div class=\"progress-bar\"></div></div></li><li class=\"tracklist-row js-track-row tracklist-row--track track-has-preview\" data-position=\"11\" role=\"button\" tabindex=\"0\"><div class=\"tracklist-col position-outer\"><div class=\"play-pause middle-align\"><svg aria-label=\"Play\" class=\"svg-play\" role=\"button\"><use xlink:href=\"#icon-play\" xmlns:xlink=\"http://www.w3.org/1999/xlink\"></use></svg><svg aria-label=\"Pause\" class=\"svg-pause\" role=\"button\"><use xlink:href=\"#icon-pause\" xmlns:xlink=\"http://www.w3.org/1999/xlink\"></use></svg></div><div class=\"position middle-align\">\n",
       "                       11.\n",
       "                   </div></div><div class=\"tracklist-col name\"><div class=\"middle-align track-name-wrapper\"><span class=\"track-name\">Witchcraft Pt. II</span></div></div><div class=\"tracklist-col explicit\"></div><div class=\"tracklist-col duration\"><div class=\"middle-align\"><span class=\"total-duration\">5:36</span><span class=\"preview-duration\">0:30</span></div></div><div class=\"progress-bar-outer\"><div class=\"progress-bar\"></div></div></li></ol></div></div>,\n",
       " <div class=\"entity-info media\"><div class=\"media-img\"><button aria-label=\"Play\" class=\"cover-art light shadow actionable playable-context js-cover-art js-playable \" data-preview=\"\" data-track-type=\"cover-art\" data-uri=\"spotify:album:3UFYpiUu30pfh8qg24JfVG\"><div class=\"cover-art-image\" style=\"background-image:url(//i.scdn.co/image/4db5853128f4a154fdc8e8117f85405a336818a7), linear-gradient(transparent,rgba(0,0,0,0.5)); background-color: #b78b76\"></div><div class=\"cover-art-playback\"><svg class=\"icon-play\"><use xlink:href=\"#icon-play\" xmlns:xlink=\"http://www.w3.org/1999/xlink\"></use></svg><svg class=\"icon-pause\"><use xlink:href=\"#icon-pause\" xmlns:xlink=\"http://www.w3.org/1999/xlink\"></use></svg></div></button></div><div class=\"media-bd\"><h1>Bloody Lovely</h1><h2>By <a href=\"/artist/0qGPycvPHafmEPTOm4M7Tu?\">DZ Deathrays</a></h2><p class=\"text-silence entity-additional-info\">2018 • 11 songs</p><button class=\"btn btn-green entity-cta js-action-button\" data-log-action=\"play-spotify\" data-track-type=\"button-header\"><span class=\"js-action-label\">Play on Spotify</span></button></div></div>,\n",
       " <div class=\"media-img\"><button aria-label=\"Play\" class=\"cover-art light shadow actionable playable-context js-cover-art js-playable \" data-preview=\"\" data-track-type=\"cover-art\" data-uri=\"spotify:album:3UFYpiUu30pfh8qg24JfVG\"><div class=\"cover-art-image\" style=\"background-image:url(//i.scdn.co/image/4db5853128f4a154fdc8e8117f85405a336818a7), linear-gradient(transparent,rgba(0,0,0,0.5)); background-color: #b78b76\"></div><div class=\"cover-art-playback\"><svg class=\"icon-play\"><use xlink:href=\"#icon-play\" xmlns:xlink=\"http://www.w3.org/1999/xlink\"></use></svg><svg class=\"icon-pause\"><use xlink:href=\"#icon-pause\" xmlns:xlink=\"http://www.w3.org/1999/xlink\"></use></svg></div></button></div>,\n",
       " <div class=\"cover-art-image\" style=\"background-image:url(//i.scdn.co/image/4db5853128f4a154fdc8e8117f85405a336818a7), linear-gradient(transparent,rgba(0,0,0,0.5)); background-color: #b78b76\"></div>,\n",
       " <div class=\"cover-art-playback\"><svg class=\"icon-play\"><use xlink:href=\"#icon-play\" xmlns:xlink=\"http://www.w3.org/1999/xlink\"></use></svg><svg class=\"icon-pause\"><use xlink:href=\"#icon-pause\" xmlns:xlink=\"http://www.w3.org/1999/xlink\"></use></svg></div>,\n",
       " <div class=\"media-bd\"><h1>Bloody Lovely</h1><h2>By <a href=\"/artist/0qGPycvPHafmEPTOm4M7Tu?\">DZ Deathrays</a></h2><p class=\"text-silence entity-additional-info\">2018 • 11 songs</p><button class=\"btn btn-green entity-cta js-action-button\" data-log-action=\"play-spotify\" data-track-type=\"button-header\"><span class=\"js-action-label\">Play on Spotify</span></button></div>,\n",
       " <div class=\"tracklist-container\"><ol class=\"tracklist js-track-list playable-context hide-artists\"><li class=\"tracklist-row js-track-row tracklist-row--track track-has-preview\" data-position=\"1\" role=\"button\" tabindex=\"0\"><div class=\"tracklist-col position-outer\"><div class=\"play-pause middle-align\"><svg aria-label=\"Play\" class=\"svg-play\" role=\"button\"><use xlink:href=\"#icon-play\" xmlns:xlink=\"http://www.w3.org/1999/xlink\"></use></svg><svg aria-label=\"Pause\" class=\"svg-pause\" role=\"button\"><use xlink:href=\"#icon-pause\" xmlns:xlink=\"http://www.w3.org/1999/xlink\"></use></svg></div><div class=\"position middle-align\">\n",
       "                       1.\n",
       "                   </div></div><div class=\"tracklist-col name\"><div class=\"middle-align track-name-wrapper\"><span class=\"track-name\">Shred For Summer</span></div></div><div class=\"tracklist-col explicit\"></div><div class=\"tracklist-col duration\"><div class=\"middle-align\"><span class=\"total-duration\">3:59</span><span class=\"preview-duration\">0:30</span></div></div><div class=\"progress-bar-outer\"><div class=\"progress-bar\"></div></div></li><li class=\"tracklist-row js-track-row tracklist-row--track track-has-preview\" data-position=\"2\" role=\"button\" tabindex=\"0\"><div class=\"tracklist-col position-outer\"><div class=\"play-pause middle-align\"><svg aria-label=\"Play\" class=\"svg-play\" role=\"button\"><use xlink:href=\"#icon-play\" xmlns:xlink=\"http://www.w3.org/1999/xlink\"></use></svg><svg aria-label=\"Pause\" class=\"svg-pause\" role=\"button\"><use xlink:href=\"#icon-pause\" xmlns:xlink=\"http://www.w3.org/1999/xlink\"></use></svg></div><div class=\"position middle-align\">\n",
       "                       2.\n",
       "                   </div></div><div class=\"tracklist-col name\"><div class=\"middle-align track-name-wrapper\"><span class=\"track-name\">Total Meltdown</span></div></div><div class=\"tracklist-col explicit\"></div><div class=\"tracklist-col duration\"><div class=\"middle-align\"><span class=\"total-duration\">3:04</span><span class=\"preview-duration\">0:30</span></div></div><div class=\"progress-bar-outer\"><div class=\"progress-bar\"></div></div></li><li class=\"tracklist-row js-track-row tracklist-row--track track-has-preview\" data-position=\"3\" role=\"button\" tabindex=\"0\"><div class=\"tracklist-col position-outer\"><div class=\"play-pause middle-align\"><svg aria-label=\"Play\" class=\"svg-play\" role=\"button\"><use xlink:href=\"#icon-play\" xmlns:xlink=\"http://www.w3.org/1999/xlink\"></use></svg><svg aria-label=\"Pause\" class=\"svg-pause\" role=\"button\"><use xlink:href=\"#icon-pause\" xmlns:xlink=\"http://www.w3.org/1999/xlink\"></use></svg></div><div class=\"position middle-align\">\n",
       "                       3.\n",
       "                   </div></div><div class=\"tracklist-col name\"><div class=\"middle-align track-name-wrapper\"><span class=\"track-name\">Feeling Good, Feeling Great</span></div></div><div class=\"tracklist-col explicit\"></div><div class=\"tracklist-col duration\"><div class=\"middle-align\"><span class=\"total-duration\">3:18</span><span class=\"preview-duration\">0:30</span></div></div><div class=\"progress-bar-outer\"><div class=\"progress-bar\"></div></div></li><li class=\"tracklist-row js-track-row tracklist-row--track track-has-preview\" data-position=\"4\" role=\"button\" tabindex=\"0\"><div class=\"tracklist-col position-outer\"><div class=\"play-pause middle-align\"><svg aria-label=\"Play\" class=\"svg-play\" role=\"button\"><use xlink:href=\"#icon-play\" xmlns:xlink=\"http://www.w3.org/1999/xlink\"></use></svg><svg aria-label=\"Pause\" class=\"svg-pause\" role=\"button\"><use xlink:href=\"#icon-pause\" xmlns:xlink=\"http://www.w3.org/1999/xlink\"></use></svg></div><div class=\"position middle-align\">\n",
       "                       4.\n",
       "                   </div></div><div class=\"tracklist-col name\"><div class=\"middle-align track-name-wrapper\"><span class=\"track-name\">Like People</span></div></div><div class=\"tracklist-col explicit\"></div><div class=\"tracklist-col duration\"><div class=\"middle-align\"><span class=\"total-duration\">4:01</span><span class=\"preview-duration\">0:30</span></div></div><div class=\"progress-bar-outer\"><div class=\"progress-bar\"></div></div></li><li class=\"tracklist-row js-track-row tracklist-row--track track-has-preview\" data-position=\"5\" role=\"button\" tabindex=\"0\"><div class=\"tracklist-col position-outer\"><div class=\"play-pause middle-align\"><svg aria-label=\"Play\" class=\"svg-play\" role=\"button\"><use xlink:href=\"#icon-play\" xmlns:xlink=\"http://www.w3.org/1999/xlink\"></use></svg><svg aria-label=\"Pause\" class=\"svg-pause\" role=\"button\"><use xlink:href=\"#icon-pause\" xmlns:xlink=\"http://www.w3.org/1999/xlink\"></use></svg></div><div class=\"position middle-align\">\n",
       "                       5.\n",
       "                   </div></div><div class=\"tracklist-col name\"><div class=\"middle-align track-name-wrapper\"><span class=\"track-name\">High</span></div></div><div class=\"tracklist-col explicit\"></div><div class=\"tracklist-col duration\"><div class=\"middle-align\"><span class=\"total-duration\">3:24</span><span class=\"preview-duration\">0:30</span></div></div><div class=\"progress-bar-outer\"><div class=\"progress-bar\"></div></div></li><li class=\"tracklist-row js-track-row tracklist-row--track track-has-preview\" data-position=\"6\" role=\"button\" tabindex=\"0\"><div class=\"tracklist-col position-outer\"><div class=\"play-pause middle-align\"><svg aria-label=\"Play\" class=\"svg-play\" role=\"button\"><use xlink:href=\"#icon-play\" xmlns:xlink=\"http://www.w3.org/1999/xlink\"></use></svg><svg aria-label=\"Pause\" class=\"svg-pause\" role=\"button\"><use xlink:href=\"#icon-pause\" xmlns:xlink=\"http://www.w3.org/1999/xlink\"></use></svg></div><div class=\"position middle-align\">\n",
       "                       6.\n",
       "                   </div></div><div class=\"tracklist-col name\"><div class=\"middle-align track-name-wrapper\"><span class=\"track-name\">Guillotine</span></div></div><div class=\"tracklist-col explicit\"></div><div class=\"tracklist-col duration\"><div class=\"middle-align\"><span class=\"total-duration\">2:11</span><span class=\"preview-duration\">0:30</span></div></div><div class=\"progress-bar-outer\"><div class=\"progress-bar\"></div></div></li><li class=\"tracklist-row js-track-row tracklist-row--track track-has-preview\" data-position=\"7\" role=\"button\" tabindex=\"0\"><div class=\"tracklist-col position-outer\"><div class=\"play-pause middle-align\"><svg aria-label=\"Play\" class=\"svg-play\" role=\"button\"><use xlink:href=\"#icon-play\" xmlns:xlink=\"http://www.w3.org/1999/xlink\"></use></svg><svg aria-label=\"Pause\" class=\"svg-pause\" role=\"button\"><use xlink:href=\"#icon-pause\" xmlns:xlink=\"http://www.w3.org/1999/xlink\"></use></svg></div><div class=\"position middle-align\">\n",
       "                       7.\n",
       "                   </div></div><div class=\"tracklist-col name\"><div class=\"middle-align track-name-wrapper\"><span class=\"track-name\">Bad Influence</span></div></div><div class=\"tracklist-col explicit\"></div><div class=\"tracklist-col duration\"><div class=\"middle-align\"><span class=\"total-duration\">1:10</span><span class=\"preview-duration\">0:30</span></div></div><div class=\"progress-bar-outer\"><div class=\"progress-bar\"></div></div></li><li class=\"tracklist-row js-track-row tracklist-row--track track-has-preview\" data-position=\"8\" role=\"button\" tabindex=\"0\"><div class=\"tracklist-col position-outer\"><div class=\"play-pause middle-align\"><svg aria-label=\"Play\" class=\"svg-play\" role=\"button\"><use xlink:href=\"#icon-play\" xmlns:xlink=\"http://www.w3.org/1999/xlink\"></use></svg><svg aria-label=\"Pause\" class=\"svg-pause\" role=\"button\"><use xlink:href=\"#icon-pause\" xmlns:xlink=\"http://www.w3.org/1999/xlink\"></use></svg></div><div class=\"position middle-align\">\n",
       "                       8.\n",
       "                   </div></div><div class=\"tracklist-col name\"><div class=\"middle-align track-name-wrapper\"><span class=\"track-name\">Over It</span></div></div><div class=\"tracklist-col explicit\"></div><div class=\"tracklist-col duration\"><div class=\"middle-align\"><span class=\"total-duration\">3:30</span><span class=\"preview-duration\">0:30</span></div></div><div class=\"progress-bar-outer\"><div class=\"progress-bar\"></div></div></li><li class=\"tracklist-row js-track-row tracklist-row--track track-has-preview\" data-position=\"9\" role=\"button\" tabindex=\"0\"><div class=\"tracklist-col position-outer\"><div class=\"play-pause middle-align\"><svg aria-label=\"Play\" class=\"svg-play\" role=\"button\"><use xlink:href=\"#icon-play\" xmlns:xlink=\"http://www.w3.org/1999/xlink\"></use></svg><svg aria-label=\"Pause\" class=\"svg-pause\" role=\"button\"><use xlink:href=\"#icon-pause\" xmlns:xlink=\"http://www.w3.org/1999/xlink\"></use></svg></div><div class=\"position middle-align\">\n",
       "                       9.\n",
       "                   </div></div><div class=\"tracklist-col name\"><div class=\"middle-align track-name-wrapper\"><span class=\"track-name\">Back &amp; Forth</span></div></div><div class=\"tracklist-col explicit\"></div><div class=\"tracklist-col duration\"><div class=\"middle-align\"><span class=\"total-duration\">3:17</span><span class=\"preview-duration\">0:30</span></div></div><div class=\"progress-bar-outer\"><div class=\"progress-bar\"></div></div></li><li class=\"tracklist-row js-track-row tracklist-row--track track-has-preview\" data-position=\"10\" role=\"button\" tabindex=\"0\"><div class=\"tracklist-col position-outer\"><div class=\"play-pause middle-align\"><svg aria-label=\"Play\" class=\"svg-play\" role=\"button\"><use xlink:href=\"#icon-play\" xmlns:xlink=\"http://www.w3.org/1999/xlink\"></use></svg><svg aria-label=\"Pause\" class=\"svg-pause\" role=\"button\"><use xlink:href=\"#icon-pause\" xmlns:xlink=\"http://www.w3.org/1999/xlink\"></use></svg></div><div class=\"position middle-align\">\n",
       "                       10.\n",
       "                   </div></div><div class=\"tracklist-col name\"><div class=\"middle-align track-name-wrapper\"><span class=\"track-name\">Afterglow</span></div></div><div class=\"tracklist-col explicit\"></div><div class=\"tracklist-col duration\"><div class=\"middle-align\"><span class=\"total-duration\">3:30</span><span class=\"preview-duration\">0:30</span></div></div><div class=\"progress-bar-outer\"><div class=\"progress-bar\"></div></div></li><li class=\"tracklist-row js-track-row tracklist-row--track track-has-preview\" data-position=\"11\" role=\"button\" tabindex=\"0\"><div class=\"tracklist-col position-outer\"><div class=\"play-pause middle-align\"><svg aria-label=\"Play\" class=\"svg-play\" role=\"button\"><use xlink:href=\"#icon-play\" xmlns:xlink=\"http://www.w3.org/1999/xlink\"></use></svg><svg aria-label=\"Pause\" class=\"svg-pause\" role=\"button\"><use xlink:href=\"#icon-pause\" xmlns:xlink=\"http://www.w3.org/1999/xlink\"></use></svg></div><div class=\"position middle-align\">\n",
       "                       11.\n",
       "                   </div></div><div class=\"tracklist-col name\"><div class=\"middle-align track-name-wrapper\"><span class=\"track-name\">Witchcraft Pt. II</span></div></div><div class=\"tracklist-col explicit\"></div><div class=\"tracklist-col duration\"><div class=\"middle-align\"><span class=\"total-duration\">5:36</span><span class=\"preview-duration\">0:30</span></div></div><div class=\"progress-bar-outer\"><div class=\"progress-bar\"></div></div></li></ol></div>,\n",
       " <div class=\"tracklist-col position-outer\"><div class=\"play-pause middle-align\"><svg aria-label=\"Play\" class=\"svg-play\" role=\"button\"><use xlink:href=\"#icon-play\" xmlns:xlink=\"http://www.w3.org/1999/xlink\"></use></svg><svg aria-label=\"Pause\" class=\"svg-pause\" role=\"button\"><use xlink:href=\"#icon-pause\" xmlns:xlink=\"http://www.w3.org/1999/xlink\"></use></svg></div><div class=\"position middle-align\">\n",
       "                       1.\n",
       "                   </div></div>,\n",
       " <div class=\"play-pause middle-align\"><svg aria-label=\"Play\" class=\"svg-play\" role=\"button\"><use xlink:href=\"#icon-play\" xmlns:xlink=\"http://www.w3.org/1999/xlink\"></use></svg><svg aria-label=\"Pause\" class=\"svg-pause\" role=\"button\"><use xlink:href=\"#icon-pause\" xmlns:xlink=\"http://www.w3.org/1999/xlink\"></use></svg></div>,\n",
       " <div class=\"position middle-align\">\n",
       "                       1.\n",
       "                   </div>,\n",
       " <div class=\"tracklist-col name\"><div class=\"middle-align track-name-wrapper\"><span class=\"track-name\">Shred For Summer</span></div></div>,\n",
       " <div class=\"middle-align track-name-wrapper\"><span class=\"track-name\">Shred For Summer</span></div>,\n",
       " <div class=\"tracklist-col explicit\"></div>,\n",
       " <div class=\"tracklist-col duration\"><div class=\"middle-align\"><span class=\"total-duration\">3:59</span><span class=\"preview-duration\">0:30</span></div></div>,\n",
       " <div class=\"middle-align\"><span class=\"total-duration\">3:59</span><span class=\"preview-duration\">0:30</span></div>,\n",
       " <div class=\"progress-bar-outer\"><div class=\"progress-bar\"></div></div>,\n",
       " <div class=\"progress-bar\"></div>,\n",
       " <div class=\"tracklist-col position-outer\"><div class=\"play-pause middle-align\"><svg aria-label=\"Play\" class=\"svg-play\" role=\"button\"><use xlink:href=\"#icon-play\" xmlns:xlink=\"http://www.w3.org/1999/xlink\"></use></svg><svg aria-label=\"Pause\" class=\"svg-pause\" role=\"button\"><use xlink:href=\"#icon-pause\" xmlns:xlink=\"http://www.w3.org/1999/xlink\"></use></svg></div><div class=\"position middle-align\">\n",
       "                       2.\n",
       "                   </div></div>,\n",
       " <div class=\"play-pause middle-align\"><svg aria-label=\"Play\" class=\"svg-play\" role=\"button\"><use xlink:href=\"#icon-play\" xmlns:xlink=\"http://www.w3.org/1999/xlink\"></use></svg><svg aria-label=\"Pause\" class=\"svg-pause\" role=\"button\"><use xlink:href=\"#icon-pause\" xmlns:xlink=\"http://www.w3.org/1999/xlink\"></use></svg></div>,\n",
       " <div class=\"position middle-align\">\n",
       "                       2.\n",
       "                   </div>,\n",
       " <div class=\"tracklist-col name\"><div class=\"middle-align track-name-wrapper\"><span class=\"track-name\">Total Meltdown</span></div></div>,\n",
       " <div class=\"middle-align track-name-wrapper\"><span class=\"track-name\">Total Meltdown</span></div>,\n",
       " <div class=\"tracklist-col explicit\"></div>,\n",
       " <div class=\"tracklist-col duration\"><div class=\"middle-align\"><span class=\"total-duration\">3:04</span><span class=\"preview-duration\">0:30</span></div></div>,\n",
       " <div class=\"middle-align\"><span class=\"total-duration\">3:04</span><span class=\"preview-duration\">0:30</span></div>,\n",
       " <div class=\"progress-bar-outer\"><div class=\"progress-bar\"></div></div>,\n",
       " <div class=\"progress-bar\"></div>,\n",
       " <div class=\"tracklist-col position-outer\"><div class=\"play-pause middle-align\"><svg aria-label=\"Play\" class=\"svg-play\" role=\"button\"><use xlink:href=\"#icon-play\" xmlns:xlink=\"http://www.w3.org/1999/xlink\"></use></svg><svg aria-label=\"Pause\" class=\"svg-pause\" role=\"button\"><use xlink:href=\"#icon-pause\" xmlns:xlink=\"http://www.w3.org/1999/xlink\"></use></svg></div><div class=\"position middle-align\">\n",
       "                       3.\n",
       "                   </div></div>,\n",
       " <div class=\"play-pause middle-align\"><svg aria-label=\"Play\" class=\"svg-play\" role=\"button\"><use xlink:href=\"#icon-play\" xmlns:xlink=\"http://www.w3.org/1999/xlink\"></use></svg><svg aria-label=\"Pause\" class=\"svg-pause\" role=\"button\"><use xlink:href=\"#icon-pause\" xmlns:xlink=\"http://www.w3.org/1999/xlink\"></use></svg></div>,\n",
       " <div class=\"position middle-align\">\n",
       "                       3.\n",
       "                   </div>,\n",
       " <div class=\"tracklist-col name\"><div class=\"middle-align track-name-wrapper\"><span class=\"track-name\">Feeling Good, Feeling Great</span></div></div>,\n",
       " <div class=\"middle-align track-name-wrapper\"><span class=\"track-name\">Feeling Good, Feeling Great</span></div>,\n",
       " <div class=\"tracklist-col explicit\"></div>,\n",
       " <div class=\"tracklist-col duration\"><div class=\"middle-align\"><span class=\"total-duration\">3:18</span><span class=\"preview-duration\">0:30</span></div></div>,\n",
       " <div class=\"middle-align\"><span class=\"total-duration\">3:18</span><span class=\"preview-duration\">0:30</span></div>,\n",
       " <div class=\"progress-bar-outer\"><div class=\"progress-bar\"></div></div>,\n",
       " <div class=\"progress-bar\"></div>,\n",
       " <div class=\"tracklist-col position-outer\"><div class=\"play-pause middle-align\"><svg aria-label=\"Play\" class=\"svg-play\" role=\"button\"><use xlink:href=\"#icon-play\" xmlns:xlink=\"http://www.w3.org/1999/xlink\"></use></svg><svg aria-label=\"Pause\" class=\"svg-pause\" role=\"button\"><use xlink:href=\"#icon-pause\" xmlns:xlink=\"http://www.w3.org/1999/xlink\"></use></svg></div><div class=\"position middle-align\">\n",
       "                       4.\n",
       "                   </div></div>,\n",
       " <div class=\"play-pause middle-align\"><svg aria-label=\"Play\" class=\"svg-play\" role=\"button\"><use xlink:href=\"#icon-play\" xmlns:xlink=\"http://www.w3.org/1999/xlink\"></use></svg><svg aria-label=\"Pause\" class=\"svg-pause\" role=\"button\"><use xlink:href=\"#icon-pause\" xmlns:xlink=\"http://www.w3.org/1999/xlink\"></use></svg></div>,\n",
       " <div class=\"position middle-align\">\n",
       "                       4.\n",
       "                   </div>,\n",
       " <div class=\"tracklist-col name\"><div class=\"middle-align track-name-wrapper\"><span class=\"track-name\">Like People</span></div></div>,\n",
       " <div class=\"middle-align track-name-wrapper\"><span class=\"track-name\">Like People</span></div>,\n",
       " <div class=\"tracklist-col explicit\"></div>,\n",
       " <div class=\"tracklist-col duration\"><div class=\"middle-align\"><span class=\"total-duration\">4:01</span><span class=\"preview-duration\">0:30</span></div></div>,\n",
       " <div class=\"middle-align\"><span class=\"total-duration\">4:01</span><span class=\"preview-duration\">0:30</span></div>,\n",
       " <div class=\"progress-bar-outer\"><div class=\"progress-bar\"></div></div>,\n",
       " <div class=\"progress-bar\"></div>,\n",
       " <div class=\"tracklist-col position-outer\"><div class=\"play-pause middle-align\"><svg aria-label=\"Play\" class=\"svg-play\" role=\"button\"><use xlink:href=\"#icon-play\" xmlns:xlink=\"http://www.w3.org/1999/xlink\"></use></svg><svg aria-label=\"Pause\" class=\"svg-pause\" role=\"button\"><use xlink:href=\"#icon-pause\" xmlns:xlink=\"http://www.w3.org/1999/xlink\"></use></svg></div><div class=\"position middle-align\">\n",
       "                       5.\n",
       "                   </div></div>,\n",
       " <div class=\"play-pause middle-align\"><svg aria-label=\"Play\" class=\"svg-play\" role=\"button\"><use xlink:href=\"#icon-play\" xmlns:xlink=\"http://www.w3.org/1999/xlink\"></use></svg><svg aria-label=\"Pause\" class=\"svg-pause\" role=\"button\"><use xlink:href=\"#icon-pause\" xmlns:xlink=\"http://www.w3.org/1999/xlink\"></use></svg></div>,\n",
       " <div class=\"position middle-align\">\n",
       "                       5.\n",
       "                   </div>,\n",
       " <div class=\"tracklist-col name\"><div class=\"middle-align track-name-wrapper\"><span class=\"track-name\">High</span></div></div>,\n",
       " <div class=\"middle-align track-name-wrapper\"><span class=\"track-name\">High</span></div>,\n",
       " <div class=\"tracklist-col explicit\"></div>,\n",
       " <div class=\"tracklist-col duration\"><div class=\"middle-align\"><span class=\"total-duration\">3:24</span><span class=\"preview-duration\">0:30</span></div></div>,\n",
       " <div class=\"middle-align\"><span class=\"total-duration\">3:24</span><span class=\"preview-duration\">0:30</span></div>,\n",
       " <div class=\"progress-bar-outer\"><div class=\"progress-bar\"></div></div>,\n",
       " <div class=\"progress-bar\"></div>,\n",
       " <div class=\"tracklist-col position-outer\"><div class=\"play-pause middle-align\"><svg aria-label=\"Play\" class=\"svg-play\" role=\"button\"><use xlink:href=\"#icon-play\" xmlns:xlink=\"http://www.w3.org/1999/xlink\"></use></svg><svg aria-label=\"Pause\" class=\"svg-pause\" role=\"button\"><use xlink:href=\"#icon-pause\" xmlns:xlink=\"http://www.w3.org/1999/xlink\"></use></svg></div><div class=\"position middle-align\">\n",
       "                       6.\n",
       "                   </div></div>,\n",
       " <div class=\"play-pause middle-align\"><svg aria-label=\"Play\" class=\"svg-play\" role=\"button\"><use xlink:href=\"#icon-play\" xmlns:xlink=\"http://www.w3.org/1999/xlink\"></use></svg><svg aria-label=\"Pause\" class=\"svg-pause\" role=\"button\"><use xlink:href=\"#icon-pause\" xmlns:xlink=\"http://www.w3.org/1999/xlink\"></use></svg></div>,\n",
       " <div class=\"position middle-align\">\n",
       "                       6.\n",
       "                   </div>,\n",
       " <div class=\"tracklist-col name\"><div class=\"middle-align track-name-wrapper\"><span class=\"track-name\">Guillotine</span></div></div>,\n",
       " <div class=\"middle-align track-name-wrapper\"><span class=\"track-name\">Guillotine</span></div>,\n",
       " <div class=\"tracklist-col explicit\"></div>,\n",
       " <div class=\"tracklist-col duration\"><div class=\"middle-align\"><span class=\"total-duration\">2:11</span><span class=\"preview-duration\">0:30</span></div></div>,\n",
       " <div class=\"middle-align\"><span class=\"total-duration\">2:11</span><span class=\"preview-duration\">0:30</span></div>,\n",
       " <div class=\"progress-bar-outer\"><div class=\"progress-bar\"></div></div>,\n",
       " <div class=\"progress-bar\"></div>,\n",
       " <div class=\"tracklist-col position-outer\"><div class=\"play-pause middle-align\"><svg aria-label=\"Play\" class=\"svg-play\" role=\"button\"><use xlink:href=\"#icon-play\" xmlns:xlink=\"http://www.w3.org/1999/xlink\"></use></svg><svg aria-label=\"Pause\" class=\"svg-pause\" role=\"button\"><use xlink:href=\"#icon-pause\" xmlns:xlink=\"http://www.w3.org/1999/xlink\"></use></svg></div><div class=\"position middle-align\">\n",
       "                       7.\n",
       "                   </div></div>,\n",
       " <div class=\"play-pause middle-align\"><svg aria-label=\"Play\" class=\"svg-play\" role=\"button\"><use xlink:href=\"#icon-play\" xmlns:xlink=\"http://www.w3.org/1999/xlink\"></use></svg><svg aria-label=\"Pause\" class=\"svg-pause\" role=\"button\"><use xlink:href=\"#icon-pause\" xmlns:xlink=\"http://www.w3.org/1999/xlink\"></use></svg></div>,\n",
       " <div class=\"position middle-align\">\n",
       "                       7.\n",
       "                   </div>,\n",
       " <div class=\"tracklist-col name\"><div class=\"middle-align track-name-wrapper\"><span class=\"track-name\">Bad Influence</span></div></div>,\n",
       " <div class=\"middle-align track-name-wrapper\"><span class=\"track-name\">Bad Influence</span></div>,\n",
       " <div class=\"tracklist-col explicit\"></div>,\n",
       " <div class=\"tracklist-col duration\"><div class=\"middle-align\"><span class=\"total-duration\">1:10</span><span class=\"preview-duration\">0:30</span></div></div>,\n",
       " <div class=\"middle-align\"><span class=\"total-duration\">1:10</span><span class=\"preview-duration\">0:30</span></div>,\n",
       " <div class=\"progress-bar-outer\"><div class=\"progress-bar\"></div></div>,\n",
       " <div class=\"progress-bar\"></div>,\n",
       " <div class=\"tracklist-col position-outer\"><div class=\"play-pause middle-align\"><svg aria-label=\"Play\" class=\"svg-play\" role=\"button\"><use xlink:href=\"#icon-play\" xmlns:xlink=\"http://www.w3.org/1999/xlink\"></use></svg><svg aria-label=\"Pause\" class=\"svg-pause\" role=\"button\"><use xlink:href=\"#icon-pause\" xmlns:xlink=\"http://www.w3.org/1999/xlink\"></use></svg></div><div class=\"position middle-align\">\n",
       "                       8.\n",
       "                   </div></div>,\n",
       " <div class=\"play-pause middle-align\"><svg aria-label=\"Play\" class=\"svg-play\" role=\"button\"><use xlink:href=\"#icon-play\" xmlns:xlink=\"http://www.w3.org/1999/xlink\"></use></svg><svg aria-label=\"Pause\" class=\"svg-pause\" role=\"button\"><use xlink:href=\"#icon-pause\" xmlns:xlink=\"http://www.w3.org/1999/xlink\"></use></svg></div>,\n",
       " <div class=\"position middle-align\">\n",
       "                       8.\n",
       "                   </div>,\n",
       " <div class=\"tracklist-col name\"><div class=\"middle-align track-name-wrapper\"><span class=\"track-name\">Over It</span></div></div>,\n",
       " <div class=\"middle-align track-name-wrapper\"><span class=\"track-name\">Over It</span></div>,\n",
       " <div class=\"tracklist-col explicit\"></div>,\n",
       " <div class=\"tracklist-col duration\"><div class=\"middle-align\"><span class=\"total-duration\">3:30</span><span class=\"preview-duration\">0:30</span></div></div>,\n",
       " <div class=\"middle-align\"><span class=\"total-duration\">3:30</span><span class=\"preview-duration\">0:30</span></div>,\n",
       " <div class=\"progress-bar-outer\"><div class=\"progress-bar\"></div></div>,\n",
       " <div class=\"progress-bar\"></div>,\n",
       " <div class=\"tracklist-col position-outer\"><div class=\"play-pause middle-align\"><svg aria-label=\"Play\" class=\"svg-play\" role=\"button\"><use xlink:href=\"#icon-play\" xmlns:xlink=\"http://www.w3.org/1999/xlink\"></use></svg><svg aria-label=\"Pause\" class=\"svg-pause\" role=\"button\"><use xlink:href=\"#icon-pause\" xmlns:xlink=\"http://www.w3.org/1999/xlink\"></use></svg></div><div class=\"position middle-align\">\n",
       "                       9.\n",
       "                   </div></div>,\n",
       " <div class=\"play-pause middle-align\"><svg aria-label=\"Play\" class=\"svg-play\" role=\"button\"><use xlink:href=\"#icon-play\" xmlns:xlink=\"http://www.w3.org/1999/xlink\"></use></svg><svg aria-label=\"Pause\" class=\"svg-pause\" role=\"button\"><use xlink:href=\"#icon-pause\" xmlns:xlink=\"http://www.w3.org/1999/xlink\"></use></svg></div>,\n",
       " <div class=\"position middle-align\">\n",
       "                       9.\n",
       "                   </div>,\n",
       " <div class=\"tracklist-col name\"><div class=\"middle-align track-name-wrapper\"><span class=\"track-name\">Back &amp; Forth</span></div></div>,\n",
       " <div class=\"middle-align track-name-wrapper\"><span class=\"track-name\">Back &amp; Forth</span></div>,\n",
       " <div class=\"tracklist-col explicit\"></div>,\n",
       " <div class=\"tracklist-col duration\"><div class=\"middle-align\"><span class=\"total-duration\">3:17</span><span class=\"preview-duration\">0:30</span></div></div>,\n",
       " <div class=\"middle-align\"><span class=\"total-duration\">3:17</span><span class=\"preview-duration\">0:30</span></div>,\n",
       " <div class=\"progress-bar-outer\"><div class=\"progress-bar\"></div></div>,\n",
       " <div class=\"progress-bar\"></div>,\n",
       " <div class=\"tracklist-col position-outer\"><div class=\"play-pause middle-align\"><svg aria-label=\"Play\" class=\"svg-play\" role=\"button\"><use xlink:href=\"#icon-play\" xmlns:xlink=\"http://www.w3.org/1999/xlink\"></use></svg><svg aria-label=\"Pause\" class=\"svg-pause\" role=\"button\"><use xlink:href=\"#icon-pause\" xmlns:xlink=\"http://www.w3.org/1999/xlink\"></use></svg></div><div class=\"position middle-align\">\n",
       "                       10.\n",
       "                   </div></div>,\n",
       " <div class=\"play-pause middle-align\"><svg aria-label=\"Play\" class=\"svg-play\" role=\"button\"><use xlink:href=\"#icon-play\" xmlns:xlink=\"http://www.w3.org/1999/xlink\"></use></svg><svg aria-label=\"Pause\" class=\"svg-pause\" role=\"button\"><use xlink:href=\"#icon-pause\" xmlns:xlink=\"http://www.w3.org/1999/xlink\"></use></svg></div>,\n",
       " <div class=\"position middle-align\">\n",
       "                       10.\n",
       "                   </div>,\n",
       " <div class=\"tracklist-col name\"><div class=\"middle-align track-name-wrapper\"><span class=\"track-name\">Afterglow</span></div></div>,\n",
       " <div class=\"middle-align track-name-wrapper\"><span class=\"track-name\">Afterglow</span></div>,\n",
       " <div class=\"tracklist-col explicit\"></div>,\n",
       " <div class=\"tracklist-col duration\"><div class=\"middle-align\"><span class=\"total-duration\">3:30</span><span class=\"preview-duration\">0:30</span></div></div>,\n",
       " <div class=\"middle-align\"><span class=\"total-duration\">3:30</span><span class=\"preview-duration\">0:30</span></div>,\n",
       " <div class=\"progress-bar-outer\"><div class=\"progress-bar\"></div></div>,\n",
       " <div class=\"progress-bar\"></div>,\n",
       " <div class=\"tracklist-col position-outer\"><div class=\"play-pause middle-align\"><svg aria-label=\"Play\" class=\"svg-play\" role=\"button\"><use xlink:href=\"#icon-play\" xmlns:xlink=\"http://www.w3.org/1999/xlink\"></use></svg><svg aria-label=\"Pause\" class=\"svg-pause\" role=\"button\"><use xlink:href=\"#icon-pause\" xmlns:xlink=\"http://www.w3.org/1999/xlink\"></use></svg></div><div class=\"position middle-align\">\n",
       "                       11.\n",
       "                   </div></div>,\n",
       " <div class=\"play-pause middle-align\"><svg aria-label=\"Play\" class=\"svg-play\" role=\"button\"><use xlink:href=\"#icon-play\" xmlns:xlink=\"http://www.w3.org/1999/xlink\"></use></svg><svg aria-label=\"Pause\" class=\"svg-pause\" role=\"button\"><use xlink:href=\"#icon-pause\" xmlns:xlink=\"http://www.w3.org/1999/xlink\"></use></svg></div>,\n",
       " <div class=\"position middle-align\">\n",
       "                       11.\n",
       "                   </div>,\n",
       " <div class=\"tracklist-col name\"><div class=\"middle-align track-name-wrapper\"><span class=\"track-name\">Witchcraft Pt. II</span></div></div>,\n",
       " <div class=\"middle-align track-name-wrapper\"><span class=\"track-name\">Witchcraft Pt. II</span></div>,\n",
       " <div class=\"tracklist-col explicit\"></div>,\n",
       " <div class=\"tracklist-col duration\"><div class=\"middle-align\"><span class=\"total-duration\">5:36</span><span class=\"preview-duration\">0:30</span></div></div>,\n",
       " <div class=\"middle-align\"><span class=\"total-duration\">5:36</span><span class=\"preview-duration\">0:30</span></div>,\n",
       " <div class=\"progress-bar-outer\"><div class=\"progress-bar\"></div></div>,\n",
       " <div class=\"progress-bar\"></div>,\n",
       " <div class=\"grid-item-image lazy-image\" data-src=\"//i.scdn.co/image/8edd092d562cbb7153c8509bb698b235761faf95\"></div>,\n",
       " <div><span>Brutal Tapes</span></div>,\n",
       " <div class=\"grid-item-image lazy-image\" data-src=\"//i.scdn.co/image/5092447f1bc1bd1566a57a54cd41f68c4f6ba760\"></div>,\n",
       " <div><span>Black Rat</span></div>,\n",
       " <div class=\"grid-item-image lazy-image\" data-src=\"//i.scdn.co/image/13c72ee853d94ac1c8d49c6cf85ed914855b6748\"></div>,\n",
       " <div><span>Bloodstreams</span></div>,\n",
       " <div class=\"grid-item-image lazy-image\" data-src=\"//i.scdn.co/image/3fc39d263e4c37427eda5256b13245da0241adfc\"></div>,\n",
       " <div><span>Like People</span></div>,\n",
       " <div class=\"grid-item-image lazy-image\" data-src=\"//i.scdn.co/image/81dddc197e4ee030b64bf9a4c57999f285cfd122\"></div>,\n",
       " <div><span>Total Meltdown</span></div>,\n",
       " <div class=\"btn-scroll-wrapper\"><a class=\"btn-scroll\" href=\"#upsell\" tabindex=\"-1\"><svg viewbox=\"0 0 80 80\"><path d=\"M40 42L73 6c4-4 10 1 6 6L43 49c-2 2-4 2-6 0L1 12C-3 8 4 2 8 6zm0 27l33-34c4-4 10 1 6 6L43 78c-2 2-4 2-6 0L1 41c-4-4 3-10 7-6z\"></path></svg></a></div>,\n",
       " <div class=\"bg lazy-image\" data-src=\"//i.scdn.co/image/b6d15c55bcff17096b8f78eba785123337e8851a\" style=\"background-color: #b78b76\"></div>,\n",
       " <div class=\"overlay\"></div>,\n",
       " <div class=\"wrapper padding-notch\"><h1>Listen to Bloody Lovely now.</h1><p>Listen to Bloody Lovely in full in the Spotify app</p><button class=\"btn btn-green js-action-button\" data-track-type=\"button-footer\"><span class=\"js-action-label\">Play on Spotify</span></button><ul class=\"copyrights\"><li>\n",
       "                         © 2018 I OH YOU\n",
       "                     </li><li>\n",
       "                         ℗ 2018 I OH YOU\n",
       "                     </li></ul></div>,\n",
       " <div aria-hidden=\"true\" aria-labelledby=\"choice-modal-title\" class=\"choice-modal js-choice-modal hide\" role=\"dialog\"><div class=\"choice-modal-inner\"><button aria-label=\"Close\" class=\"btn-close\"><svg><use xlink:href=\"#icon-close\" xmlns:xlink=\"http://www.w3.org/1999/xlink\"></use></svg></button><span class=\"modal-title\" id=\"choice-modal-title\">To play this content, you'll need the Spotify app.</span><div class=\"wrapper-btn\"><button class=\"btn btn-green\" id=\"mobile-download\" type=\"button\">\n",
       "                 Get Spotify\n",
       "             </button><button class=\"btn btn-transparent\" id=\"mobile-play\" type=\"button\">\n",
       "                 Open Spotify\n",
       "             </button></div></div></div>,\n",
       " <div class=\"choice-modal-inner\"><button aria-label=\"Close\" class=\"btn-close\"><svg><use xlink:href=\"#icon-close\" xmlns:xlink=\"http://www.w3.org/1999/xlink\"></use></svg></button><span class=\"modal-title\" id=\"choice-modal-title\">To play this content, you'll need the Spotify app.</span><div class=\"wrapper-btn\"><button class=\"btn btn-green\" id=\"mobile-download\" type=\"button\">\n",
       "                 Get Spotify\n",
       "             </button><button class=\"btn btn-transparent\" id=\"mobile-play\" type=\"button\">\n",
       "                 Open Spotify\n",
       "             </button></div></div>,\n",
       " <div class=\"wrapper-btn\"><button class=\"btn btn-green\" id=\"mobile-download\" type=\"button\">\n",
       "                 Get Spotify\n",
       "             </button><button class=\"btn btn-transparent\" id=\"mobile-play\" type=\"button\">\n",
       "                 Open Spotify\n",
       "             </button></div>,\n",
       " <div aria-hidden=\"true\" aria-labelledby=\"upsell-modal-title\" class=\"upsell-modal js-upsell-modal hide\" role=\"dialog\"><button aria-label=\"Close\" class=\"btn-close\"><svg><use xlink:href=\"#icon-close\" xmlns:xlink=\"http://www.w3.org/1999/xlink\"></use></svg></button><h3 id=\"upsell-modal-title\">You look like someone who appreciates good music.</h3><p>Listen to all your favourite artists on any device for free or try the Premium trial.</p><button class=\"link\">Play on Spotify</button></div>]"
      ]
     },
     "execution_count": 9,
     "metadata": {},
     "output_type": "execute_result"
    }
   ],
   "source": [
    "soup.find_all(\"div\"):"
   ]
  },
  {
   "cell_type": "markdown",
   "metadata": {},
   "source": [
    "There are tags that are likely to contain your data, and the following link will help you figure out which tags those may be https://www.w3schools.com/tags/ref_byfunc.asp. You can however, also do this by brute force, having a look through the data and seeing what patterns occur in terms of tags and what it is that you are looking for.\n",
    "\n",
    "For example, I noticed that the \"span\" tag was attached to the text that contained the names of the songs. I also saw that the 'class' of what I was looking for was the 'track-name', which is where the second part of the find_all function comes from. The for loop is essentially going through the above text and returning the raw track names. The text.strip function is useful for this sort of stuff because it 'strips' the text of uncessary preffixes and suffixes that usually are associated with HTMl text."
   ]
  },
  {
   "cell_type": "code",
   "execution_count": 11,
   "metadata": {},
   "outputs": [
    {
     "name": "stdout",
     "output_type": "stream",
     "text": [
      "['Shred For Summer', 'Total Meltdown', 'Feeling Good, Feeling Great', 'Like People', 'High', 'Guillotine', 'Bad Influence', 'Over It', 'Back & Forth', 'Afterglow', 'Witchcraft Pt. II']\n"
     ]
    }
   ],
   "source": [
    "#obtaining the titles\n",
    "\n",
    "title_DZ = []\n",
    "\n",
    "for tag in soup.find_all('span',{'class':'track-name'}):\n",
    "    title_DZ.append(tag.text.strip())\n",
    "\n",
    "print(title_DZ)"
   ]
  },
  {
   "cell_type": "markdown",
   "metadata": {},
   "source": [
    "Similarly, we can obtain the duration of these songs."
   ]
  },
  {
   "cell_type": "code",
   "execution_count": 12,
   "metadata": {
    "collapsed": true
   },
   "outputs": [],
   "source": [
    "#obtaining the song lengths\n",
    "\n",
    "time_DZ = []\n",
    "\n",
    "for tag in soup.findAll('span',{'class':'total-duration'}):\n",
    "    time_DZ.append(tag.text.strip())"
   ]
  },
  {
   "cell_type": "markdown",
   "metadata": {},
   "source": [
    "## Obtaining the URIs\n",
    "\n",
    "**Disclaimer**: There are probably more elegant solutions to this problem, and I am not claiming to have figured out the most efficient way of doing this, but sometimes data analysis is about getting your hands dirty - an ugly solution to a problem is better than no solution to a problem.\n",
    "\n",
    "After obtaining all of the album names, I used the 'Spotipy' package (more information on documentation: http://spotipy.readthedocs.io/en/latest/) to extract a string that contained information about each song. From this, using the fact that all URIs have a common trait (begining with \"spotify:track\"), you are able to loop through this string (for each song in the album) in order to obtain the URI for each of these songs."
   ]
  },
  {
   "cell_type": "code",
   "execution_count": 161,
   "metadata": {},
   "outputs": [
    {
     "ename": "TypeError",
     "evalue": "'method' object is not subscriptable",
     "output_type": "error",
     "traceback": [
      "\u001b[0;31m---------------------------------------------------------------------------\u001b[0m",
      "\u001b[0;31mTypeError\u001b[0m                                 Traceback (most recent call last)",
      "\u001b[0;32m<ipython-input-161-c931753f34f0>\u001b[0m in \u001b[0;36m<module>\u001b[0;34m()\u001b[0m\n\u001b[1;32m     30\u001b[0m     })\n\u001b[1;32m     31\u001b[0m \u001b[0;34m\u001b[0m\u001b[0m\n\u001b[0;32m---> 32\u001b[0;31m \u001b[0mDZ_Deathrays\u001b[0m \u001b[0;34m=\u001b[0m \u001b[0mDZ_Deathrays\u001b[0m\u001b[0;34m.\u001b[0m\u001b[0mdrop_duplicates\u001b[0m\u001b[0;34m[\u001b[0m\u001b[0;34m'Track Name'\u001b[0m\u001b[0;34m]\u001b[0m\u001b[0;34m\u001b[0m\u001b[0m\n\u001b[0m",
      "\u001b[0;31mTypeError\u001b[0m: 'method' object is not subscriptable"
     ]
    }
   ],
   "source": [
    "#obtaining URIS\n",
    "\n",
    "URI_DZ = []\n",
    "new_name = []\n",
    "new_URI = []\n",
    "artist = \"DZ Deathrays\"\n",
    "album = \"Total Meltdown\"\n",
    "\n",
    "\n",
    "for title in title_DZ: #iterates through the list of titles we have obtained\n",
    "    search_query = title + ' ' + artist\n",
    "    result = sp.search(search_query)\n",
    "    #for each title we have a string that contains information about the song\n",
    "    result_string = str(result).rsplit(' ') #split allows us to split the entire string into substrings (each word rather than one big one)\n",
    "    for string in result_string:\n",
    "        if 'spotify:track' in string: #because uris are attached to this substring, any string that contains this will be put into our list\n",
    "            #if the string contains\n",
    "            string = string.replace('}],', '') #getting rid of unwanted suffixes which don't allow us to use the strings in a function\n",
    "            string = string.replace('},', '')\n",
    "            string = string.replace('\\'', '')\n",
    "            URI_DZ.append(string)\n",
    "            for i in range(len(URI_DZ)):\n",
    "                new_name.append(sp.track(URI_DZ[i])['name'])\n",
    "            for i in range(len(URI_DZ)):\n",
    "                new_URI.append(sp.track(URI_DZ[i])['uri'])\n",
    "        \n",
    "DZ_Deathrays = pd.DataFrame(\n",
    "    {'Track Name': new_name,\n",
    "     'URI': new_URI\n",
    "    })\n",
    "\n"
   ]
  },
  {
   "cell_type": "code",
   "execution_count": 176,
   "metadata": {},
   "outputs": [
    {
     "ename": "SyntaxError",
     "evalue": "invalid syntax (<ipython-input-176-b7a0d50db2c8>, line 1)",
     "output_type": "error",
     "traceback": [
      "\u001b[0;36m  File \u001b[0;32m\"<ipython-input-176-b7a0d50db2c8>\"\u001b[0;36m, line \u001b[0;32m1\u001b[0m\n\u001b[0;31m    pig = DZ_Deathrays[DZ_Deathrays['Track Name'].str.contains(\"Total Meltdown\"), index = none]\u001b[0m\n\u001b[0m                                                                                        ^\u001b[0m\n\u001b[0;31mSyntaxError\u001b[0m\u001b[0;31m:\u001b[0m invalid syntax\n"
     ]
    }
   ],
   "source": [
    "pig = DZ_Deathrays[DZ_Deathrays['Track Name'].str.contains(\"Total Meltdown\")\n",
    "pig"
   ]
  },
  {
   "cell_type": "code",
   "execution_count": 70,
   "metadata": {},
   "outputs": [
    {
     "ename": "ValueError",
     "evalue": "arrays must all be same length",
     "output_type": "error",
     "traceback": [
      "\u001b[0;31m---------------------------------------------------------------------------\u001b[0m",
      "\u001b[0;31mValueError\u001b[0m                                Traceback (most recent call last)",
      "\u001b[0;32m<ipython-input-70-1af7c55adcef>\u001b[0m in \u001b[0;36m<module>\u001b[0;34m()\u001b[0m\n\u001b[1;32m      2\u001b[0m     {'Track Name': title_DZ,\n\u001b[1;32m      3\u001b[0m      \u001b[0;34m'Length'\u001b[0m\u001b[0;34m:\u001b[0m \u001b[0mtime_DZ\u001b[0m\u001b[0;34m,\u001b[0m\u001b[0;34m\u001b[0m\u001b[0m\n\u001b[0;32m----> 4\u001b[0;31m      \u001b[0;34m'URI'\u001b[0m\u001b[0;34m:\u001b[0m \u001b[0mURI_DZ\u001b[0m\u001b[0;34m\u001b[0m\u001b[0m\n\u001b[0m\u001b[1;32m      5\u001b[0m     })\n",
      "\u001b[0;32m/anaconda3/lib/python3.6/site-packages/pandas/core/frame.py\u001b[0m in \u001b[0;36m__init__\u001b[0;34m(self, data, index, columns, dtype, copy)\u001b[0m\n\u001b[1;32m    273\u001b[0m                                  dtype=dtype, copy=copy)\n\u001b[1;32m    274\u001b[0m         \u001b[0;32melif\u001b[0m \u001b[0misinstance\u001b[0m\u001b[0;34m(\u001b[0m\u001b[0mdata\u001b[0m\u001b[0;34m,\u001b[0m \u001b[0mdict\u001b[0m\u001b[0;34m)\u001b[0m\u001b[0;34m:\u001b[0m\u001b[0;34m\u001b[0m\u001b[0m\n\u001b[0;32m--> 275\u001b[0;31m             \u001b[0mmgr\u001b[0m \u001b[0;34m=\u001b[0m \u001b[0mself\u001b[0m\u001b[0;34m.\u001b[0m\u001b[0m_init_dict\u001b[0m\u001b[0;34m(\u001b[0m\u001b[0mdata\u001b[0m\u001b[0;34m,\u001b[0m \u001b[0mindex\u001b[0m\u001b[0;34m,\u001b[0m \u001b[0mcolumns\u001b[0m\u001b[0;34m,\u001b[0m \u001b[0mdtype\u001b[0m\u001b[0;34m=\u001b[0m\u001b[0mdtype\u001b[0m\u001b[0;34m)\u001b[0m\u001b[0;34m\u001b[0m\u001b[0m\n\u001b[0m\u001b[1;32m    276\u001b[0m         \u001b[0;32melif\u001b[0m \u001b[0misinstance\u001b[0m\u001b[0;34m(\u001b[0m\u001b[0mdata\u001b[0m\u001b[0;34m,\u001b[0m \u001b[0mma\u001b[0m\u001b[0;34m.\u001b[0m\u001b[0mMaskedArray\u001b[0m\u001b[0;34m)\u001b[0m\u001b[0;34m:\u001b[0m\u001b[0;34m\u001b[0m\u001b[0m\n\u001b[1;32m    277\u001b[0m             \u001b[0;32mimport\u001b[0m \u001b[0mnumpy\u001b[0m\u001b[0;34m.\u001b[0m\u001b[0mma\u001b[0m\u001b[0;34m.\u001b[0m\u001b[0mmrecords\u001b[0m \u001b[0;32mas\u001b[0m \u001b[0mmrecords\u001b[0m\u001b[0;34m\u001b[0m\u001b[0m\n",
      "\u001b[0;32m/anaconda3/lib/python3.6/site-packages/pandas/core/frame.py\u001b[0m in \u001b[0;36m_init_dict\u001b[0;34m(self, data, index, columns, dtype)\u001b[0m\n\u001b[1;32m    409\u001b[0m             \u001b[0marrays\u001b[0m \u001b[0;34m=\u001b[0m \u001b[0;34m[\u001b[0m\u001b[0mdata\u001b[0m\u001b[0;34m[\u001b[0m\u001b[0mk\u001b[0m\u001b[0;34m]\u001b[0m \u001b[0;32mfor\u001b[0m \u001b[0mk\u001b[0m \u001b[0;32min\u001b[0m \u001b[0mkeys\u001b[0m\u001b[0;34m]\u001b[0m\u001b[0;34m\u001b[0m\u001b[0m\n\u001b[1;32m    410\u001b[0m \u001b[0;34m\u001b[0m\u001b[0m\n\u001b[0;32m--> 411\u001b[0;31m         \u001b[0;32mreturn\u001b[0m \u001b[0m_arrays_to_mgr\u001b[0m\u001b[0;34m(\u001b[0m\u001b[0marrays\u001b[0m\u001b[0;34m,\u001b[0m \u001b[0mdata_names\u001b[0m\u001b[0;34m,\u001b[0m \u001b[0mindex\u001b[0m\u001b[0;34m,\u001b[0m \u001b[0mcolumns\u001b[0m\u001b[0;34m,\u001b[0m \u001b[0mdtype\u001b[0m\u001b[0;34m=\u001b[0m\u001b[0mdtype\u001b[0m\u001b[0;34m)\u001b[0m\u001b[0;34m\u001b[0m\u001b[0m\n\u001b[0m\u001b[1;32m    412\u001b[0m \u001b[0;34m\u001b[0m\u001b[0m\n\u001b[1;32m    413\u001b[0m     \u001b[0;32mdef\u001b[0m \u001b[0m_init_ndarray\u001b[0m\u001b[0;34m(\u001b[0m\u001b[0mself\u001b[0m\u001b[0;34m,\u001b[0m \u001b[0mvalues\u001b[0m\u001b[0;34m,\u001b[0m \u001b[0mindex\u001b[0m\u001b[0;34m,\u001b[0m \u001b[0mcolumns\u001b[0m\u001b[0;34m,\u001b[0m \u001b[0mdtype\u001b[0m\u001b[0;34m=\u001b[0m\u001b[0;32mNone\u001b[0m\u001b[0;34m,\u001b[0m \u001b[0mcopy\u001b[0m\u001b[0;34m=\u001b[0m\u001b[0;32mFalse\u001b[0m\u001b[0;34m)\u001b[0m\u001b[0;34m:\u001b[0m\u001b[0;34m\u001b[0m\u001b[0m\n",
      "\u001b[0;32m/anaconda3/lib/python3.6/site-packages/pandas/core/frame.py\u001b[0m in \u001b[0;36m_arrays_to_mgr\u001b[0;34m(arrays, arr_names, index, columns, dtype)\u001b[0m\n\u001b[1;32m   5494\u001b[0m     \u001b[0;31m# figure out the index, if necessary\u001b[0m\u001b[0;34m\u001b[0m\u001b[0;34m\u001b[0m\u001b[0m\n\u001b[1;32m   5495\u001b[0m     \u001b[0;32mif\u001b[0m \u001b[0mindex\u001b[0m \u001b[0;32mis\u001b[0m \u001b[0;32mNone\u001b[0m\u001b[0;34m:\u001b[0m\u001b[0;34m\u001b[0m\u001b[0m\n\u001b[0;32m-> 5496\u001b[0;31m         \u001b[0mindex\u001b[0m \u001b[0;34m=\u001b[0m \u001b[0mextract_index\u001b[0m\u001b[0;34m(\u001b[0m\u001b[0marrays\u001b[0m\u001b[0;34m)\u001b[0m\u001b[0;34m\u001b[0m\u001b[0m\n\u001b[0m\u001b[1;32m   5497\u001b[0m     \u001b[0;32melse\u001b[0m\u001b[0;34m:\u001b[0m\u001b[0;34m\u001b[0m\u001b[0m\n\u001b[1;32m   5498\u001b[0m         \u001b[0mindex\u001b[0m \u001b[0;34m=\u001b[0m \u001b[0m_ensure_index\u001b[0m\u001b[0;34m(\u001b[0m\u001b[0mindex\u001b[0m\u001b[0;34m)\u001b[0m\u001b[0;34m\u001b[0m\u001b[0m\n",
      "\u001b[0;32m/anaconda3/lib/python3.6/site-packages/pandas/core/frame.py\u001b[0m in \u001b[0;36mextract_index\u001b[0;34m(data)\u001b[0m\n\u001b[1;32m   5542\u001b[0m             \u001b[0mlengths\u001b[0m \u001b[0;34m=\u001b[0m \u001b[0mlist\u001b[0m\u001b[0;34m(\u001b[0m\u001b[0mset\u001b[0m\u001b[0;34m(\u001b[0m\u001b[0mraw_lengths\u001b[0m\u001b[0;34m)\u001b[0m\u001b[0;34m)\u001b[0m\u001b[0;34m\u001b[0m\u001b[0m\n\u001b[1;32m   5543\u001b[0m             \u001b[0;32mif\u001b[0m \u001b[0mlen\u001b[0m\u001b[0;34m(\u001b[0m\u001b[0mlengths\u001b[0m\u001b[0;34m)\u001b[0m \u001b[0;34m>\u001b[0m \u001b[0;36m1\u001b[0m\u001b[0;34m:\u001b[0m\u001b[0;34m\u001b[0m\u001b[0m\n\u001b[0;32m-> 5544\u001b[0;31m                 \u001b[0;32mraise\u001b[0m \u001b[0mValueError\u001b[0m\u001b[0;34m(\u001b[0m\u001b[0;34m'arrays must all be same length'\u001b[0m\u001b[0;34m)\u001b[0m\u001b[0;34m\u001b[0m\u001b[0m\n\u001b[0m\u001b[1;32m   5545\u001b[0m \u001b[0;34m\u001b[0m\u001b[0m\n\u001b[1;32m   5546\u001b[0m             \u001b[0;32mif\u001b[0m \u001b[0mhave_dicts\u001b[0m\u001b[0;34m:\u001b[0m\u001b[0;34m\u001b[0m\u001b[0m\n",
      "\u001b[0;31mValueError\u001b[0m: arrays must all be same length"
     ]
    }
   ],
   "source": [
    "DZ_Deathrays = pd.DataFrame(\n",
    "    {'Track Name': title_DZ,\n",
    "     'Length': time_DZ,\n",
    "     'URI': URI_DZ\n",
    "    })"
   ]
  },
  {
   "cell_type": "code",
   "execution_count": 112,
   "metadata": {},
   "outputs": [
    {
     "data": {
      "text/plain": [
       "\"'spotify:track:7vg2AbsnHaGfZsHowompNt'}],\""
      ]
     },
     "execution_count": 112,
     "metadata": {},
     "output_type": "execute_result"
    }
   ],
   "source": [
    "URI_DZ[1]"
   ]
  },
  {
   "cell_type": "code",
   "execution_count": 76,
   "metadata": {},
   "outputs": [
    {
     "data": {
      "text/plain": [
       "{'tracks': {'href': 'https://api.spotify.com/v1/search?query=name%3ADZ+Deathrays%26type%3Dalbum&type=track&offset=0&limit=10',\n",
       "  'items': [],\n",
       "  'limit': 10,\n",
       "  'next': None,\n",
       "  'offset': 0,\n",
       "  'previous': None,\n",
       "  'total': 0}}"
      ]
     },
     "execution_count": 76,
     "metadata": {},
     "output_type": "execute_result"
    }
   ],
   "source": [
    "title = \"Shred for Summer\"\n",
    "artist = \"DZ Deathrays\"\n",
    "album = \"Bloody Lovely\"\n",
    "\n",
    "q = album\n",
    "\n",
    "\n",
    "q=\"name:DZ Deathrays&type=album\"\n",
    "    \n",
    "sp.search(q)"
   ]
  },
  {
   "cell_type": "code",
   "execution_count": 65,
   "metadata": {
    "collapsed": true
   },
   "outputs": [],
   "source": [
    "URI_DZ1 = []\n",
    "URI_DZ2 = []\n",
    "artist = \"DZ Deathrays\"\n",
    "album = \"Total Meltdown\"\n",
    "\n",
    "\n",
    "search_query = artist + ' ' \n",
    "result = sp.search(search_query)\n",
    "#for each title we have a string that contains information about the song\n",
    "result_string = str(result).rsplit(' ') #split allows us to split the entire string into substrings (each word rather than one big one)\n",
    "for string in result_string:\n",
    "        if 'spotify:track' in string: #because uris are attached to this substring, any string that contains this will be put into our list\n",
    "            #if the string contains\n",
    "            URI_DZ1.append(string)\n",
    "        if 'name' in string:\n",
    "            URI_DZ2.append(string)"
   ]
  },
  {
   "cell_type": "code",
   "execution_count": 93,
   "metadata": {},
   "outputs": [
    {
     "name": "stdout",
     "output_type": "stream",
     "text": [
      "{'tracks': {'href': 'https://api.spotify.com/v1/search?query=Witchcraft+Pt.+IIDZ+Deathrays&type=track&offset=0&limit=10', 'items': [], 'limit': 10, 'next': None, 'offset': 0, 'previous': None, 'total': 0}}\n"
     ]
    }
   ],
   "source": [
    "print(result)"
   ]
  },
  {
   "cell_type": "code",
   "execution_count": 78,
   "metadata": {},
   "outputs": [
    {
     "data": {
      "text/plain": [
       "{'tracks': {'href': 'https://api.spotify.com/v1/search?query=Witchcraft+Pt.+IIDZ+Deathrays&type=track&offset=0&limit=10',\n",
       "  'items': [],\n",
       "  'limit': 10,\n",
       "  'next': None,\n",
       "  'offset': 0,\n",
       "  'previous': None,\n",
       "  'total': 0}}"
      ]
     },
     "execution_count": 78,
     "metadata": {},
     "output_type": "execute_result"
    }
   ],
   "source": [
    "result  \n",
    "    "
   ]
  },
  {
   "cell_type": "code",
   "execution_count": 110,
   "metadata": {},
   "outputs": [
    {
     "data": {
      "text/plain": [
       "'Shred For Summer'"
      ]
     },
     "execution_count": 110,
     "metadata": {},
     "output_type": "execute_result"
    }
   ],
   "source": [
    "sp.track('spotify:track:7vg2AbsnHaGfZsHowompNt')['name']"
   ]
  },
  {
   "cell_type": "code",
   "execution_count": 101,
   "metadata": {},
   "outputs": [
    {
     "data": {
      "text/plain": [
       "\"'spotify:track:7vg2AbsnHaGfZsHowompNt'}],\""
      ]
     },
     "execution_count": 101,
     "metadata": {},
     "output_type": "execute_result"
    }
   ],
   "source": [
    "URI_DZ[1]"
   ]
  },
  {
   "cell_type": "code",
   "execution_count": 87,
   "metadata": {
    "collapsed": true
   },
   "outputs": [],
   "source": [
    "artist = \"DZ Deathrays\" #iterates through the list of titles we have obtained\n",
    "search_query = \"Shred for Summer\" + ' ' + artist\n",
    "result_test = sp.search(search_query)"
   ]
  },
  {
   "cell_type": "code",
   "execution_count": null,
   "metadata": {},
   "outputs": [],
   "source": []
  },
  {
   "cell_type": "code",
   "execution_count": 89,
   "metadata": {},
   "outputs": [
    {
     "data": {
      "text/plain": [
       "[\"{'tracks':\",\n",
       " \"{'href':\",\n",
       " \"'https://api.spotify.com/v1/search?query=Shred+for+Summer+DZ+Deathrays&type=track&offset=0&limit=10',\",\n",
       " \"'items':\",\n",
       " \"[{'album':\",\n",
       " \"{'album_type':\",\n",
       " \"'single',\",\n",
       " \"'artists':\",\n",
       " \"[{'external_urls':\",\n",
       " \"{'spotify':\",\n",
       " \"'https://open.spotify.com/artist/0qGPycvPHafmEPTOm4M7Tu'},\",\n",
       " \"'href':\",\n",
       " \"'https://api.spotify.com/v1/artists/0qGPycvPHafmEPTOm4M7Tu',\",\n",
       " \"'id':\",\n",
       " \"'0qGPycvPHafmEPTOm4M7Tu',\",\n",
       " \"'name':\",\n",
       " \"'DZ\",\n",
       " \"Deathrays',\",\n",
       " \"'type':\",\n",
       " \"'artist',\",\n",
       " \"'uri':\",\n",
       " \"'spotify:artist:0qGPycvPHafmEPTOm4M7Tu'}],\",\n",
       " \"'available_markets':\",\n",
       " \"['AR',\",\n",
       " \"'AU',\",\n",
       " \"'BO',\",\n",
       " \"'BR',\",\n",
       " \"'CL',\",\n",
       " \"'CO',\",\n",
       " \"'CR',\",\n",
       " \"'DO',\",\n",
       " \"'EC',\",\n",
       " \"'GT',\",\n",
       " \"'HK',\",\n",
       " \"'HN',\",\n",
       " \"'ID',\",\n",
       " \"'IL',\",\n",
       " \"'JP',\",\n",
       " \"'MX',\",\n",
       " \"'MY',\",\n",
       " \"'NI',\",\n",
       " \"'NZ',\",\n",
       " \"'PA',\",\n",
       " \"'PE',\",\n",
       " \"'PH',\",\n",
       " \"'PY',\",\n",
       " \"'SG',\",\n",
       " \"'SV',\",\n",
       " \"'TH',\",\n",
       " \"'TR',\",\n",
       " \"'TW',\",\n",
       " \"'US',\",\n",
       " \"'UY',\",\n",
       " \"'VN',\",\n",
       " \"'ZA'],\",\n",
       " \"'external_urls':\",\n",
       " \"{'spotify':\",\n",
       " \"'https://open.spotify.com/album/5nPBN2WPwVZbvMUJ7RnBpx'},\",\n",
       " \"'href':\",\n",
       " \"'https://api.spotify.com/v1/albums/5nPBN2WPwVZbvMUJ7RnBpx',\",\n",
       " \"'id':\",\n",
       " \"'5nPBN2WPwVZbvMUJ7RnBpx',\",\n",
       " \"'images':\",\n",
       " \"[{'height':\",\n",
       " '640,',\n",
       " \"'url':\",\n",
       " \"'https://i.scdn.co/image/1ecf634fc8fb0689827c32eca6607a3ae2e08f52',\",\n",
       " \"'width':\",\n",
       " '640},',\n",
       " \"{'height':\",\n",
       " '300,',\n",
       " \"'url':\",\n",
       " \"'https://i.scdn.co/image/1e29869863b73a6e5e4535358dcf65cf93bc032c',\",\n",
       " \"'width':\",\n",
       " '300},',\n",
       " \"{'height':\",\n",
       " '64,',\n",
       " \"'url':\",\n",
       " \"'https://i.scdn.co/image/522846061615181d471868304db8655288a12733',\",\n",
       " \"'width':\",\n",
       " '64}],',\n",
       " \"'name':\",\n",
       " \"'Shred\",\n",
       " 'For',\n",
       " \"Summer',\",\n",
       " \"'release_date':\",\n",
       " \"'2017-08-03',\",\n",
       " \"'release_date_precision':\",\n",
       " \"'day',\",\n",
       " \"'type':\",\n",
       " \"'album',\",\n",
       " \"'uri':\",\n",
       " \"'spotify:album:5nPBN2WPwVZbvMUJ7RnBpx'},\",\n",
       " \"'artists':\",\n",
       " \"[{'external_urls':\",\n",
       " \"{'spotify':\",\n",
       " \"'https://open.spotify.com/artist/0qGPycvPHafmEPTOm4M7Tu'},\",\n",
       " \"'href':\",\n",
       " \"'https://api.spotify.com/v1/artists/0qGPycvPHafmEPTOm4M7Tu',\",\n",
       " \"'id':\",\n",
       " \"'0qGPycvPHafmEPTOm4M7Tu',\",\n",
       " \"'name':\",\n",
       " \"'DZ\",\n",
       " \"Deathrays',\",\n",
       " \"'type':\",\n",
       " \"'artist',\",\n",
       " \"'uri':\",\n",
       " \"'spotify:artist:0qGPycvPHafmEPTOm4M7Tu'}],\",\n",
       " \"'available_markets':\",\n",
       " \"['AR',\",\n",
       " \"'AU',\",\n",
       " \"'BO',\",\n",
       " \"'BR',\",\n",
       " \"'CL',\",\n",
       " \"'CO',\",\n",
       " \"'CR',\",\n",
       " \"'DO',\",\n",
       " \"'EC',\",\n",
       " \"'GT',\",\n",
       " \"'HK',\",\n",
       " \"'HN',\",\n",
       " \"'ID',\",\n",
       " \"'IL',\",\n",
       " \"'JP',\",\n",
       " \"'MX',\",\n",
       " \"'MY',\",\n",
       " \"'NI',\",\n",
       " \"'NZ',\",\n",
       " \"'PA',\",\n",
       " \"'PE',\",\n",
       " \"'PH',\",\n",
       " \"'PY',\",\n",
       " \"'SG',\",\n",
       " \"'SV',\",\n",
       " \"'TH',\",\n",
       " \"'TR',\",\n",
       " \"'TW',\",\n",
       " \"'US',\",\n",
       " \"'UY',\",\n",
       " \"'VN',\",\n",
       " \"'ZA'],\",\n",
       " \"'disc_number':\",\n",
       " '1,',\n",
       " \"'duration_ms':\",\n",
       " '239521,',\n",
       " \"'explicit':\",\n",
       " 'False,',\n",
       " \"'external_ids':\",\n",
       " \"{'isrc':\",\n",
       " \"'AULI01711450'},\",\n",
       " \"'external_urls':\",\n",
       " \"{'spotify':\",\n",
       " \"'https://open.spotify.com/track/5Wa5INKY3NvixAA1B2N5lY'},\",\n",
       " \"'href':\",\n",
       " \"'https://api.spotify.com/v1/tracks/5Wa5INKY3NvixAA1B2N5lY',\",\n",
       " \"'id':\",\n",
       " \"'5Wa5INKY3NvixAA1B2N5lY',\",\n",
       " \"'is_local':\",\n",
       " 'False,',\n",
       " \"'name':\",\n",
       " \"'Shred\",\n",
       " 'For',\n",
       " \"Summer',\",\n",
       " \"'popularity':\",\n",
       " '46,',\n",
       " \"'preview_url':\",\n",
       " \"'https://p.scdn.co/mp3-preview/c9e5184663928203f8c153bbdf4ddbbdd226bbb7?cid=a04614d3530b4d44b45fa7da39c576c0',\",\n",
       " \"'track_number':\",\n",
       " '1,',\n",
       " \"'type':\",\n",
       " \"'track',\",\n",
       " \"'uri':\",\n",
       " \"'spotify:track:5Wa5INKY3NvixAA1B2N5lY'},\",\n",
       " \"{'album':\",\n",
       " \"{'album_type':\",\n",
       " \"'album',\",\n",
       " \"'artists':\",\n",
       " \"[{'external_urls':\",\n",
       " \"{'spotify':\",\n",
       " \"'https://open.spotify.com/artist/0qGPycvPHafmEPTOm4M7Tu'},\",\n",
       " \"'href':\",\n",
       " \"'https://api.spotify.com/v1/artists/0qGPycvPHafmEPTOm4M7Tu',\",\n",
       " \"'id':\",\n",
       " \"'0qGPycvPHafmEPTOm4M7Tu',\",\n",
       " \"'name':\",\n",
       " \"'DZ\",\n",
       " \"Deathrays',\",\n",
       " \"'type':\",\n",
       " \"'artist',\",\n",
       " \"'uri':\",\n",
       " \"'spotify:artist:0qGPycvPHafmEPTOm4M7Tu'}],\",\n",
       " \"'available_markets':\",\n",
       " \"['AR',\",\n",
       " \"'AU',\",\n",
       " \"'BO',\",\n",
       " \"'BR',\",\n",
       " \"'CL',\",\n",
       " \"'CO',\",\n",
       " \"'CR',\",\n",
       " \"'DO',\",\n",
       " \"'EC',\",\n",
       " \"'GT',\",\n",
       " \"'HK',\",\n",
       " \"'HN',\",\n",
       " \"'ID',\",\n",
       " \"'IL',\",\n",
       " \"'JP',\",\n",
       " \"'MX',\",\n",
       " \"'MY',\",\n",
       " \"'NI',\",\n",
       " \"'NZ',\",\n",
       " \"'PA',\",\n",
       " \"'PE',\",\n",
       " \"'PH',\",\n",
       " \"'PY',\",\n",
       " \"'SG',\",\n",
       " \"'SV',\",\n",
       " \"'TH',\",\n",
       " \"'TR',\",\n",
       " \"'TW',\",\n",
       " \"'US',\",\n",
       " \"'UY',\",\n",
       " \"'VN',\",\n",
       " \"'ZA'],\",\n",
       " \"'external_urls':\",\n",
       " \"{'spotify':\",\n",
       " \"'https://open.spotify.com/album/3UFYpiUu30pfh8qg24JfVG'},\",\n",
       " \"'href':\",\n",
       " \"'https://api.spotify.com/v1/albums/3UFYpiUu30pfh8qg24JfVG',\",\n",
       " \"'id':\",\n",
       " \"'3UFYpiUu30pfh8qg24JfVG',\",\n",
       " \"'images':\",\n",
       " \"[{'height':\",\n",
       " '640,',\n",
       " \"'url':\",\n",
       " \"'https://i.scdn.co/image/a824851f2052567acca69a35b88b9c54e0ee555d',\",\n",
       " \"'width':\",\n",
       " '640},',\n",
       " \"{'height':\",\n",
       " '300,',\n",
       " \"'url':\",\n",
       " \"'https://i.scdn.co/image/4db5853128f4a154fdc8e8117f85405a336818a7',\",\n",
       " \"'width':\",\n",
       " '300},',\n",
       " \"{'height':\",\n",
       " '64,',\n",
       " \"'url':\",\n",
       " \"'https://i.scdn.co/image/905d1d405002545933bda845d017267dd8e45db7',\",\n",
       " \"'width':\",\n",
       " '64}],',\n",
       " \"'name':\",\n",
       " \"'Bloody\",\n",
       " \"Lovely',\",\n",
       " \"'release_date':\",\n",
       " \"'2018-02-02',\",\n",
       " \"'release_date_precision':\",\n",
       " \"'day',\",\n",
       " \"'type':\",\n",
       " \"'album',\",\n",
       " \"'uri':\",\n",
       " \"'spotify:album:3UFYpiUu30pfh8qg24JfVG'},\",\n",
       " \"'artists':\",\n",
       " \"[{'external_urls':\",\n",
       " \"{'spotify':\",\n",
       " \"'https://open.spotify.com/artist/0qGPycvPHafmEPTOm4M7Tu'},\",\n",
       " \"'href':\",\n",
       " \"'https://api.spotify.com/v1/artists/0qGPycvPHafmEPTOm4M7Tu',\",\n",
       " \"'id':\",\n",
       " \"'0qGPycvPHafmEPTOm4M7Tu',\",\n",
       " \"'name':\",\n",
       " \"'DZ\",\n",
       " \"Deathrays',\",\n",
       " \"'type':\",\n",
       " \"'artist',\",\n",
       " \"'uri':\",\n",
       " \"'spotify:artist:0qGPycvPHafmEPTOm4M7Tu'}],\",\n",
       " \"'available_markets':\",\n",
       " \"['AR',\",\n",
       " \"'AU',\",\n",
       " \"'BO',\",\n",
       " \"'BR',\",\n",
       " \"'CL',\",\n",
       " \"'CO',\",\n",
       " \"'CR',\",\n",
       " \"'DO',\",\n",
       " \"'EC',\",\n",
       " \"'GT',\",\n",
       " \"'HK',\",\n",
       " \"'HN',\",\n",
       " \"'ID',\",\n",
       " \"'IL',\",\n",
       " \"'JP',\",\n",
       " \"'MX',\",\n",
       " \"'MY',\",\n",
       " \"'NI',\",\n",
       " \"'NZ',\",\n",
       " \"'PA',\",\n",
       " \"'PE',\",\n",
       " \"'PH',\",\n",
       " \"'PY',\",\n",
       " \"'SG',\",\n",
       " \"'SV',\",\n",
       " \"'TH',\",\n",
       " \"'TR',\",\n",
       " \"'TW',\",\n",
       " \"'US',\",\n",
       " \"'UY',\",\n",
       " \"'VN',\",\n",
       " \"'ZA'],\",\n",
       " \"'disc_number':\",\n",
       " '1,',\n",
       " \"'duration_ms':\",\n",
       " '239521,',\n",
       " \"'explicit':\",\n",
       " 'False,',\n",
       " \"'external_ids':\",\n",
       " \"{'isrc':\",\n",
       " \"'AULI01711450'},\",\n",
       " \"'external_urls':\",\n",
       " \"{'spotify':\",\n",
       " \"'https://open.spotify.com/track/7vg2AbsnHaGfZsHowompNt'},\",\n",
       " \"'href':\",\n",
       " \"'https://api.spotify.com/v1/tracks/7vg2AbsnHaGfZsHowompNt',\",\n",
       " \"'id':\",\n",
       " \"'7vg2AbsnHaGfZsHowompNt',\",\n",
       " \"'is_local':\",\n",
       " 'False,',\n",
       " \"'name':\",\n",
       " \"'Shred\",\n",
       " 'For',\n",
       " \"Summer',\",\n",
       " \"'popularity':\",\n",
       " '42,',\n",
       " \"'preview_url':\",\n",
       " \"'https://p.scdn.co/mp3-preview/f8db843d9b92fecf7f4cda309a43325b4082e5bf?cid=a04614d3530b4d44b45fa7da39c576c0',\",\n",
       " \"'track_number':\",\n",
       " '1,',\n",
       " \"'type':\",\n",
       " \"'track',\",\n",
       " \"'uri':\",\n",
       " \"'spotify:track:7vg2AbsnHaGfZsHowompNt'}],\",\n",
       " \"'limit':\",\n",
       " '10,',\n",
       " \"'next':\",\n",
       " 'None,',\n",
       " \"'offset':\",\n",
       " '0,',\n",
       " \"'previous':\",\n",
       " 'None,',\n",
       " \"'total':\",\n",
       " '2}}']"
      ]
     },
     "execution_count": 89,
     "metadata": {},
     "output_type": "execute_result"
    }
   ],
   "source": [
    "result_string_test = str(result_test).rsplit(' ')\n"
   ]
  },
  {
   "cell_type": "code",
   "execution_count": null,
   "metadata": {
    "collapsed": true
   },
   "outputs": [],
   "source": [
    "for i in range(0,len(result_string)):\n",
    "    if result_string[i].startswith('spotify:track'):\n",
    "        print(string)"
   ]
  },
  {
   "cell_type": "code",
   "execution_count": null,
   "metadata": {
    "collapsed": true
   },
   "outputs": [],
   "source": [
    "print(result_string.startswith('spotify:track'))"
   ]
  },
  {
   "cell_type": "code",
   "execution_count": null,
   "metadata": {
    "collapsed": true
   },
   "outputs": [],
   "source": [
    "any(string.contains('href') for string in result_string)"
   ]
  },
  {
   "cell_type": "code",
   "execution_count": 135,
   "metadata": {
    "collapsed": true
   },
   "outputs": [],
   "source": [
    "URI = []\n",
    "\n",
    "for string in result_string:\n",
    "    if 'spotify:track' in string:\n",
    "        URI.append(string)"
   ]
  },
  {
   "cell_type": "code",
   "execution_count": null,
   "metadata": {
    "collapsed": true
   },
   "outputs": [],
   "source": []
  },
  {
   "cell_type": "code",
   "execution_count": null,
   "metadata": {
    "collapsed": true
   },
   "outputs": [],
   "source": []
  }
 ],
 "metadata": {
  "kernelspec": {
   "display_name": "Python 3",
   "language": "python",
   "name": "python3"
  },
  "language_info": {
   "codemirror_mode": {
    "name": "ipython",
    "version": 3
   },
   "file_extension": ".py",
   "mimetype": "text/x-python",
   "name": "python",
   "nbconvert_exporter": "python",
   "pygments_lexer": "ipython3",
   "version": "3.6.3"
  }
 },
 "nbformat": 4,
 "nbformat_minor": 2
}
