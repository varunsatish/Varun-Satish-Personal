{
 "cells": [
  {
   "cell_type": "code",
   "execution_count": 63,
   "metadata": {
    "collapsed": true
   },
   "outputs": [],
   "source": [
    "from selenium import webdriver\n",
    "import time\n",
    "from bs4 import BeautifulSoup\n",
    "import pandas as pd\n",
    "from urllib.request import urlopen"
   ]
  },
  {
   "cell_type": "code",
   "execution_count": 64,
   "metadata": {
    "collapsed": true
   },
   "outputs": [],
   "source": [
    "driver = webdriver.Chrome()\n",
    "driver.get(\"https://careerhub.sydney.edu.au/students/login?ReturnUrl=%2f\")\n",
    "user = \"vsat9038\" \n",
    "password = \"NetGear1\""
   ]
  },
  {
   "cell_type": "code",
   "execution_count": 65,
   "metadata": {
    "collapsed": true
   },
   "outputs": [],
   "source": [
    "#clicking current student\n",
    "driver.find_element_by_xpath(\"/html/body/div[1]/div/div/div/div[2]/div/div[1]/div[1]/a\").click() "
   ]
  },
  {
   "cell_type": "code",
   "execution_count": 66,
   "metadata": {
    "collapsed": true
   },
   "outputs": [],
   "source": [
    "#username and password\n",
    "\n",
    "#identifiying textboxes for login then typing username and password\n",
    "elem1 = driver.find_element_by_id(\"userNameInput\")\n",
    "elem1.send_keys(user)\n",
    "\n",
    "elem2 = driver.find_element_by_id(\"passwordInput\")\n",
    "elem2.send_keys(password)\n",
    "\n",
    "#clicking submit\n",
    "driver.find_element_by_xpath('//*[@id=\"submitButton\"]').click()\n",
    "time.sleep(2)"
   ]
  },
  {
   "cell_type": "code",
   "execution_count": 67,
   "metadata": {
    "collapsed": true
   },
   "outputs": [],
   "source": [
    "#searching jobs (could add extra search parameters here)\n",
    "driver.find_element_by_xpath('//*[@id=\"home-feature\"]/div/form/div[1]/div/div[2]/button').click()"
   ]
  },
  {
   "cell_type": "code",
   "execution_count": 68,
   "metadata": {
    "collapsed": true
   },
   "outputs": [],
   "source": [
    "#showing all jobs (dropdown list)\n",
    "\n",
    "driver.find_element_by_xpath('//*[@id=\"main\"]/div[2]/div/div[3]/div[1]/div[2]/div/div/button').click()\n",
    "driver.find_element_by_xpath('//*[@id=\"main\"]/div[2]/div/div[3]/div[1]/div[2]/div/div/ul/li[6]/a').click()"
   ]
  },
  {
   "cell_type": "code",
   "execution_count": 69,
   "metadata": {
    "collapsed": true
   },
   "outputs": [],
   "source": [
    "#scraping this webpage\n",
    "\n",
    "url = driver.page_source\n",
    "\n",
    "soup = BeautifulSoup(url, \"lxml\")"
   ]
  },
  {
   "cell_type": "code",
   "execution_count": 70,
   "metadata": {},
   "outputs": [],
   "source": [
    "#initialising lists\n",
    "import re\n",
    "\n",
    "title = []\n",
    "description = []\n",
    "hrefs = []\n",
    "\n",
    "#sorting through all the job entries\n",
    "for tag in soup.find_all(\"div\", {\"class\": \"list-group-item\"}):\n",
    "    \n",
    "    #job titles\n",
    "    #job_title_raw = tag.find('a') #first entry of 'a' is the title\n",
    "    #job_title = job_title_raw.get_text().strip() #strip command makes raw text less messy\n",
    "    \n",
    "    #job descriptions\n",
    "    #job_des_raw = tag.find(\"p\", {\"class\": \"job-list-summary\"} ) #description\n",
    "    #job_des = job_des_raw.get_text().strip()\n",
    "    \n",
    "    #job links -- important for the 'big description' part of the script\n",
    "    suff = tag.find('a', href = re.compile(r'[/]([a-z]|[A-Z])\\w+')).attrs['href'] #using regular expressions to get rid of tags and unwanted text\n",
    "    job_href = 'https://careerhub.sydney.edu.au/' + suff\n",
    "    \n",
    "    #appending lists\n",
    "    #title.append(job_title)\n",
    "    #description.append(job_des)\n",
    "    hrefs.append(job_href)"
   ]
  },
  {
   "cell_type": "code",
   "execution_count": 71,
   "metadata": {},
   "outputs": [
    {
     "ename": "AttributeError",
     "evalue": "'NoneType' object has no attribute 'get_text'",
     "output_type": "error",
     "traceback": [
      "\u001b[0;31m---------------------------------------------------------------------------\u001b[0m",
      "\u001b[0;31mAttributeError\u001b[0m                            Traceback (most recent call last)",
      "\u001b[0;32m<ipython-input-71-19ac7a55a8c5>\u001b[0m in \u001b[0;36m<module>\u001b[0;34m()\u001b[0m\n\u001b[1;32m     37\u001b[0m \u001b[0;34m\u001b[0m\u001b[0m\n\u001b[1;32m     38\u001b[0m     \u001b[0;31m#job title\u001b[0m\u001b[0;34m\u001b[0m\u001b[0;34m\u001b[0m\u001b[0m\n\u001b[0;32m---> 39\u001b[0;31m     \u001b[0mjt\u001b[0m \u001b[0;34m=\u001b[0m \u001b[0ms\u001b[0m\u001b[0;34m.\u001b[0m\u001b[0mfind\u001b[0m\u001b[0;34m(\u001b[0m\u001b[0;34m'h3'\u001b[0m\u001b[0;34m)\u001b[0m\u001b[0;34m.\u001b[0m\u001b[0mget_text\u001b[0m\u001b[0;34m(\u001b[0m\u001b[0;34m)\u001b[0m\u001b[0;34m.\u001b[0m\u001b[0mstrip\u001b[0m\u001b[0;34m(\u001b[0m\u001b[0;34m)\u001b[0m\u001b[0;34m\u001b[0m\u001b[0m\n\u001b[0m\u001b[1;32m     40\u001b[0m     \u001b[0mjob_titles\u001b[0m\u001b[0;34m.\u001b[0m\u001b[0mappend\u001b[0m\u001b[0;34m(\u001b[0m\u001b[0mjt\u001b[0m\u001b[0;34m)\u001b[0m\u001b[0;34m\u001b[0m\u001b[0m\n\u001b[1;32m     41\u001b[0m \u001b[0;34m\u001b[0m\u001b[0m\n",
      "\u001b[0;31mAttributeError\u001b[0m: 'NoneType' object has no attribute 'get_text'"
     ]
    }
   ],
   "source": [
    "#big description\n",
    "\n",
    "#logging in\n",
    "\n",
    "#opening driver\n",
    "driver = webdriver.Chrome()\n",
    "driver.get(\"https://careerhub.sydney.edu.au/students/login?ReturnUrl=%2f\")\n",
    "user = \"vsat9038\" \n",
    "password = \"NetGear1\"\n",
    "\n",
    "#clicking current student\n",
    "driver.find_element_by_xpath(\"/html/body/div[1]/div/div/div/div[2]/div/div[1]/div[1]/a\").click()\n",
    "\n",
    "#entering username\n",
    "elem1 = driver.find_element_by_id(\"userNameInput\")\n",
    "elem1.send_keys(user)\n",
    "\n",
    "#entering password\n",
    "elem2 = driver.find_element_by_id(\"passwordInput\")\n",
    "elem2.send_keys(password)\n",
    "\n",
    "#clicking submit\n",
    "driver.find_element_by_xpath('//*[@id=\"submitButton\"]').click()\n",
    "time.sleep(2)\n",
    "\n",
    "#initialising lists for titles and descriptions\n",
    "big_des = []\n",
    "job_titles = []\n",
    "\n",
    "\n",
    "#iterating through collected links\n",
    "\n",
    "for link in hrefs:\n",
    "    driver.get(link)\n",
    "    url = driver.page_source\n",
    "    s = BeautifulSoup(url, \"lxml\")\n",
    "    \n",
    "    #job title\n",
    "    jt_find = s.find('h3')\n",
    "    \n",
    "    #if titles do not exist then we skip to next iteration loop\n",
    "    if type(jt_find) == None:\n",
    "        continue  \n",
    "    #job descriptions\n",
    "     for tag in s.find_all(\"div\", {\"class\": \"job-details\"}):\n",
    "        if type(tag) == None:\n",
    "            continue:\n",
    "            link_des = tag.get_text().strip()\n",
    "            jt = jt_find.get_text().strip()\n",
    "            big_des.append(link_des)\n",
    "            job_titles.append(jt)"
   ]
  },
  {
   "cell_type": "code",
   "execution_count": null,
   "metadata": {},
   "outputs": [],
   "source": [
    "#most commmon words\n",
    "import re\n",
    "from collections import Counter\n",
    "\n",
    "#making everything lower case\n",
    "lst_des = [x.lower() for x in big_des]\n",
    "\n",
    "#making the list 1 big string\n",
    "str1 = ''.join(str(e) for e in lst_des)\n",
    "\n",
    "#splitting the string, each element is a word from a description\n",
    "text = str1.split()\n",
    "\n",
    "#counting\n",
    "counter = Counter(text)\n",
    "occs = [(word,count) for word,count in counter.items() if count > 5]\n",
    "occs.sort(key=lambda x: x[1], reverse = True)   #sorting list by the 2nd part of each element\n",
    "\n",
    "for x in occs: print(x)"
   ]
  },
  {
   "cell_type": "code",
   "execution_count": null,
   "metadata": {},
   "outputs": [],
   "source": [
    "#df = pd.DataFrame()\n",
    "#df['Title'] = title\n",
    "#df['Links'] = hrefs\n",
    "#df['Description'] = big_des\n",
    "#df.to_csv('USYD_CareersHub_data.csv', sep = ',')"
   ]
  }
 ],
 "metadata": {
  "kernelspec": {
   "display_name": "Python 3",
   "language": "python",
   "name": "python3"
  },
  "language_info": {
   "codemirror_mode": {
    "name": "ipython",
    "version": 3
   },
   "file_extension": ".py",
   "mimetype": "text/x-python",
   "name": "python",
   "nbconvert_exporter": "python",
   "pygments_lexer": "ipython3",
   "version": "3.6.3"
  }
 },
 "nbformat": 4,
 "nbformat_minor": 2
}
