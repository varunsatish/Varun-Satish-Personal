{
 "cells": [
  {
   "cell_type": "markdown",
   "metadata": {},
   "source": [
    "# Data Visualisation\n",
    "\n",
    "Data visualisation is an important tool that a data scientist can use in order to convey ideas and find patterns within the data. It is often much easier to relate ideas with visual imagery, as it is far more intuitive to understand. Furthermore, data visualisation serves as an important 'starting point' for projects, and often this is one of the first steps for a data scientist when they are looking to conduct some analysis. Aside from this, data visualisation is important for compiling reports and using these tools can act as a means for emphasising the significance of your findings."
   ]
  },
  {
   "cell_type": "markdown",
   "metadata": {},
   "source": [
    "### Matplotlib\n",
    "\n",
    "The package we will use today is one called **matplotlib**, if you are interested it's documentation can be found here: https://matplotlib.org/index.html. This package allows us to use visualisation techniques such as plotting plots charts and histograms in a way that is extremley flexible (we are able to change fonts, colours, positioning). We will be running through some basic examples.\n",
    "\n",
    "Matplotlib essentially lets us plot items in the same way that we would be able to in MATLAB."
   ]
  },
  {
   "cell_type": "markdown",
   "metadata": {},
   "source": [
    "### Packages required: "
   ]
  },
  {
   "cell_type": "code",
   "execution_count": 1,
   "metadata": {
    "collapsed": true
   },
   "outputs": [],
   "source": [
    "import matplotlib.pyplot as plt\n",
    "import pandas as pd\n",
    "import numpy as np"
   ]
  },
  {
   "cell_type": "markdown",
   "metadata": {},
   "source": [
    "### Data\n",
    "\n",
    "Throughout this tutorial we will be using a dataset relating to the Titanic. This dataset is known for being the dataset used for Kaggle's 'tutorial' competition, it can be found here: https://www.kaggle.com/c/titanic/data. Note that when you download the dataset, we must make sure that it is in our working directory."
   ]
  },
  {
   "cell_type": "code",
   "execution_count": 2,
   "metadata": {
    "collapsed": true
   },
   "outputs": [],
   "source": [
    "df = pd.read_csv('test.csv') #make sure it is in your working directory\n",
    "df;"
   ]
  },
  {
   "cell_type": "markdown",
   "metadata": {},
   "source": [
    "### Histograms"
   ]
  },
  {
   "cell_type": "markdown",
   "metadata": {},
   "source": [
    "Often when we are conducting some form of statistical analysis, we are interested in the 'distribution' of certain features of the data. For example, we may be interested in seeing how spread out/clumped up the data is in relation to incomes. This is important because it can help to inform us about what statistical tools we should be using.\n",
    "\n",
    "*Refresher*: A histogram measures how many (frequency) observations fall into 'bins', which are ranges of values of our variables of interest.\n",
    "\n",
    "Lets say that we are interested in the distribution of the ages of those who died on the Titanic...\n",
    "\n",
    "Firstly, we must be wary that there may be problems in using certain packages when there are NaN values, we can either drop these observations completley from the data in the data cleaning process, but this might not be the best idea (what if there are other features/variables for which those observations have information?)."
   ]
  },
  {
   "cell_type": "code",
   "execution_count": 3,
   "metadata": {},
   "outputs": [
    {
     "data": {
      "image/png": "[encoded data removed]",
      "text/plain": [
       "<matplotlib.figure.Figure at 0x108d286d8>"
      ]
     },
     "metadata": {},
     "output_type": "display_data"
    }
   ],
   "source": [
    "#make sure your packages have been imported\n",
    "\n",
    "#subsetting the data we are interested in, dropping missing values\n",
    "age = df['Age'].dropna()\n",
    "\n",
    "plt.hist(age, bins= 'sqrt', color = 'Blue')  # bin choice via sqrt(n) provides something easy to understand visually\n",
    "plt.title(\"How is age distributed?\")\n",
    "plt.show()"
   ]
  },
  {
   "cell_type": "markdown",
   "metadata": {},
   "source": [
    "### Pie Charts\n",
    "\n",
    "Pie charts are an interesting way of displaying proportions. If your data is categorical, pie charts provide us with a simple way of visualising the differences between the sizes of these categorical groups.\n"
   ]
  },
  {
   "cell_type": "markdown",
   "metadata": {},
   "source": [
    "#### Indicator functions\n",
    "\n",
    "Sometimes it is required that we define some sort of indicator. This is especially true when we talk about categorical. This is something that is important not only in the context of data visualisation, but more broadly these sorts of functions allow us to bridge the gap between categorical and numerical data types.\n",
    "\n",
    "This particular indicator function iterates through elements within the column 'Sex' of our dataframe. It checks whether the element is the same as the string 'male', and if so will append a 1 to our indicator vector. If the element is 'female' (and in fact any other string), it will append a 0. From this we can calculate a proportion by summing up and dividing by length."
   ]
  },
  {
   "cell_type": "code",
   "execution_count": 4,
   "metadata": {
    "collapsed": true
   },
   "outputs": [],
   "source": [
    "indi = []\n",
    "\n",
    "for element in df['Sex']:\n",
    "    if element == 'male':\n",
    "        indi.append(1)\n",
    "    else:\n",
    "        indi.append(0)\n",
    "\n",
    "\n",
    "#A quicker way\n",
    "indi1 =  np.where(df['Sex'] == 'male',1 ,0)"
   ]
  },
  {
   "cell_type": "markdown",
   "metadata": {},
   "source": []
  },
  {
   "cell_type": "code",
   "execution_count": 5,
   "metadata": {},
   "outputs": [
    {
     "data": {
      "image/png": "[encoded data removed]",
      "text/plain": [
       "<matplotlib.figure.Figure at 0x1035ef438>"
      ]
     },
     "metadata": {},
     "output_type": "display_data"
    }
   ],
   "source": [
    "fracs = [sum(indi)/len(df),1-sum(indi)/len(df)]\n",
    "\n",
    "labels = ['Male', 'Female']\n",
    "\n",
    "plt.pie(fracs, labels=labels, autopct = '%1.1f%%', shadow=False)\n",
    "\n",
    "plt.show()"
   ]
  },
  {
   "cell_type": "markdown",
   "metadata": {},
   "source": [
    "### Combining Graphs\n",
    "\n",
    "Sometimes it is useful to be able to combine different graphs and display them simultaneously. This could be because we want to compare groups, or emphasise a difference/similarity. This package allows us to do that.\n",
    "\n",
    "Firstly, we will do an example of something similar to what we did earlier with the distribution of ages. For example, say now that we are interested not only in just the distribution of ages, but how similar the distribution of ages are across different values of a categorical variable (in our case sex, but this can be generalised)."
   ]
  },
  {
   "cell_type": "code",
   "execution_count": 6,
   "metadata": {
    "collapsed": true
   },
   "outputs": [],
   "source": [
    "male = df[df['Sex'] == 'male'] #subsets the dataframe into only those observations that are male\n",
    "female = df[df['Sex'] == 'female']"
   ]
  },
  {
   "cell_type": "markdown",
   "metadata": {},
   "source": [
    "It is important for us to keep the information that is not part of the 'Sex' category, and that is why we use the above method."
   ]
  },
  {
   "cell_type": "code",
   "execution_count": 7,
   "metadata": {},
   "outputs": [
    {
     "data": {
      "image/png": "[encoded data removed]",
      "text/plain": [
       "<matplotlib.figure.Figure at 0x10dd5a8d0>"
      ]
     },
     "metadata": {},
     "output_type": "display_data"
    }
   ],
   "source": [
    "plt.hist(male['Age'].dropna(), bins= 15, alpha = 0.5, label = 'Male')\n",
    "plt.hist(female['Age'].dropna(), bins = 15, alpha = 0.5, label = 'Female' )\n",
    "plt.title(\"How is age distributed?\")\n",
    "plt.legend(loc='upper right')\n",
    "plt.show()"
   ]
  },
  {
   "cell_type": "code",
   "execution_count": 8,
   "metadata": {
    "collapsed": true
   },
   "outputs": [],
   "source": [
    "a_cm = np.mean(male['Age'][male['Embarked'] == 'C'])\n",
    "a_qm = np.mean(male['Age'][male['Embarked'] == 'Q'])\n",
    "a_sm = np.mean(male['Age'][male['Embarked'] == 'S'])\n",
    "\n",
    "a_cf = np.mean(female['Age'][female['Embarked'] == 'C'])\n",
    "a_qf = np.mean(female['Age'][female['Embarked'] == 'Q'])\n",
    "a_sf = np.mean(female['Age'][female['Embarked'] == 'S'])\n",
    "\n",
    "age_male = [a_cm, a_qm, a_sm]\n",
    "age_female = [a_cf, a_qf, a_sf]"
   ]
  },
  {
   "cell_type": "markdown",
   "metadata": {},
   "source": [
    "Functions allow us to have much more 'elegant' solutions"
   ]
  },
  {
   "cell_type": "code",
   "execution_count": 9,
   "metadata": {
    "collapsed": true
   },
   "outputs": [],
   "source": [
    "def calc_mean_age(data,embarkment):      \n",
    "    age_mean = np.mean(data['Age'][data['Embarked'] == embarkment])\n",
    "    return age_mean"
   ]
  },
  {
   "cell_type": "code",
   "execution_count": 10,
   "metadata": {
    "collapsed": true
   },
   "outputs": [],
   "source": [
    "embarkment = ['C', 'Q', 'S']\n",
    "age_male = []\n",
    "age_female = []\n",
    "\n",
    "\n",
    "for element in embarkment:\n",
    "    mean = calc_mean_age(male,element)\n",
    "    age_male.append(mean)\n",
    "    \n",
    "for element in embarkment:\n",
    "    mean = calc_mean_age(female,element)\n",
    "    age_female.append(mean)"
   ]
  },
  {
   "cell_type": "markdown",
   "metadata": {},
   "source": [
    "We could of course iterate over the genders, this would be really useful if there were more than 2 categories, however considering we are only dealing with the case where there are 2, it isn't too hard to ommit that step."
   ]
  },
  {
   "cell_type": "code",
   "execution_count": 11,
   "metadata": {
    "collapsed": true
   },
   "outputs": [],
   "source": [
    "age_m = {\"Embarked\": ['C' ,'Q','S'], \"Means\": age_male}\n",
    "age_fm = {\"Embarked\": ['C' ,'Q','S'], \"Means\": age_female}\n",
    "\n",
    "age_m = pd.DataFrame(age_m)\n",
    "age_fm = pd.DataFrame(age_fm)"
   ]
  },
  {
   "cell_type": "markdown",
   "metadata": {},
   "source": [
    "Here, we have created a dictionary so that the dataframes we are using to plot the charts are well formatted, dictionaries are useful tool when working with categorical variables, or when looking at cross sectional data in general."
   ]
  },
  {
   "cell_type": "code",
   "execution_count": 39,
   "metadata": {},
   "outputs": [
    {
     "name": "stderr",
     "output_type": "stream",
     "text": [
      "/anaconda3/lib/python3.6/site-packages/matplotlib/cbook/deprecation.py:106: MatplotlibDeprecationWarning: Adding an axes using the same arguments as a previous axes currently reuses the earlier instance.  In a future version, a new instance will always be created and returned.  Meanwhile, this warning can be suppressed, and the future behavior ensured, by passing a unique label to each axes instance.\n",
      "  warnings.warn(message, mplDeprecation, stacklevel=1)\n"
     ]
    },
    {
     "data": {
      "image/png": "[encoded data removed]",
      "text/plain": [
       "<matplotlib.figure.Figure at 0x10e0ba470>"
      ]
     },
     "metadata": {},
     "output_type": "display_data"
    }
   ],
   "source": [
    "fig = plt.figure() # Create matplotlib figure\n",
    "ax = fig.add_subplot(111) # Create matplotlib axes\n",
    "ax2 = fig.add_subplot(111)\n",
    "\n",
    "width = 0.25\n",
    "\n",
    "age_m.Means.plot(kind='bar', color='red', ax=ax, width=width, position=1)\n",
    "age_fm.Means.plot(kind='bar', color='blue', ax=ax2, width=width, position=0)\n",
    "\n",
    "plt.title(\"Average ages for Men and Women across Embarkment points\")\n",
    "plt.xticks(np.arange(3), ('Cherbourg', 'Queenstown', 'Southampton'), rotation = 360)\n",
    "\n",
    "plt.show()"
   ]
  }
 ],
 "metadata": {
  "kernelspec": {
   "display_name": "Python 3",
   "language": "python",
   "name": "python3"
  },
  "language_info": {
   "codemirror_mode": {
    "name": "ipython",
    "version": 3
   },
   "file_extension": ".py",
   "mimetype": "text/x-python",
   "name": "python",
   "nbconvert_exporter": "python",
   "pygments_lexer": "ipython3",
   "version": "3.6.3"
  }
 },
 "nbformat": 4,
 "nbformat_minor": 2
}
