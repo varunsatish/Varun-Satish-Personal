{
 "cells": [
  {
   "cell_type": "code",
   "execution_count": 10,
   "metadata": {},
   "outputs": [],
   "source": [
    "import unittest"
   ]
  },
  {
   "cell_type": "markdown",
   "metadata": {},
   "source": [
    "Since I am using functions from a script (a .py file) that I have written myself, I need to import this script. The `sys.path.insert` command to ensure that Python can find where my script is located. You don't have to do this, this is a very general way of writing the functions, you can also define them within the notebook"
   ]
  },
  {
   "cell_type": "code",
   "execution_count": 22,
   "metadata": {},
   "outputs": [],
   "source": [
    "import sys\n",
    "sys.path.insert(0, \"/Users/varunsatish/\")\n",
    "import calc"
   ]
  },
  {
   "cell_type": "markdown",
   "metadata": {},
   "source": [
    "The calc script is made of elementary functions defining addition, subtraction, division and multiplication of scalars. For example `calc.add(5,10)` returns `15`. This will work for functions defined within the `calc` script, however I will define the functions in the notebook as well for simplicity."
   ]
  },
  {
   "cell_type": "code",
   "execution_count": 30,
   "metadata": {},
   "outputs": [],
   "source": [
    "def add(x,y):\n",
    "    #Add Function\n",
    "    return x + y\n",
    "\n",
    "def subtract(x,y):\n",
    "    #Subtract function\n",
    "    return x - y\n",
    "\n",
    "def multiply(x,y):\n",
    "    #Multiply function\n",
    "    return x * y\n",
    "\n",
    "def divide(x,y):\n",
    "    #Divide Function\n",
    "\n",
    "    if y == 0:\n",
    "        print(\"Cannot Divide by 0\")\n",
    "    else:\n",
    "        return x/y"
   ]
  },
  {
   "cell_type": "code",
   "execution_count": 31,
   "metadata": {},
   "outputs": [],
   "source": [
    "class TestCalc(unittest.TestCase):\n",
    "\n",
    "    def test_add(self):\n",
    "        result = calc.add(10,5)\n",
    "        self.assertEqual(result,15)"
   ]
  },
  {
   "cell_type": "code",
   "execution_count": 34,
   "metadata": {},
   "outputs": [
    {
     "name": "stderr",
     "output_type": "stream",
     "text": [
      ".\n",
      "----------------------------------------------------------------------\n",
      "Ran 1 test in 0.010s\n",
      "\n",
      "OK\n"
     ]
    }
   ],
   "source": [
    "if __name__ == '__main__':\n",
    "    unittest.main(argv=['first-arg-is-ignored'], exit=False)"
   ]
  },
  {
   "cell_type": "markdown",
   "metadata": {},
   "source": [
    "This function ran the test, and since it has printed `OK` it means that the test(s) that were run were all successful. It is important that **functions begin with the prefix `test`**."
   ]
  },
  {
   "cell_type": "markdown",
   "metadata": {},
   "source": [
    "Now that we have a basic understanding of what is going on, we can attempt to run more complicated tests -- we can test all of our functions, as well as testing different 'edge cases'."
   ]
  },
  {
   "cell_type": "code",
   "execution_count": 38,
   "metadata": {},
   "outputs": [
    {
     "name": "stderr",
     "output_type": "stream",
     "text": [
      ".\n",
      "----------------------------------------------------------------------\n",
      "Ran 1 test in 0.002s\n",
      "\n",
      "OK\n"
     ]
    }
   ],
   "source": [
    "def test_add(self):\n",
    "    self.assertEqual(calc.add(10,5),15)\n",
    "    self.assertEqual(calc.add(-1,1),0)\n",
    "    self.assertEqual(calc.add(-1,-1),-2)\n",
    "\n",
    "def test_subtract(self):\n",
    "    self.assertEqual(calc.subtract(10,5),5)\n",
    "    self.assertEqual(calc.subtract(-1,1),-2)\n",
    "    self.assertEqual(calc.subtract(-1,-1),0)\n",
    "    \n",
    "if __name__ == '__main__':\n",
    "    unittest.main(argv=['first-arg-is-ignored'], exit=False)"
   ]
  },
  {
   "cell_type": "markdown",
   "metadata": {},
   "source": [
    "##Coming Soon: "
   ]
  }
 ],
 "metadata": {
  "kernelspec": {
   "display_name": "Python 3",
   "language": "python",
   "name": "python3"
  },
  "language_info": {
   "codemirror_mode": {
    "name": "ipython",
    "version": 3
   },
   "file_extension": ".py",
   "mimetype": "text/x-python",
   "name": "python",
   "nbconvert_exporter": "python",
   "pygments_lexer": "ipython3",
   "version": "3.6.3"
  }
 },
 "nbformat": 4,
 "nbformat_minor": 2
}
