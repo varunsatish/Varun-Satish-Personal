{
 "cells": [
  {
   "cell_type": "code",
   "execution_count": 1,
   "metadata": {
    "collapsed": true
   },
   "outputs": [],
   "source": [
    "import  pandas  as pd\n",
    "import  urllib\n",
    "from  bs4  import  BeautifulSoup \n",
    "import lxml"
   ]
  },
  {
   "cell_type": "code",
   "execution_count": 5,
   "metadata": {
    "collapsed": true
   },
   "outputs": [],
   "source": [
    "link = \"http://www.nationmaster.com/country-info/stats/Geography/Average-rainfall-in-depth/Mm-per-year\"\n",
    "page = urllib.request.urlopen(link).read().decode('utf-8')\n",
    "soup = BeautifulSoup(page, \"html.parser\")"
   ]
  },
  {
   "cell_type": "code",
   "execution_count": 17,
   "metadata": {
    "collapsed": true
   },
   "outputs": [],
   "source": [
    "country_raw = []\n",
    "data = []"
   ]
  },
  {
   "cell_type": "code",
   "execution_count": 49,
   "metadata": {
    "collapsed": true
   },
   "outputs": [],
   "source": [
    "for tag in soup.findAll('span',{'class':'full'}):\n",
    "    country_raw.append(tag.text.strip())"
   ]
  },
  {
   "cell_type": "code",
   "execution_count": 121,
   "metadata": {},
   "outputs": [
    {
     "data": {
      "text/plain": [
       "243"
      ]
     },
     "execution_count": 121,
     "metadata": {},
     "output_type": "execute_result"
    }
   ],
   "source": [
    "upper_bound = country_raw.index(\"Sao Tome and Principe\")\n",
    "lower_bound = upper_bound + 243\n",
    "country1 = country_raw[0 + upper_bound:lower_bound]\n",
    "len(country1)"
   ]
  },
  {
   "cell_type": "code",
   "execution_count": 285,
   "metadata": {
    "collapsed": true
   },
   "outputs": [],
   "source": [
    "data = []\n",
    "country = []\n",
    "mm = []\n",
    "\n",
    "for tag in soup.findAll('td'):\n",
    "    data.append(tag.text.strip())            "
   ]
  },
  {
   "cell_type": "code",
   "execution_count": 286,
   "metadata": {
    "collapsed": true
   },
   "outputs": [],
   "source": [
    "for element in data[::5]:\n",
    "    if element in data:\n",
    "        data.remove(element)"
   ]
  },
  {
   "cell_type": "code",
   "execution_count": 295,
   "metadata": {
    "collapsed": true
   },
   "outputs": [],
   "source": [
    "if '2008' in data: data.remove('2008')\n",
    "\n",
    "strange = ['0','1','2','3','4','5','6','7','8','9']\n",
    "years = ['2008']\n",
    "\n",
    "for element in data:\n",
    "     if any(c in element for c in strange):\n",
    "                mm.append(element);\n",
    "                country.append(data[data.index(element)-1]);    "
   ]
  },
  {
   "cell_type": "code",
   "execution_count": 302,
   "metadata": {
    "collapsed": true
   },
   "outputs": [],
   "source": [
    "Precipitation = pd.DataFrame(country);\n",
    "Precipitation['Precipitation in Millimetres'] = pd.DataFrame(mm);\n",
    "Precipitation = Precipitation.rename(columns = {0:'Country'});"
   ]
  },
  {
   "cell_type": "code",
   "execution_count": 304,
   "metadata": {
    "collapsed": true
   },
   "outputs": [],
   "source": [
    "Precipitation.to_csv('Precipitation.csv', sep = ',');"
   ]
  },
  {
   "cell_type": "code",
   "execution_count": null,
   "metadata": {
    "collapsed": true
   },
   "outputs": [],
   "source": []
  }
 ],
 "metadata": {
  "kernelspec": {
   "display_name": "Python 3",
   "language": "python",
   "name": "python3"
  },
  "language_info": {
   "codemirror_mode": {
    "name": "ipython",
    "version": 3
   },
   "file_extension": ".py",
   "mimetype": "text/x-python",
   "name": "python",
   "nbconvert_exporter": "python",
   "pygments_lexer": "ipython3",
   "version": "3.6.3"
  }
 },
 "nbformat": 4,
 "nbformat_minor": 2
}
