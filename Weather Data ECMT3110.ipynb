{
 "cells": [
  {
   "cell_type": "code",
   "execution_count": 209,
   "metadata": {
    "collapsed": true
   },
   "outputs": [],
   "source": [
    "import pandas as pd\n",
    "import urllib\n",
    "from bs4 import BeautifulSoup\n",
    "import lxml"
   ]
  },
  {
   "cell_type": "code",
   "execution_count": 210,
   "metadata": {
    "collapsed": true
   },
   "outputs": [],
   "source": [
    "link = \"https://en.wikipedia.org/wiki/List_of_countries_by_greenhouse_gas_emissions\"\n",
    "page = urllib.request.urlopen(link).read().decode('utf-8')\n",
    "soup = BeautifulSoup(page, \"html.parser\")"
   ]
  },
  {
   "cell_type": "code",
   "execution_count": 211,
   "metadata": {},
   "outputs": [],
   "source": [
    "table = soup.find(\"table\", { \"class\" : \"wikitable sortable\" })\n",
    "country_raw = []\n",
    "GHG = []\n",
    "percentage = []\n",
    "\n",
    "country_raw.append(\"World\")"
   ]
  },
  {
   "cell_type": "code",
   "execution_count": 212,
   "metadata": {},
   "outputs": [],
   "source": [
    "#statistics\n",
    "\n",
    "for row in table.findAll(\"tr\"):\n",
    "    cells = row.findAll(\"td\")\n",
    "    #For each \"tr\", assign each \"td\" to a variable.\n",
    "    if len(cells) == 3:\n",
    "        GHG.append(cells[1].text)\n",
    "        percentage.append(cells[2].find(text=True))"
   ]
  },
  {
   "cell_type": "code",
   "execution_count": 213,
   "metadata": {},
   "outputs": [],
   "source": [
    "#countries\n",
    "\n",
    "for a in soup.findAll('a', title=True):\n",
    "    country_raw.append(a['title'])\n"
   ]
  },
  {
   "cell_type": "code",
   "execution_count": 214,
   "metadata": {},
   "outputs": [],
   "source": [
    "#countries pick up extra elements, trying to just use the countries\n",
    "\n",
    "upper_bound = country_raw.index(\"China\")\n",
    "lower_bound = country_raw.index(\"Nauru\") + 1 "
   ]
  },
  {
   "cell_type": "code",
   "execution_count": 217,
   "metadata": {},
   "outputs": [],
   "source": [
    "country = country_raw[0 + upper_bound:lower_bound]\n",
    "country.insert(0, \"World\")"
   ]
  },
  {
   "cell_type": "code",
   "execution_count": 223,
   "metadata": {},
   "outputs": [],
   "source": [
    "Greenhouse = pd.DataFrame(country)\n",
    "Greenhouse['Percentage of Global Total'] = pd.DataFrame(percentage)\n",
    "Greenhouse['GHG Emissions'] = pd.DataFrame(GHG)\n",
    "Greenhouse = Greenhouse.rename(columns = {0:'Country'})"
   ]
  },
  {
   "cell_type": "code",
   "execution_count": 226,
   "metadata": {},
   "outputs": [],
   "source": [
    "Greenhouse.to_csv('Greenhouse.csv', sep = ',')"
   ]
  },
  {
   "cell_type": "code",
   "execution_count": 191,
   "metadata": {},
   "outputs": [
    {
     "ename": "AttributeError",
     "evalue": "ResultSet object has no attribute 'replace'. You're probably treating a list of items like a single item. Did you call find_all() when you meant to call find()?",
     "output_type": "error",
     "traceback": [
      "\u001b[0;31m---------------------------------------------------------------------------\u001b[0m",
      "\u001b[0;31mAttributeError\u001b[0m                            Traceback (most recent call last)",
      "\u001b[0;32m<ipython-input-191-b6b2561cb8e3>\u001b[0m in \u001b[0;36m<module>\u001b[0;34m()\u001b[0m\n\u001b[1;32m      1\u001b[0m \u001b[0mstring\u001b[0m \u001b[0;34m=\u001b[0m \u001b[0mcells\u001b[0m\u001b[0;34m[\u001b[0m\u001b[0;36m1\u001b[0m\u001b[0;34m]\u001b[0m\u001b[0;34m.\u001b[0m\u001b[0mfindAll\u001b[0m\u001b[0;34m(\u001b[0m\u001b[0mtext\u001b[0m\u001b[0;34m=\u001b[0m\u001b[0;32mTrue\u001b[0m\u001b[0;34m)\u001b[0m\u001b[0;34m\u001b[0m\u001b[0m\n\u001b[0;32m----> 2\u001b[0;31m \u001b[0mstring\u001b[0m\u001b[0;34m.\u001b[0m\u001b[0mreplace\u001b[0m\u001b[0;34m(\u001b[0m\u001b[0;34m\"[\"\u001b[0m\u001b[0;34m,\u001b[0m\u001b[0;34m\"\"\u001b[0m\u001b[0;34m)\u001b[0m\u001b[0;34m\u001b[0m\u001b[0m\n\u001b[0m",
      "\u001b[0;32m/anaconda3/lib/python3.6/site-packages/bs4/element.py\u001b[0m in \u001b[0;36m__getattr__\u001b[0;34m(self, key)\u001b[0m\n\u001b[1;32m   1805\u001b[0m     \u001b[0;32mdef\u001b[0m \u001b[0m__getattr__\u001b[0m\u001b[0;34m(\u001b[0m\u001b[0mself\u001b[0m\u001b[0;34m,\u001b[0m \u001b[0mkey\u001b[0m\u001b[0;34m)\u001b[0m\u001b[0;34m:\u001b[0m\u001b[0;34m\u001b[0m\u001b[0m\n\u001b[1;32m   1806\u001b[0m         raise AttributeError(\n\u001b[0;32m-> 1807\u001b[0;31m             \u001b[0;34m\"ResultSet object has no attribute '%s'. You're probably treating a list of items like a single item. Did you call find_all() when you meant to call find()?\"\u001b[0m \u001b[0;34m%\u001b[0m \u001b[0mkey\u001b[0m\u001b[0;34m\u001b[0m\u001b[0m\n\u001b[0m\u001b[1;32m   1808\u001b[0m         )\n",
      "\u001b[0;31mAttributeError\u001b[0m: ResultSet object has no attribute 'replace'. You're probably treating a list of items like a single item. Did you call find_all() when you meant to call find()?"
     ]
    }
   ],
   "source": []
  },
  {
   "cell_type": "code",
   "execution_count": 178,
   "metadata": {},
   "outputs": [
    {
     "data": {
      "text/plain": [
       "['World',\n",
       " 'China',\n",
       " 'United States',\n",
       " 'European Union',\n",
       " 'European Union',\n",
       " 'India',\n",
       " 'Russia',\n",
       " 'Japan',\n",
       " 'Brazil',\n",
       " 'Germany',\n",
       " 'Indonesia',\n",
       " 'Canada',\n",
       " 'Mexico',\n",
       " 'Iran',\n",
       " 'South Korea',\n",
       " 'Australia',\n",
       " 'Saudi Arabia',\n",
       " 'United Kingdom',\n",
       " 'South Africa',\n",
       " 'France',\n",
       " 'Italy',\n",
       " 'Turkey',\n",
       " 'Ukraine',\n",
       " 'Thailand',\n",
       " 'Poland',\n",
       " 'Argentina',\n",
       " 'Pakistan',\n",
       " 'Kazakhstan',\n",
       " 'Spain',\n",
       " 'Nigeria',\n",
       " 'Malaysia',\n",
       " 'Iraq',\n",
       " 'Egypt',\n",
       " 'Venezuela',\n",
       " 'Vietnam',\n",
       " 'Uzbekistan',\n",
       " 'United Arab Emirates',\n",
       " 'Kuwait',\n",
       " 'Algeria',\n",
       " 'Netherlands',\n",
       " 'Philippines',\n",
       " 'Bangladesh',\n",
       " 'Colombia',\n",
       " 'Angola',\n",
       " 'Libya',\n",
       " 'Ethiopia',\n",
       " 'Czech Republic',\n",
       " 'Belgium',\n",
       " 'Turkmenistan',\n",
       " 'Romania',\n",
       " 'Chile',\n",
       " 'Oman',\n",
       " 'Myanmar',\n",
       " 'Belarus',\n",
       " 'Israel',\n",
       " 'Greece',\n",
       " 'Peru',\n",
       " 'Cameroon',\n",
       " 'Qatar',\n",
       " 'Morocco',\n",
       " 'Austria',\n",
       " 'Tanzania',\n",
       " 'New Zealand',\n",
       " 'Azerbaijan',\n",
       " 'Syria',\n",
       " 'North Korea',\n",
       " 'Finland',\n",
       " 'Portugal',\n",
       " 'Kenya',\n",
       " 'Republic of Ireland',\n",
       " 'Serbia',\n",
       " 'Ecuador',\n",
       " 'Hungary',\n",
       " 'Bulgaria',\n",
       " 'Singapore',\n",
       " 'Denmark',\n",
       " 'Switzerland',\n",
       " 'Sweden',\n",
       " 'Zambia',\n",
       " 'Central African Republic',\n",
       " 'Bolivia',\n",
       " 'Norway',\n",
       " 'Cuba',\n",
       " 'Afghanistan',\n",
       " 'Slovakia',\n",
       " 'Democratic Republic of the Congo',\n",
       " 'Mongolia',\n",
       " 'Sri Lanka',\n",
       " 'Paraguay',\n",
       " 'Nepal',\n",
       " 'Tunisia',\n",
       " 'Yemen',\n",
       " 'Uruguay',\n",
       " 'Bahrain',\n",
       " 'Uganda',\n",
       " 'Dominican Republic',\n",
       " 'Ivory Coast',\n",
       " 'Ghana',\n",
       " 'Jordan',\n",
       " 'Mali',\n",
       " 'Bosnia and Herzegovina',\n",
       " 'Chad',\n",
       " 'Mozambique',\n",
       " 'Zimbabwe',\n",
       " 'Cambodia',\n",
       " 'Lebanon',\n",
       " 'Guatemala',\n",
       " 'Niger',\n",
       " 'Madagascar',\n",
       " 'Trinidad and Tobago',\n",
       " 'Senegal',\n",
       " 'Burkina Faso',\n",
       " 'Croatia',\n",
       " 'Estonia',\n",
       " 'Honduras',\n",
       " 'Equatorial Guinea',\n",
       " 'Lithuania',\n",
       " 'Brunei',\n",
       " 'Slovenia',\n",
       " 'Panama',\n",
       " 'Guinea',\n",
       " 'Papua New Guinea',\n",
       " 'Kyrgyzstan',\n",
       " 'Georgia (country)',\n",
       " 'Nicaragua',\n",
       " 'Costa Rica',\n",
       " 'Botswana',\n",
       " 'Latvia',\n",
       " 'Benin',\n",
       " 'Republic of Macedonia',\n",
       " 'El Salvador',\n",
       " 'Laos',\n",
       " 'Moldova',\n",
       " 'Luxembourg',\n",
       " 'Namibia',\n",
       " 'Mauritania',\n",
       " 'Tajikistan',\n",
       " 'Malawi',\n",
       " 'Belize',\n",
       " 'Jamaica',\n",
       " 'Armenia',\n",
       " 'Albania',\n",
       " 'Haiti',\n",
       " 'The Gambia',\n",
       " 'Gabon',\n",
       " 'Republic of the Congo',\n",
       " 'Cyprus',\n",
       " 'Sierra Leone',\n",
       " 'Eritrea',\n",
       " 'Rwanda',\n",
       " 'Togo',\n",
       " 'Mauritius',\n",
       " 'Lesotho',\n",
       " 'Guyana',\n",
       " 'Barbados',\n",
       " 'The Bahamas',\n",
       " 'Montenegro',\n",
       " 'Suriname',\n",
       " 'Burundi',\n",
       " 'Malta',\n",
       " 'Iceland',\n",
       " 'Swaziland',\n",
       " 'Fiji',\n",
       " 'Liberia',\n",
       " 'Grenada',\n",
       " 'Guinea-Bissau',\n",
       " 'Bhutan',\n",
       " 'Djibouti',\n",
       " 'Maldives',\n",
       " 'Saint Lucia',\n",
       " 'Antigua and Barbuda',\n",
       " 'Seychelles',\n",
       " 'Vanuatu',\n",
       " 'Cape Verde',\n",
       " 'Solomon Islands',\n",
       " 'Samoa',\n",
       " 'Saint Kitts and Nevis',\n",
       " 'Tonga',\n",
       " 'Comoros',\n",
       " 'Palau',\n",
       " 'Saint Vincent and the Grenadines',\n",
       " 'Dominica',\n",
       " 'São Tomé and Príncipe',\n",
       " 'Cook Islands',\n",
       " 'Niue',\n",
       " 'Kiribati',\n",
       " 'Nauru']"
      ]
     },
     "execution_count": 178,
     "metadata": {},
     "output_type": "execute_result"
    }
   ],
   "source": []
  },
  {
   "cell_type": "code",
   "execution_count": null,
   "metadata": {
    "collapsed": true
   },
   "outputs": [],
   "source": []
  }
 ],
 "metadata": {
  "kernelspec": {
   "display_name": "Python 3",
   "language": "python",
   "name": "python3"
  },
  "language_info": {
   "codemirror_mode": {
    "name": "ipython",
    "version": 3
   },
   "file_extension": ".py",
   "mimetype": "text/x-python",
   "name": "python",
   "nbconvert_exporter": "python",
   "pygments_lexer": "ipython3",
   "version": "3.6.3"
  }
 },
 "nbformat": 4,
 "nbformat_minor": 2
}
